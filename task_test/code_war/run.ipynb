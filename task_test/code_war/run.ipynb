{
 "cells": [
  {
   "cell_type": "code",
   "execution_count": 6,
   "id": "82f18e53",
   "metadata": {},
   "outputs": [
    {
     "name": "stdout",
     "output_type": "stream",
     "text": [
      "[[3, 2, 1, 0], [2, 1, 0], [1, 0], [0], []]\n",
      "None\n",
      "None\n",
      "[[8, 7, 6, 5, 4, 3, 2, 1, 0], [7, 6, 5, 4, 3, 2, 1, 0], [6, 5, 4, 3, 2, 1, 0], [5, 4, 3, 2, 1, 0], [4, 3, 2, 1, 0], [3, 2, 1, 0], [2, 1, 0], [1, 0], [0], []]\n",
      "None\n",
      "None\n"
     ]
    }
   ],
   "source": [
    "class Reverse_seq():\n",
    "    def __init__(self, n):\n",
    "        self._n = n\n",
    "        self._ls = []\n",
    "    def cheak(self, str_: str):\n",
    "        pass\n",
    "\n",
    "    def str_c(self):\n",
    "        num = [i for i in range(self._n)]\n",
    "\n",
    "        return num[::-1]\n",
    "\n",
    "\n",
    "    def ret_count_str(self):\n",
    "        ap = []\n",
    "        count = 0\n",
    "        for _ in range(self._n):\n",
    "            self._n -= 1\n",
    "            ap.append(self.str_c())\n",
    "        print(ap)\n",
    "\n",
    "def main(n: int):\n",
    "    ret = Reverse_seq(n)\n",
    "    log = ret.ret_count_str()\n",
    "\n",
    "    print(log)\n",
    "\n",
    "\n",
    "\n",
    "\n",
    "\n",
    "if __name__ == \"__main__\":\n",
    "    log = main(5)\n",
    "    print(log)\n",
    "    log = main(10)\n",
    "    print(log)"
   ]
  },
  {
   "cell_type": "code",
   "execution_count": 3,
   "id": "9dc1a13f",
   "metadata": {},
   "outputs": [
    {
     "name": "stdout",
     "output_type": "stream",
     "text": [
      "[{'id': 50,\n",
      "  'name': 'Double Char',\n",
      "  'task': 'Учитывая строку, необходимо вернуть строку, в которой каждый символ '\n",
      "          '(с учетом регистра) повторяется один раз.'},\n",
      " {'id': 49,\n",
      "  'name': 'All Star Code Challenge #18',\n",
      "  'task': 'Создайте функцию, которая принимает строку и один символ и '\n",
      "          'возвращает целое число, равное количеству вхождений второго '\n",
      "          'аргумента в первый. Если вхождений не найдено, следует вернуть 0.'}]\n"
     ]
    }
   ],
   "source": [
    "import json\n",
    "import random\n",
    "import pprint as pprint\n",
    "\n",
    "with open(\"task_code_war.json\", \"r\", encoding=\"utf-8\") as file:\n",
    "    data = json.load(file)\n",
    "pprint.pprint(data[0:2])\n"
   ]
  },
  {
   "cell_type": "code",
   "execution_count": 2,
   "id": "db7b55c8",
   "metadata": {},
   "outputs": [],
   "source": [
    "import json\n",
    "import pprint as pprint\n",
    "import os\n",
    "\n",
    "sor_list = [\n",
    "    {\n",
    "        \"id\": 50,\n",
    "        \"name\": \"Double Char\",\n",
    "        \"task\": \"Учитывая строку, необходимо вернуть строку, в которой каждый символ (с учетом регистра) повторяется один раз.\",\n",
    "    }\n",
    "]\n",
    "\n",
    "\n",
    "def add_in_js(file_path: str, add_dict: dict):\n",
    "    dic = {}\n",
    "    # Если файла нет — создаём пустой\n",
    "    if not os.path.exists(file_path):\n",
    "        with open(file_path, \"w\", encoding=\"utf-8\") as f:\n",
    "            json.dump([], f, ensure_ascii=False, indent=4)\n",
    "\n",
    "    # Загружаем существующие данные\n",
    "    with open(file_path, \"r\", encoding=\"utf-8\") as file:\n",
    "        data = json.load(file)\n",
    "\n",
    "    # Проверяем уникальность\n",
    "    for key in add_dict:\n",
    "        for dat in data:\n",
    "            if key.get(\"id\") == dat.get(\"id\"):\n",
    "                print(f\"⚠ Запись с {key.get('id')}\")\n",
    "                return False\n",
    "            if key.get(\"name\") == dat.get(\"name\"):\n",
    "                print(f\"Уже есть {key.get('name')}\")\n",
    "                return False\n",
    "            if key.get(\"task\") == dat.get(\"task\"):\n",
    "                print(f\"task in {key.get('task')}\")\n",
    "                return False\n",
    "        dic = key\n",
    "\n",
    "    # Обновляем данные. Вставляем в начало\n",
    "    data.insert(0, dic)\n",
    "\n",
    "    # Перезаписываем файл\n",
    "    with open(file_path, \"w\", encoding=\"utf-8\") as file:\n",
    "        json.dump(data, file, ensure_ascii=False, indent=4)\n",
    "\n",
    "\n",
    "if __name__ == \"__main__\":\n",
    "    file = \"task_code_war.json\"\n",
    "    log = add_in_js(file, sor_list)"
   ]
  },
  {
   "cell_type": "code",
   "execution_count": 128,
   "id": "5362f6e7",
   "metadata": {},
   "outputs": [
    {
     "name": "stdout",
     "output_type": "stream",
     "text": [
      "[{'id': 34,\n",
      "  'name': '',\n",
      "  'task': 'Возьмите массив и удалите из него каждый второй элемент. Всегда '\n",
      "          'сохраняйте первый элемент и начинайте удаление со следующего '\n",
      "          'элемента. [keep, Remove, keep, Remove]'}]\n"
     ]
    }
   ],
   "source": [
    "import random\n",
    "import pprint as pprint\n",
    "\n",
    "r_choice = random.choices(data)\n",
    "pprint.pprint(r_choice)"
   ]
  }
 ],
 "metadata": {
  "kernelspec": {
   "display_name": ".venv",
   "language": "python",
   "name": "python3"
  },
  "language_info": {
   "codemirror_mode": {
    "name": "ipython",
    "version": 3
   },
   "file_extension": ".py",
   "mimetype": "text/x-python",
   "name": "python",
   "nbconvert_exporter": "python",
   "pygments_lexer": "ipython3",
   "version": "3.13.7"
  }
 },
 "nbformat": 4,
 "nbformat_minor": 5
}
