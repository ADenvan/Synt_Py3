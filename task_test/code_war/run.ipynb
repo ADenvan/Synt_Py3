{
 "cells": [
  {
   "cell_type": "code",
   "execution_count": null,
   "id": "82f18e53",
   "metadata": {},
   "outputs": [
    {
     "name": "stdout",
     "output_type": "stream",
     "text": [
      "1\n",
      "4\n"
     ]
    }
   ],
   "source": [
    "class First_non_consecutive():\n",
    "    def __init__(self, n):\n",
    "        self._n = n\n",
    "        self._ls = []\n",
    "\n",
    "    def cheak_(self):\n",
    "        ret = len(self._n)\n",
    "        return ret\n",
    "\n",
    "    def cpace_(self):\n",
    "        n = self._n\n",
    "        i = n[0]\n",
    "        for i in range(i, n[-1]):\n",
    "            yield i\n",
    "\n",
    "\n",
    "    def ret_(self):\n",
    "        ls = self._n\n",
    "        idx = self.cpace_()\n",
    "        for i in ls:\n",
    "            if idx != i:\n",
    "                return i\n",
    "                # print(ls[i], \" -\", i)\n",
    "\n",
    "\n",
    "def main(n: list):\n",
    "\n",
    "    ret = First_non_consecutive(n)\n",
    "    log = ret.ret_()\n",
    "\n",
    "if __name__ == \"__main__\":\n",
    "    ls = [1,2,3,4,6,7,8]\n",
    "    log = main(ls)\n",
    "    print(log)\n",
    "\n",
    "    ls_2 = [4,5,6,7,8,9,11]\n",
    "    log = main(ls_2)\n",
    "    print(log)"
   ]
  },
  {
   "cell_type": "code",
   "execution_count": 4,
   "id": "9dc1a13f",
   "metadata": {},
   "outputs": [
    {
     "name": "stdout",
     "output_type": "stream",
     "text": [
      "[{'id': 52,\n",
      "  'name': 'Find the first non-consecutive number',\n",
      "  'task': 'Например, если у нас есть массив [1, 2, 3, 4, 6, 7, 8], то 1, 2, 3, '\n",
      "          '4 — все последовательные числа, а 6 — нет, поэтому это первое '\n",
      "          'непоследовательное число. Если весь массив последовательный, вернём '\n",
      "          'null2.'},\n",
      " {'id': 51,\n",
      "  'name': 'Reversed sequence',\n",
      "  'task': 'Создайте функцию, которая возвращает массив целых чисел от n до 1, '\n",
      "          'где n>0.'}]\n"
     ]
    }
   ],
   "source": [
    "import json\n",
    "import random\n",
    "import pprint as pprint\n",
    "\n",
    "with open(\"task_code_war.json\", \"r\", encoding=\"utf-8\") as file:\n",
    "    data = json.load(file)\n",
    "pprint.pprint(data[0:2])\n"
   ]
  },
  {
   "cell_type": "code",
   "execution_count": 3,
   "id": "db7b55c8",
   "metadata": {},
   "outputs": [],
   "source": [
    "import json\n",
    "import pprint as pprint\n",
    "import os\n",
    "\n",
    "sor_list = [\n",
    "    {\n",
    "        \"id\": 52,\n",
    "        \"name\": \"Find the first non-consecutive number\",\n",
    "        \"task\": \"Например, если у нас есть массив [1, 2, 3, 4, 6, 7, 8], то 1, 2, 3, 4 — все последовательные числа, а 6 — нет, поэтому это первое непоследовательное число. Если весь массив последовательный, вернём null2.\",\n",
    "    }\n",
    "]\n",
    "\n",
    "\n",
    "def add_in_js(file_path: str, add_dict: dict):\n",
    "    dic = {}\n",
    "    # Если файла нет — создаём пустой\n",
    "    if not os.path.exists(file_path):\n",
    "        with open(file_path, \"w\", encoding=\"utf-8\") as f:\n",
    "            json.dump([], f, ensure_ascii=False, indent=4)\n",
    "\n",
    "    # Загружаем существующие данные\n",
    "    with open(file_path, \"r\", encoding=\"utf-8\") as file:\n",
    "        data = json.load(file)\n",
    "\n",
    "    # Проверяем уникальность\n",
    "    for key in add_dict:\n",
    "        for dat in data:\n",
    "            if key.get(\"id\") == dat.get(\"id\"):\n",
    "                print(f\"⚠ Запись с {key.get('id')}\")\n",
    "                return False\n",
    "            if key.get(\"name\") == dat.get(\"name\"):\n",
    "                print(f\"Уже есть {key.get('name')}\")\n",
    "                return False\n",
    "            if key.get(\"task\") == dat.get(\"task\"):\n",
    "                print(f\"task in {key.get('task')}\")\n",
    "                return False\n",
    "        dic = key\n",
    "\n",
    "    # Обновляем данные. Вставляем в начало\n",
    "    data.insert(0, dic)\n",
    "\n",
    "    # Перезаписываем файл\n",
    "    with open(file_path, \"w\", encoding=\"utf-8\") as file:\n",
    "        json.dump(data, file, ensure_ascii=False, indent=4)\n",
    "\n",
    "\n",
    "if __name__ == \"__main__\":\n",
    "    file = \"task_code_war.json\"\n",
    "    log = add_in_js(file, sor_list)"
   ]
  },
  {
   "cell_type": "code",
   "execution_count": 128,
   "id": "5362f6e7",
   "metadata": {},
   "outputs": [
    {
     "name": "stdout",
     "output_type": "stream",
     "text": [
      "[{'id': 34,\n",
      "  'name': '',\n",
      "  'task': 'Возьмите массив и удалите из него каждый второй элемент. Всегда '\n",
      "          'сохраняйте первый элемент и начинайте удаление со следующего '\n",
      "          'элемента. [keep, Remove, keep, Remove]'}]\n"
     ]
    }
   ],
   "source": [
    "import random\n",
    "import pprint as pprint\n",
    "\n",
    "r_choice = random.choices(data)\n",
    "pprint.pprint(r_choice)"
   ]
  }
 ],
 "metadata": {
  "kernelspec": {
   "display_name": ".venv",
   "language": "python",
   "name": "python3"
  },
  "language_info": {
   "codemirror_mode": {
    "name": "ipython",
    "version": 3
   },
   "file_extension": ".py",
   "mimetype": "text/x-python",
   "name": "python",
   "nbconvert_exporter": "python",
   "pygments_lexer": "ipython3",
   "version": "3.13.7"
  }
 },
 "nbformat": 4,
 "nbformat_minor": 5
}
