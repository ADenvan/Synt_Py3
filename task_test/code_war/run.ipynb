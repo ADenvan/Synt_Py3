{
 "cells": [
  {
   "cell_type": "code",
   "execution_count": null,
   "id": "d25fb328",
   "metadata": {},
   "outputs": [
    {
     "data": {
      "text/plain": [
       "'battle no requires which that is victory greatest The'"
      ]
     },
     "execution_count": 191,
     "metadata": {},
     "output_type": "execute_result"
    }
   ],
   "source": []
  },
  {
   "cell_type": "code",
   "execution_count": null,
   "id": "63f02ad6",
   "metadata": {},
   "outputs": [],
   "source": []
  },
  {
   "cell_type": "code",
   "execution_count": 194,
   "id": "9dc1a13f",
   "metadata": {},
   "outputs": [
    {
     "name": "stdout",
     "output_type": "stream",
     "text": [
      "[{'id': 42,\n",
      "  'name': 'Reversed Words',\n",
      "  'task': 'Дополните решение так, чтобы оно перевернуло все слова в переданной '\n",
      "          'строке. Слова разделяются ровно одним пробелом, начальные и '\n",
      "          'конечные пробелы отсутствуют.'},\n",
      " {'id': 41,\n",
      "  'name': 'Never visit a . . . !?',\n",
      "  'task': 'Завершите функцию, которая получает входное число n, такое, что n ≥ '\n",
      "          '10 и n < 10000, затем: Сложите все цифры числа n. Вычтите сумму из '\n",
      "          'n, и это будет ваше новое число n. Если новое число n есть в списке '\n",
      "          'ниже, верните соответствующий фрукт, в противном случае вернитесь к '\n",
      "          'заданию 1.'}]\n"
     ]
    }
   ],
   "source": [
    "import json\n",
    "import random\n",
    "import pprint as pprint\n",
    "\n",
    "with open(\"task_code_war.json\", \"r\", encoding=\"utf-8\") as file:\n",
    "    data = json.load(file)\n",
    "pprint.pprint(data[0:2])\n"
   ]
  },
  {
   "cell_type": "code",
   "execution_count": null,
   "id": "db7b55c8",
   "metadata": {},
   "outputs": [
    {
     "name": "stdout",
     "output_type": "stream",
     "text": [
      "id in 43\n"
     ]
    }
   ],
   "source": [
    "import json\n",
    "import pprint as pprint\n",
    "import os\n",
    "\n",
    "sor_list = [\n",
    "    {\n",
    "        \"id\": 43,\n",
    "        \"name\": \"Grader\",\n",
    "        \"task\": \"Создайте функцию, которая принимает число в качестве аргумента и возвращает оценку на основе этого числа.\",\n",
    "    }\n",
    "]\n",
    "\n",
    "\n",
    "def add_in_js(file_path, add_dict):\n",
    "    dic = {}\n",
    "    # Если файла нет — создаём пустой\n",
    "    if not os.path.exists(file_path):\n",
    "        with open(file_path, \"w\", encoding=\"utf-8\") as f:\n",
    "            json.dump([], f, ensure_ascii=False, indent=4)\n",
    "\n",
    "    # Загружаем существующие данные\n",
    "    with open(file_path, \"r\", encoding=\"utf-8\") as file:\n",
    "        data = json.load(file)\n",
    "\n",
    "    # Проверяем уникальность\n",
    "    for key in add_dict:\n",
    "        for dat in data:\n",
    "            if key.get(\"id\") == dat.get(\"id\"):\n",
    "                print(f\"id in {key.get('id')}\")\n",
    "                return False\n",
    "            if key.get(\"name\") == dat.get(\"name\"):\n",
    "                print(f\"Уже есть {key.get('name')}\")\n",
    "                return False\n",
    "            if key.get(\"task\") == dat.get(\"task\"):\n",
    "                print(f\"task in {key.get('task')}\")\n",
    "                return False\n",
    "        dic = key\n",
    "\n",
    "    # Обновляем данные. Вставляем в начало\n",
    "    data.insert(0, dic)\n",
    "\n",
    "    # Перезаписываем файл\n",
    "    with open(file_path, \"w\", encoding=\"utf-8\") as file:\n",
    "        json.dump(data, file, ensure_ascii=False, indent=4)\n",
    "\n",
    "\n",
    "if __name__ == \"__main__\":\n",
    "    file = \"task_code_war.json\"\n",
    "    log = add_in_js(file, sor_list)"
   ]
  },
  {
   "cell_type": "code",
   "execution_count": 128,
   "id": "5362f6e7",
   "metadata": {},
   "outputs": [
    {
     "name": "stdout",
     "output_type": "stream",
     "text": [
      "[{'id': 34,\n",
      "  'name': '',\n",
      "  'task': 'Возьмите массив и удалите из него каждый второй элемент. Всегда '\n",
      "          'сохраняйте первый элемент и начинайте удаление со следующего '\n",
      "          'элемента. [keep, Remove, keep, Remove]'}]\n"
     ]
    }
   ],
   "source": [
    "import random\n",
    "import pprint as pprint\n",
    "\n",
    "r_choice = random.choices(data)\n",
    "pprint.pprint(r_choice)"
   ]
  }
 ],
 "metadata": {
  "kernelspec": {
   "display_name": ".venv",
   "language": "python",
   "name": "python3"
  },
  "language_info": {
   "codemirror_mode": {
    "name": "ipython",
    "version": 3
   },
   "file_extension": ".py",
   "mimetype": "text/x-python",
   "name": "python",
   "nbconvert_exporter": "python",
   "pygments_lexer": "ipython3",
   "version": "3.13.7"
  }
 },
 "nbformat": 4,
 "nbformat_minor": 5
}
