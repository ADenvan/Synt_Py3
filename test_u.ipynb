{
 "cells": [
  {
   "cell_type": "code",
   "execution_count": 2,
   "id": "ec81460b",
   "metadata": {},
   "outputs": [
    {
     "name": "stderr",
     "output_type": "stream",
     "text": [
      ".\n",
      "----------------------------------------------------------------------\n",
      "Ran 1 test in 0.001s\n",
      "\n",
      "OK\n"
     ]
    },
    {
     "data": {
      "text/plain": [
       "<unittest.runner.TextTestResult run=1 errors=0 failures=0>"
      ]
     },
     "execution_count": 2,
     "metadata": {},
     "output_type": "execute_result"
    }
   ],
   "source": [
    "import unittest\n",
    "from task.AI.fundamental.fund_py import paly\n",
    "\n",
    "# from task.AI.fundamental.fund import paly\n",
    "# from solution import add, subtract\n",
    "\n",
    "\n",
    "# # Код, который мы хотим протестировать\n",
    "# def add(a, b):\n",
    "#     return a + b\n",
    "\n",
    "# Класс тестов\n",
    "class TestMath(unittest.TestCase):\n",
    "    def test_add(self):\n",
    "        self.assertEqual(paly(\"radar\"), True)\n",
    "    #     self.assertEqual(add(2, 3), 5)\n",
    "    #     self.assertEqual(add(-1, 1), 0)\n",
    "    #     self.assertNotEqual(add(2, 2), 5)\n",
    "        \n",
    "    # def test_subtract(self):\n",
    "    #     self.assertEqual(subtract(5, 3), 2)\n",
    "    #     self.assertEqual(subtract(0, 0), 0)\n",
    "    #     self.assertNotEqual(subtract(10, 4), 3)\n",
    "\n",
    "# Запуск тестов\n",
    "unittest.TextTestRunner().run(unittest.TestLoader().loadTestsFromTestCase(TestMath))\n"
   ]
  }
 ],
 "metadata": {
  "kernelspec": {
   "display_name": ".venv",
   "language": "python",
   "name": "python3"
  },
  "language_info": {
   "codemirror_mode": {
    "name": "ipython",
    "version": 3
   },
   "file_extension": ".py",
   "mimetype": "text/x-python",
   "name": "python",
   "nbconvert_exporter": "python",
   "pygments_lexer": "ipython3",
   "version": "3.12.6"
  }
 },
 "nbformat": 4,
 "nbformat_minor": 5
}
