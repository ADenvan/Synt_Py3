{
 "cells": [
  {
   "cell_type": "code",
   "execution_count": null,
   "id": "9242e2cf",
   "metadata": {},
   "outputs": [],
   "source": [
    "# Код, который мы хотим протестировать\n",
    "def add(a, b):\n",
    "    return a + b"
   ]
  },
  {
   "cell_type": "code",
   "execution_count": 9,
   "id": "4f46029f",
   "metadata": {},
   "outputs": [
    {
     "ename": "ModuleNotFoundError",
     "evalue": "No module named 'task'",
     "output_type": "error",
     "traceback": [
      "\u001b[31m---------------------------------------------------------------------------\u001b[39m",
      "\u001b[31mModuleNotFoundError\u001b[39m                       Traceback (most recent call last)",
      "\u001b[36mCell\u001b[39m\u001b[36m \u001b[39m\u001b[32mIn[9]\u001b[39m\u001b[32m, line 2\u001b[39m\n\u001b[32m      1\u001b[39m \u001b[38;5;28;01mimport\u001b[39;00m\u001b[38;5;250m \u001b[39m\u001b[34;01munittest\u001b[39;00m\n\u001b[32m----> \u001b[39m\u001b[32m2\u001b[39m \u001b[38;5;28;01mfrom\u001b[39;00m\u001b[38;5;250m \u001b[39m\u001b[34;01mtask\u001b[39;00m\u001b[34;01m.\u001b[39;00m\u001b[34;01mAI\u001b[39;00m\u001b[34;01m.\u001b[39;00m\u001b[34;01mfundamental\u001b[39;00m\u001b[34;01m.\u001b[39;00m\u001b[34;01mfund_py\u001b[39;00m\u001b[38;5;250m \u001b[39m\u001b[38;5;28;01mimport\u001b[39;00m paly\n\u001b[32m      3\u001b[39m \u001b[38;5;66;03m# from solution import add, subtract\u001b[39;00m\n\u001b[32m      4\u001b[39m \n\u001b[32m      5\u001b[39m \n\u001b[32m   (...)\u001b[39m\u001b[32m      9\u001b[39m \n\u001b[32m     10\u001b[39m \u001b[38;5;66;03m# Класс тестов\u001b[39;00m\n\u001b[32m     11\u001b[39m \u001b[38;5;28;01mclass\u001b[39;00m\u001b[38;5;250m \u001b[39m\u001b[34;01mTestMath\u001b[39;00m(unittest.TestCase):\n",
      "\u001b[31mModuleNotFoundError\u001b[39m: No module named 'task'"
     ]
    }
   ],
   "source": [
    "import unittest\n",
    "from task.AI.fundamental.fund_py import paly\n",
    "# from solution import add, subtract\n",
    "\n",
    "\n",
    "# # Код, который мы хотим протестировать\n",
    "# def add(a, b):\n",
    "#     return a + b\n",
    "\n",
    "# Класс тестов\n",
    "class TestMath(unittest.TestCase):\n",
    "    def test_add(self):\n",
    "        self.assertEqual(paly(\"radar\"), True)\n",
    "    #     self.assertEqual(add(2, 3), 5)\n",
    "    #     self.assertEqual(add(-1, 1), 0)\n",
    "    #     self.assertNotEqual(add(2, 2), 5)\n",
    "        \n",
    "    # def test_subtract(self):\n",
    "    #     self.assertEqual(subtract(5, 3), 2)\n",
    "    #     self.assertEqual(subtract(0, 0), 0)\n",
    "    #     self.assertNotEqual(subtract(10, 4), 3)\n",
    "\n",
    "# Запуск тестов\n",
    "unittest.TextTestRunner().run(unittest.TestLoader().loadTestsFromTestCase(TestMath))\n"
   ]
  },
  {
   "cell_type": "code",
   "execution_count": null,
   "id": "5dbfd587",
   "metadata": {},
   "outputs": [],
   "source": [
    "import unittest\n",
    "\n",
    "class TestMath(unittest.TestCase):\n",
    "    def test_sum(self):\n",
    "        \n",
    "        self.assertEqual(sum([1, 2, 3]), 6)\n",
    "\n",
    "unittest.main(argv=[''], exit=False)\n"
   ]
  },
  {
   "cell_type": "code",
   "execution_count": null,
   "id": "e0b99af9",
   "metadata": {},
   "outputs": [],
   "source": [
    "%%writefile solution.py\n",
    "\n",
    "def add(a, b):\n",
    "    return a + b\n",
    "\n",
    "def subtract(a, b):\n",
    "    return a - b\n"
   ]
  },
  {
   "cell_type": "code",
   "execution_count": null,
   "id": "73f462f1",
   "metadata": {},
   "outputs": [],
   "source": [
    "\n",
    "import unittest\n",
    "from solution import add, subtract\n",
    "\n",
    "class TestSolution(unittest.TestCase):\n",
    "\n",
    "    def test_add(self):\n",
    "        self.assertEqual(add(2, 3), 5)\n",
    "        self.assertEqual(add(-1, 1), 0)\n",
    "        self.assertNotEqual(add(2, 2), 5)\n",
    "\n",
    "    def test_subtract(self):\n",
    "        self.assertEqual(subtract(5, 3), 2)\n",
    "        self.assertEqual(subtract(0, 0), 0)\n",
    "        self.assertNotEqual(subtract(10, 4), 3)\n",
    "\n",
    "if __name__ == \"__main__\":\n",
    "    unittest.main()\n"
   ]
  }
 ],
 "metadata": {
  "kernelspec": {
   "display_name": ".venv",
   "language": "python",
   "name": "python3"
  },
  "language_info": {
   "codemirror_mode": {
    "name": "ipython",
    "version": 3
   },
   "file_extension": ".py",
   "mimetype": "text/x-python",
   "name": "python",
   "nbconvert_exporter": "python",
   "pygments_lexer": "ipython3",
   "version": "3.12.6"
  }
 },
 "nbformat": 4,
 "nbformat_minor": 5
}
