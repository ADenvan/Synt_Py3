{
 "cells": [
  {
   "cell_type": "code",
   "execution_count": null,
   "id": "fd469068",
   "metadata": {},
   "outputs": [
    {
     "name": "stdout",
     "output_type": "stream",
     "text": [
      "https://q-parser.ru/catalog/catalog/alehan\n",
      "https://q-parser.ru/catalog/catalog/cerenada\n",
      "https://q-parser.ru/catalog/catalog/kurtochka\n",
      "https://q-parser.ru/catalog/catalog/obuv-tut2000\n",
      "https://q-parser.ru/catalog/catalog/opt-opt-opt\n",
      "https://q-parser.ru/catalog/catalog/tara\n",
      "https://q-parser.ru/catalog/catalog/neposeda-shoes\n",
      "https://q-parser.ru/catalog/catalog/nikastyle\n",
      "https://q-parser.ru/catalog/catalog/ooomalina\n",
      "https://q-parser.ru/catalog/catalog/stomshop-pro\n",
      "https://q-parser.ru/catalog/catalog/platffin\n",
      "https://q-parser.ru/catalog/catalog/mtforce\n",
      "https://q-parser.ru/catalog/catalog/webshopdv\n",
      "https://q-parser.ru/catalog/catalog/optimumbelt\n",
      "https://q-parser.ru/catalog/catalog/gastrobox-by\n",
      "https://q-parser.ru/catalog/catalog/foodset-by\n",
      "https://q-parser.ru/catalog/catalog/e-kc\n",
      "https://q-parser.ru/catalog/catalog/shop-olekmotocykle\n",
      "https://q-parser.ru/catalog/catalog/vseinstrumenti\n",
      "https://q-parser.ru/catalog/catalog/msk-atlon-fm\n"
     ]
    }
   ],
   "source": [
    "import requests\n",
    "from bs4 import BeautifulSoup\n",
    "\n",
    "url = \"https://baza-knig.rip/fantastika-fenteze\"\n",
    "\n",
    "\n",
    "response = requests.get(url)\n",
    "\n",
    "soup =BeautifulSoup(response.text, \"lxml\")\n",
    "data = soup.find_all(\"div\", class_=\"flex flex-col gap-3 sm:flex-row\")\n",
    "\n",
    "for elem in data:\n",
    "  url_href = \"https://q-parser.ru/catalog\" + elem.find(\"div\", class_=\"w-full h-auto sm:w-24 sm:h-24 grow-0 shrink-0\").find(\"a\").get(\"href\")\n",
    "\n",
    "\n",
    "\n",
    "# for i in data:\n",
    "#   name = i.find()\n",
    "\n",
    "\n",
    "\n",
    "  print(url_href)"
   ]
  },
  {
   "cell_type": "code",
   "execution_count": 22,
   "id": "6cbce93e",
   "metadata": {},
   "outputs": [],
   "source": [
    "import requests\n",
    "from bs4 import BeautifulSoup\n",
    "\n",
    "url = \"https://q-parser.ru/catalog\"\n",
    "\n",
    "\n",
    "response = requests.get(url)\n",
    "src = response.text\n",
    "\n",
    "with open(\"ind_html_q_parser_ru.html\", \"w\", encoding=\"utf-8\") as file:\n",
    "  file.write(src)\n",
    "\n",
    "soup =BeautifulSoup(src, \"lxml\")\n",
    "data = soup.find(\"div\", class_=\"py-6 space-y-3 first:pt-0 last:pb-0\")"
   ]
  }
 ],
 "metadata": {
  "kernelspec": {
   "display_name": ".venv",
   "language": "python",
   "name": "python3"
  },
  "language_info": {
   "codemirror_mode": {
    "name": "ipython",
    "version": 3
   },
   "file_extension": ".py",
   "mimetype": "text/x-python",
   "name": "python",
   "nbconvert_exporter": "python",
   "pygments_lexer": "ipython3",
   "version": "3.12.6"
  }
 },
 "nbformat": 4,
 "nbformat_minor": 5
}
