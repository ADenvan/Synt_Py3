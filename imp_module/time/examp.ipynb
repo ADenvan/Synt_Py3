{
 "cells": [
  {
   "cell_type": "code",
   "execution_count": 6,
   "metadata": {},
   "outputs": [
    {
     "name": "stdout",
     "output_type": "stream",
     "text": [
      "Total prime numbers in range : 9592\n",
      "Time required : 0.08501434326171875\n"
     ]
    }
   ],
   "source": [
    "# /--time/Импорт необходимых модулей\n",
    "import math  # Для математических операций (например, sqrt)\n",
    "import time  # Для замера времени выполнения\n",
    "\n",
    "# Функция проверки числа на простоту\n",
    "def is_prime(n):\n",
    "    # Если число меньше или равно 1, оно не простое\n",
    "    if n <= 1:\n",
    "        return False\n",
    "    \n",
    "    # Если число четное, оно простое только если это 2\n",
    "    if n % 2 == 0:\n",
    "        return n == 2  # Возвращает True для 2, False для остальных четных\n",
    "    \n",
    "    # Вычисляем максимальный делитель для проверки (до квадратного корня из n)\n",
    "    max_div = math.floor(math.sqrt(n))\n",
    "    \n",
    "    # Проверяем делители от 3 до max_div с шагом 2 (только нечетные)\n",
    "    for i in range(3, 1 + max_div, 2):\n",
    "        if n % i == 0:\n",
    "            return False  # Найден делитель -> число не простое\n",
    "    \n",
    "    return True  # Делителей нет -> число простое\n",
    "\n",
    "# Основная логика программы\n",
    "t0 = time.time()  # Засекаем начальное время\n",
    "c = 0  # Счетчик простых чисел\n",
    "\n",
    "# Перебираем числа от 1 до 99999 (включительно)\n",
    "for n in range(1, 100000):\n",
    "    x = is_prime(n)  # Проверяем, простое ли число\n",
    "    c += x  # Увеличиваем счетчик, если x=True (1), иначе не меняем\n",
    "\n",
    "print(\"Total prime numbers in range :\", c)  # Выводим общее количество простых чисел\n",
    "\n",
    "t1 = time.time()  # Засекаем конечное время\n",
    "print(\"Time required :\", t1 - t0)  # Выводим время выполнения"
   ]
  }
 ],
 "metadata": {
  "kernelspec": {
   "display_name": "Python 3",
   "language": "python",
   "name": "python3"
  },
  "language_info": {
   "codemirror_mode": {
    "name": "ipython",
    "version": 3
   },
   "file_extension": ".py",
   "mimetype": "text/x-python",
   "name": "python",
   "nbconvert_exporter": "python",
   "pygments_lexer": "ipython3",
   "version": "3.10.11"
  }
 },
 "nbformat": 4,
 "nbformat_minor": 2
}
