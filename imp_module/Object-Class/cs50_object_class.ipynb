{
 "cells": [
  {
   "cell_type": "code",
   "execution_count": null,
   "metadata": {},
   "outputs": [
    {
     "name": "stdout",
     "output_type": "stream",
     "text": [
      "City from Cat\n"
     ]
    }
   ],
   "source": [
    "# /--class/cs90\n",
    "# Можем инкапсулировать данные.\n",
    "# Можем создавать свои Исключения.\n",
    "class Student:\n",
    "    # __init__ -Метод инициализации. Метод экземпляра.\n",
    "    # name, house -Переменные экземпляра объекта\n",
    "    # self -Силается на объекты этого класса\n",
    "    def __init__(self, name, home):\n",
    "        #\n",
    "        self.name = name\n",
    "        self.home = home\n",
    "\n",
    "\n",
    "# Возвращаемый словарь.\n",
    "def main():\n",
    "    student = get_student()\n",
    "    # Доступ к отребутам класса.\n",
    "    print(f\"{student.name} from {student.home}\")\n",
    "\n",
    "def get_student():\n",
    "    # Атрибуты класса.\n",
    "    name = input(\"Name: \")\n",
    "    home = input(\"Home: \")\n",
    "\n",
    "    student = Student(name, home)\n",
    "    return student\n",
    "\n",
    "\n",
    "if __name__ == \"__main__\":\n",
    "    main()"
   ]
  },
  {
   "cell_type": "code",
   "execution_count": 2,
   "metadata": {},
   "outputs": [
    {
     "name": "stdout",
     "output_type": "stream",
     "text": [
      "Pusy from gry\n"
     ]
    }
   ],
   "source": [
    "# Исключения.\n",
    "class Student:\n",
    "    # __init__ -Метод инициализации. Метод экземпляра.\n",
    "    # name, house -Переменные экземпляра объекта\n",
    "    def __init__(self, name, home):\n",
    "\n",
    "        # Обевляем свои собственные исключения.\n",
    "        if not name:\n",
    "            # Если имя не ввидено.\n",
    "            raise ValueError(\"Missing name\")\n",
    "        if home not in [\"gry\", \"Hofu\", \"Rav\", \"Sly\"]:\n",
    "            # Не выбран из списа.\n",
    "            raise ValueError(\"Invalid home\")\n",
    "        self.name = name\n",
    "        self.home = home\n",
    "\n",
    "\n",
    "# Возвращаемый словарь.\n",
    "def main():\n",
    "    student = get_student()\n",
    "    # Доступ к отребутам класса.\n",
    "    print(f\"{student.name} from {student.home}\")\n",
    "\n",
    "def get_student():\n",
    "    # Атрибуты класса.\n",
    "    name = input(\"Name: \")\n",
    "    home = input(\"Home: \")\n",
    "\n",
    "    student = Student(name, home)\n",
    "    return student\n",
    "\n",
    "\n",
    "if __name__ == \"__main__\":\n",
    "    main()"
   ]
  }
 ],
 "metadata": {
  "kernelspec": {
   "display_name": "Python 3",
   "language": "python",
   "name": "python3"
  },
  "language_info": {
   "codemirror_mode": {
    "name": "ipython",
    "version": 3
   },
   "file_extension": ".py",
   "mimetype": "text/x-python",
   "name": "python",
   "nbconvert_exporter": "python",
   "pygments_lexer": "ipython3",
   "version": "3.10.11"
  }
 },
 "nbformat": 4,
 "nbformat_minor": 2
}
