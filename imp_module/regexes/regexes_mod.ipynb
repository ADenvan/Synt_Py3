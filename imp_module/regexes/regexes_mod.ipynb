{
 "cells": [
  {
   "cell_type": "code",
   "execution_count": 1,
   "metadata": {},
   "outputs": [],
   "source": [
    "import re\n",
    "# re -Шаблоны регулярных вырожений\n",
    "\n",
    "# . -any character except newline\n",
    "# * -0 or more repetitions\n",
    "# + -1 or more repetitions\n",
    "# ? -0 or 1 repetition 0 или 1\n",
    "# {m} -m repetitions\n",
    "#{m,n}-m-n repetitions диапазон\n",
    "\n",
    "# ^ -matches the start of the string\n",
    "# $ -matches the end of the string or just before the newline at the end of the string\n",
    "\n",
    "# [] -set of characters\n",
    "# [^] -complementing the set"
   ]
  },
  {
   "cell_type": "code",
   "execution_count": 5,
   "metadata": {},
   "outputs": [
    {
     "name": "stdout",
     "output_type": "stream",
     "text": [
      "Invalid\n"
     ]
    }
   ],
   "source": [
    "# Поиск. re.search(pattern, string, flags=0)\n",
    "email = input(\"What`s your emale ?\").strip()\n",
    "\n",
    "# r -Необработаная строка.\n",
    "# \".+@.+\" -Опредилиь @ что это Емаил.\n",
    "# $ -Повторного вода.\n",
    "# ^$ -Поисковая система должна искать вточности вот так\n",
    "# ^ -Совпадение вначале строки $ -Вконце строки\n",
    "# [^@] -Любой символ кроме @-собака\n",
    "# [a-zA-Z0-9_)] -Допустимый набор букв и символов. Ограничение.\n",
    "# \\w -Все сиволы от a-z-A-Z-0-9_\n",
    "\n",
    "# ---------------------------------------\n",
    "# if re.search(r\"^.+@.+\\.ru$\", email):\n",
    "\n",
    "# if re.search(r\"^[^@]+@[^@]+\\.ru$\", email):\n",
    "\n",
    "# if re.search(r\"^[a-zA-Z0-9_)]+@[a-zA-Z0-9_)]+\\.ru$\", email):\n",
    "\n",
    "# if re.search(r\"^\\w+@\\w+\\.ru$\", email, re.IGNORECASE):\n",
    "\n",
    "if re.search(r\"^\\w+@(\\w+\\.)?\\w+\\.ru$\", email, re.IGNORECASE):\n",
    "    print(\"Valid\")\n",
    "else:\n",
    "    print(\"Invalid\")"
   ]
  },
  {
   "cell_type": "code",
   "execution_count": 17,
   "metadata": {},
   "outputs": [
    {
     "name": "stdout",
     "output_type": "stream",
     "text": [
      "hello, Dan Smit\n",
      "# - # - # - # - # - # - # - # - # - # - \n",
      "matches hello > Dan Smit\n"
     ]
    }
   ],
   "source": [
    "# Переформатировать данные ользователя в ожедаемый нами формат.\n",
    "# Откланить ввод ползователя.\n",
    "\n",
    "# Принудительно изменить имя пользователя.\n",
    "# Smit,Dan = Dan Smit\n",
    "import re\n",
    "name = input(\"What`s your name ? \").strip()\n",
    "if \",\" in name:\n",
    "    last, first = name.split(\",\")\n",
    "    name = f\"{first} {last}\"\n",
    "print(f\"hello, {name}\")\n",
    "print(\"# - \" * 10)\n",
    "\n",
    "# ---------------------------------------\n",
    "# Возвращает\n",
    "matches = re.search(r\"^(.+), *(.+)$\", name)\n",
    "if matches:\n",
    "    last = matches.group(1)\n",
    "    first = matches.group(2)\n",
    "    name = f\"{first} {last}\"\n",
    "    # mame = matches.group(2) + \" \" + matches.group(1)\n",
    "print(f'matches hello > {name}')\n"
   ]
  },
  {
   "cell_type": "code",
   "execution_count": 24,
   "metadata": {},
   "outputs": [
    {
     "name": "stdout",
     "output_type": "stream",
     "text": [
      "Username: Aden\n"
     ]
    }
   ],
   "source": [
    "import re\n",
    "# re.sub(pattern=, repl, string, count=0, flags=0)\n",
    "\"\"\"Вернуть строку, полученную заменой крайнего левого\n",
    "    непересекающиеся вхождения шаблона в строке с помощью\n",
    "    замена репл. repl может быть либо строкой, либо вызываемым объектом;\n",
    "    если строка, в ней обрабатываются обратные косые черты. Если это\n",
    "    вызываемый объект, он передает объект Match и должен вернуть\n",
    "    строка замены, которая будет использоваться.\"\"\"\n",
    "\n",
    "# Запрос УРЛ у пользователя. Логин у пользователя.\n",
    "# re.sub()\n",
    "\n",
    "url = input(\"URL: \").strip()\n",
    "\n",
    "if matches := re.search(r\"^https?://(?:www\\.)?twitter\\.com/([a-z0-9_]+)\",  url, re.IGNORECASE):\n",
    "    print(f\"Username:\", matches.group(1))\n",
    "\n",
    "# https://twitter.com/Aden"
   ]
  },
  {
   "cell_type": "code",
   "execution_count": null,
   "metadata": {},
   "outputs": [
    {
     "name": "stdout",
     "output_type": "stream",
     "text": [
      "[{'Жанр': 'Фан/фэн/Попаданцы'}, {'Жанр': 'Фан/фэн/Боевик'}, {'Жанр': 'Фан/фэн'}]\n"
     ]
    }
   ],
   "source": [
    "# /--re/example\n",
    "# Когда нужно более гибко — искать по шаблону (например, слова, формы, опечатки)\n",
    "\n",
    "import re\n",
    "\n",
    "data_2 = [\n",
    "    {\"Жанр\": \" Фантастика, фэнтези / Попаданцы\"},\n",
    "    {\"Жанр\": \"Фантастика, фэнтези / Боевик\"},\n",
    "    {\"Жанр\": \"Фантастика, фэнтези\"}\n",
    "]\n",
    "\n",
    "# Словарь замен для регулярки (ключ — шаблон, значение — на что заменить)\n",
    "patterns = {\n",
    "    r\"Фантастика\": \"Фан\",\n",
    "    r\"фэнтези\": \"фэн\",\n",
    "    r\",\": \"/\",\n",
    "    r\" \": \"\"\n",
    "}\n",
    "\n",
    "for item in data_2:\n",
    "    genre = item[\"Жанр\"]\n",
    "    for pattern, replacement in patterns.items():\n",
    "        genre = re.sub(pattern, replacement, genre, flags=re.IGNORECASE)\n",
    "    item[\"Жанр\"] = genre\n",
    "\n",
    "print(data_2)\n"
   ]
  }
 ],
 "metadata": {
  "kernelspec": {
   "display_name": "Python 3",
   "language": "python",
   "name": "python3"
  },
  "language_info": {
   "codemirror_mode": {
    "name": "ipython",
    "version": 3
   },
   "file_extension": ".py",
   "mimetype": "text/x-python",
   "name": "python",
   "nbconvert_exporter": "python",
   "pygments_lexer": "ipython3",
   "version": "3.12.6"
  }
 },
 "nbformat": 4,
 "nbformat_minor": 2
}
