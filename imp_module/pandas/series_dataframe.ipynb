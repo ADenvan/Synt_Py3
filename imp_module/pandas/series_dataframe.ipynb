{
 "cells": [
  {
   "cell_type": "code",
   "execution_count": 2,
   "id": "0711b3f8",
   "metadata": {},
   "outputs": [],
   "source": [
    "import pandas as pd\n",
    "import numpy as np\n"
   ]
  },
  {
   "cell_type": "code",
   "execution_count": null,
   "id": "ab79317b",
   "metadata": {},
   "outputs": [
    {
     "data": {
      "text/plain": [
       "row1    1\n",
       "row2    2\n",
       "row3    3\n",
       "row4    4\n",
       "dtype: string"
      ]
     },
     "execution_count": 3,
     "metadata": {},
     "output_type": "execute_result"
    }
   ],
   "source": [
    "# Тип данных и их изменение. Замена индекса и количество элементов должно совпабать.\n",
    "# Series - Серрия создание.\n",
    "# data: - Список или словарь\n",
    "# index: - должен совпадать с data\n",
    "# dtype: - Тип данных в солбца - Позволяет изменить тип данных.\n",
    "# name: Hashable = ...,\n",
    "# copy: bool = ...\n",
    "# \n",
    "series_from_list = pd.Series(\n",
    "    [1, 2, 3, 4], index=[\"row1\", \"row2\", \"row3\", \"row4\"], dtype=\"string\"\n",
    ")\n",
    "series_from_list"
   ]
  },
  {
   "cell_type": "code",
   "execution_count": 4,
   "id": "b0892724",
   "metadata": {},
   "outputs": [
    {
     "data": {
      "text/plain": [
       "row1      1.0\n",
       "row2      2.0\n",
       "row100    NaN\n",
       "dtype: float64"
      ]
     },
     "execution_count": 4,
     "metadata": {},
     "output_type": "execute_result"
    }
   ],
   "source": [
    "# Список на основе словаря. на основе словаря мы делаем выборк.\n",
    "dict_array = {\"row1\": 1, \"row2\": 2, \"row3\": 3, \"row4\": 4}\n",
    "series_from_list = pd.Series(dict_array, index=[\"row1\", \"row2\", \"row100\"], dtype=int)\n",
    "series_from_list"
   ]
  },
  {
   "cell_type": "code",
   "execution_count": null,
   "id": "0c83d036",
   "metadata": {},
   "outputs": [
    {
     "name": "stdout",
     "output_type": "stream",
     "text": [
      "0      5\n",
      "1      6\n",
      "2      7\n",
      "3    111\n",
      "4      9\n",
      "dtype: int64\n",
      "[  5   6   7 111   9]\n"
     ]
    }
   ],
   "source": [
    "# Массив Numpy и изменение Данных copy=False\n",
    "np_array = np.array([5, 6, 7, 8, 9])\n",
    "\n",
    "def series_copy_false(n: np.array):\n",
    "    \"\"\"\n",
    "    copy=False - Изменяет оригенал\n",
    "    copy=True - Не изменяет оригина делает его копию\"\"\"\n",
    "\n",
    "    s = pd.Series(n, copy=False)\n",
    "    return s\n",
    "\n",
    "\n",
    "ser_np_arr = series_copy_false(np_array)\n",
    "\n",
    "# copy=False В серре значение будет изенено + оригинал.\n",
    "ser_np_arr.iloc[3] = 111\n",
    "\n",
    "print(ser_np_arr)\n",
    "print(np_array)"
   ]
  },
  {
   "cell_type": "code",
   "execution_count": 6,
   "id": "8d229b51",
   "metadata": {},
   "outputs": [
    {
     "name": "stdout",
     "output_type": "stream",
     "text": [
      "row_1     50\n",
      "row_2     66\n",
      "row_3    9.0\n",
      "row_4      1\n",
      "row_5     77\n",
      "row_6      0\n",
      "dtype: string\n",
      "row_1     50\n",
      "row_5     77\n",
      "row_3    9.0\n",
      "dtype: string\n"
     ]
    }
   ],
   "source": [
    "# Series на основание другой series\n",
    "series_from_list = pd.Series(\n",
    "    [50, 66, 9.0, 1, 77, 00],\n",
    "    index=[\"row_1\", \"row_2\", \"row_3\", \"row_4\", \"row_5\", \"row_6\"],\n",
    "    dtype=\"string\",\n",
    ")\n",
    "print(series_from_list)\n",
    "\n",
    "\n",
    "def ser_from_ser(s: pd.Series):\n",
    "    \"\"\"\n",
    "    Работает так как еслибы передали словарь\n",
    "    index=[ - Взяты нужные данные\"\"\"\n",
    "    res = pd.Series(s, index=[\"row_1\", \"row_5\", \"row_3\"])\n",
    "    return res\n",
    "\n",
    "\n",
    "print(ser_from_ser(series_from_list))\n"
   ]
  },
  {
   "cell_type": "code",
   "execution_count": null,
   "id": "f8c809a5",
   "metadata": {},
   "outputs": [],
   "source": [
    "# --DataFrame\n",
    "# Data - Данные которые мы хотим передать в виде Объекта.\n",
    "# index - (по умолчанию Rengelndex) список элиментов которого будут использоваться в качестве индекса строк.\n",
    "# columns - список меток столбцов.\n",
    "# dtype -\n",
    "# copy -"
   ]
  },
  {
   "cell_type": "code",
   "execution_count": null,
   "id": "84eade85",
   "metadata": {},
   "outputs": [],
   "source": [
    "# В словаре должно быть равное колличество ЭЛЕМЕНТОВ.\n",
    "# Ключи это метки столбцов\n",
    "dict_array = {\n",
    "    \"col_1\": [5, 6, 6, 3, 7],\n",
    "    \"col_2\": [27, 6, 7, 4, 7],\n",
    "    \"col_3\": [1, 45, 6, 62, 7],\n",
    "    \"col_4\": [65, 6, 7, 82, 7],\n",
    "    \"col_5\": [8, 3, 2, 5, 1],\n",
    "}"
   ]
  },
  {
   "cell_type": "code",
   "execution_count": null,
   "id": "3e582eff",
   "metadata": {},
   "outputs": [
    {
     "data": {
      "text/html": [
       "<div>\n",
       "<style scoped>\n",
       "    .dataframe tbody tr th:only-of-type {\n",
       "        vertical-align: middle;\n",
       "    }\n",
       "\n",
       "    .dataframe tbody tr th {\n",
       "        vertical-align: top;\n",
       "    }\n",
       "\n",
       "    .dataframe thead th {\n",
       "        text-align: right;\n",
       "    }\n",
       "</style>\n",
       "<table border=\"1\" class=\"dataframe\">\n",
       "  <thead>\n",
       "    <tr style=\"text-align: right;\">\n",
       "      <th></th>\n",
       "      <th>col_4</th>\n",
       "      <th>col_1</th>\n",
       "      <th>5</th>\n",
       "    </tr>\n",
       "  </thead>\n",
       "  <tbody>\n",
       "    <tr>\n",
       "      <th>row_1</th>\n",
       "      <td>65.0</td>\n",
       "      <td>5.0</td>\n",
       "      <td>NaN</td>\n",
       "    </tr>\n",
       "    <tr>\n",
       "      <th>row_2</th>\n",
       "      <td>6.0</td>\n",
       "      <td>6.0</td>\n",
       "      <td>NaN</td>\n",
       "    </tr>\n",
       "    <tr>\n",
       "      <th>row_3</th>\n",
       "      <td>7.0</td>\n",
       "      <td>6.0</td>\n",
       "      <td>NaN</td>\n",
       "    </tr>\n",
       "    <tr>\n",
       "      <th>row_4</th>\n",
       "      <td>82.0</td>\n",
       "      <td>3.0</td>\n",
       "      <td>NaN</td>\n",
       "    </tr>\n",
       "    <tr>\n",
       "      <th>row_5</th>\n",
       "      <td>7.0</td>\n",
       "      <td>7.0</td>\n",
       "      <td>NaN</td>\n",
       "    </tr>\n",
       "  </tbody>\n",
       "</table>\n",
       "</div>"
      ],
      "text/plain": [
       "       col_4  col_1   5\n",
       "row_1   65.0    5.0 NaN\n",
       "row_2    6.0    6.0 NaN\n",
       "row_3    7.0    6.0 NaN\n",
       "row_4   82.0    3.0 NaN\n",
       "row_5    7.0    7.0 NaN"
      ]
     },
     "execution_count": 57,
     "metadata": {},
     "output_type": "execute_result"
    }
   ],
   "source": [
    "# DataFrame на оснавание словаря.\n",
    "# index=[] - Будут заменены. индексы долзны соответствовать количеству словарю.\n",
    "# columns - Делаем Выборку. В словаре Ключи это метки столбцов\n",
    "# dtype=float - Изменение типа банны\n",
    "df = pd.DataFrame(\n",
    "    dict_array,\n",
    "    index=[\"row_1\", \"row_2\", \"row_3\", \"row_4\", \"row_5\"],\n",
    "    columns=[\"col_4\", \"col_1\", \"5\"],\n",
    "    dtype=float,\n",
    ")\n",
    "df"
   ]
  },
  {
   "cell_type": "code",
   "execution_count": null,
   "id": "8d77c258",
   "metadata": {},
   "outputs": [
    {
     "name": "stdout",
     "output_type": "stream",
     "text": [
      "    0   1  2      3      4\n",
      "0   5   6  6  10011  10011\n",
      "1  27   6  7  10011  10011\n",
      "2   1  45  6  10011  10011\n",
      "3  65   6  7  10011  10011\n",
      "4   8   3  2  10011  10011\n",
      "[[ 5  6  6  3  7]\n",
      " [27  6  7  4  7]\n",
      " [ 1 45  6 62  7]\n",
      " [65  6  7 82  7]\n",
      " [ 8  3  2  5  1]]\n"
     ]
    }
   ],
   "source": [
    "# DataFrame на соснование массива Numpy\n",
    "np_array = np.array(\n",
    "    [\n",
    "        [5, 6, 6, 3, 7],\n",
    "        [27, 6, 7, 4, 7],\n",
    "        [1, 45, 6, 62, 7],\n",
    "        [65, 6, 7, 82, 7],\n",
    "        [8, 3, 2, 5, 1],\n",
    "    ]\n",
    ")\n",
    "\n",
    "\n",
    "# np_array\n",
    "def df_copy(n: np.array):\n",
    "    \"\"\"\n",
    "    copy=True - Изменения только в dataFrame\n",
    "    copy=False - Используем сам массив Numpy а не его копию\"\"\"\n",
    "    ret = pd.DataFrame(n, copy=True)\n",
    "    return ret\n",
    "\n",
    "\n",
    "df_1 = df_copy(np_array)\n",
    "# Скопирован и изменен.\n",
    "df_1.loc[:, 3:4] = 10011\n",
    "print(df_1)\n",
    "\n",
    "# В массиве Numpy нет изменений\n",
    "print(np_array)"
   ]
  },
  {
   "cell_type": "code",
   "execution_count": null,
   "id": "25e9405b",
   "metadata": {},
   "outputs": [
    {
     "data": {
      "text/html": [
       "<div>\n",
       "<style scoped>\n",
       "    .dataframe tbody tr th:only-of-type {\n",
       "        vertical-align: middle;\n",
       "    }\n",
       "\n",
       "    .dataframe tbody tr th {\n",
       "        vertical-align: top;\n",
       "    }\n",
       "\n",
       "    .dataframe thead th {\n",
       "        text-align: right;\n",
       "    }\n",
       "</style>\n",
       "<table border=\"1\" class=\"dataframe\">\n",
       "  <thead>\n",
       "    <tr style=\"text-align: right;\">\n",
       "      <th></th>\n",
       "      <th>col_1</th>\n",
       "      <th>col_2</th>\n",
       "    </tr>\n",
       "  </thead>\n",
       "  <tbody>\n",
       "    <tr>\n",
       "      <th>row_1</th>\n",
       "      <td>2.0</td>\n",
       "      <td>5.0</td>\n",
       "    </tr>\n",
       "    <tr>\n",
       "      <th>row_2</th>\n",
       "      <td>3.0</td>\n",
       "      <td>6.0</td>\n",
       "    </tr>\n",
       "    <tr>\n",
       "      <th>row_5</th>\n",
       "      <td>6.0</td>\n",
       "      <td>6.0</td>\n",
       "    </tr>\n",
       "    <tr>\n",
       "      <th>row_6</th>\n",
       "      <td>NaN</td>\n",
       "      <td>NaN</td>\n",
       "    </tr>\n",
       "    <tr>\n",
       "      <th>row_9</th>\n",
       "      <td>NaN</td>\n",
       "      <td>7.0</td>\n",
       "    </tr>\n",
       "  </tbody>\n",
       "</table>\n",
       "</div>"
      ],
      "text/plain": [
       "       col_1  col_2\n",
       "row_1    2.0    5.0\n",
       "row_2    3.0    6.0\n",
       "row_5    6.0    6.0\n",
       "row_6    NaN    NaN\n",
       "row_9    NaN    7.0"
      ]
     },
     "execution_count": 96,
     "metadata": {},
     "output_type": "execute_result"
    }
   ],
   "source": [
    "# Выравнивание Индексов.\n",
    "dict_array = {\"row_1\": 2, \"row_2\": 3, \"row_3\": 4, \"row_4\": 5, \"row_5\": 6}\n",
    "\n",
    "\n",
    "df = pd.DataFrame(\n",
    "    {\"col_1\": pd.Series(dict_array), \"col_2\": [5, 6, 6, np.nan, 7]},\n",
    "    index=[\"row_1\", \"row_2\", \"row_5\", \"row_6\", \"row_9\"],\n",
    ")\n",
    "df"
   ]
  },
  {
   "cell_type": "code",
   "execution_count": null,
   "id": "b2350d29",
   "metadata": {},
   "outputs": [
    {
     "data": {
      "text/html": [
       "<div>\n",
       "<style scoped>\n",
       "    .dataframe tbody tr th:only-of-type {\n",
       "        vertical-align: middle;\n",
       "    }\n",
       "\n",
       "    .dataframe tbody tr th {\n",
       "        vertical-align: top;\n",
       "    }\n",
       "\n",
       "    .dataframe thead th {\n",
       "        text-align: right;\n",
       "    }\n",
       "</style>\n",
       "<table border=\"1\" class=\"dataframe\">\n",
       "  <thead>\n",
       "    <tr style=\"text-align: right;\">\n",
       "      <th></th>\n",
       "      <th>col_1</th>\n",
       "      <th>col_2</th>\n",
       "    </tr>\n",
       "  </thead>\n",
       "  <tbody>\n",
       "    <tr>\n",
       "      <th>row_1</th>\n",
       "      <td>2.0</td>\n",
       "      <td>NaN</td>\n",
       "    </tr>\n",
       "    <tr>\n",
       "      <th>row_2</th>\n",
       "      <td>3.0</td>\n",
       "      <td>NaN</td>\n",
       "    </tr>\n",
       "    <tr>\n",
       "      <th>row_3</th>\n",
       "      <td>4.0</td>\n",
       "      <td>5.0</td>\n",
       "    </tr>\n",
       "    <tr>\n",
       "      <th>row_4</th>\n",
       "      <td>5.0</td>\n",
       "      <td>6.0</td>\n",
       "    </tr>\n",
       "    <tr>\n",
       "      <th>row_5</th>\n",
       "      <td>6.0</td>\n",
       "      <td>6.0</td>\n",
       "    </tr>\n",
       "    <tr>\n",
       "      <th>row_6</th>\n",
       "      <td>NaN</td>\n",
       "      <td>NaN</td>\n",
       "    </tr>\n",
       "    <tr>\n",
       "      <th>row_9</th>\n",
       "      <td>NaN</td>\n",
       "      <td>7.0</td>\n",
       "    </tr>\n",
       "  </tbody>\n",
       "</table>\n",
       "</div>"
      ],
      "text/plain": [
       "       col_1  col_2\n",
       "row_1    2.0    NaN\n",
       "row_2    3.0    NaN\n",
       "row_3    4.0    5.0\n",
       "row_4    5.0    6.0\n",
       "row_5    6.0    6.0\n",
       "row_6    NaN    NaN\n",
       "row_9    NaN    7.0"
      ]
     },
     "execution_count": 98,
     "metadata": {},
     "output_type": "execute_result"
    }
   ],
   "source": [
    "# Выравнивание Индексов.\n",
    "dict_array = {\"row_1\": 2, \"row_2\": 3, \"row_3\": 4, \"row_4\": 5, \"row_5\": 6}\n",
    "\n",
    "# Пересечений индексов. Обединение СЕРИИ. Выборка индексов\n",
    "df = pd.DataFrame(\n",
    "    {\n",
    "        \"col_1\": pd.Series(dict_array),\n",
    "        \"col_2\": pd.Series(\n",
    "            [5, 6, 6, np.nan, 7], index=[\"row_3\", \"row_4\", \"row_5\", \"row_6\", \"row_9\"]\n",
    "        ),\n",
    "    },\n",
    "    #   index=['row_1', 'row_7']\n",
    ")\n",
    "df"
   ]
  }
 ],
 "metadata": {
  "kernelspec": {
   "display_name": ".venv",
   "language": "python",
   "name": "python3"
  },
  "language_info": {
   "codemirror_mode": {
    "name": "ipython",
    "version": 3
   },
   "file_extension": ".py",
   "mimetype": "text/x-python",
   "name": "python",
   "nbconvert_exporter": "python",
   "pygments_lexer": "ipython3",
   "version": "3.13.7"
  }
 },
 "nbformat": 4,
 "nbformat_minor": 5
}
