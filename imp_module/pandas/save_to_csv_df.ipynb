{
 "cells": [
  {
   "cell_type": "code",
   "execution_count": 2,
   "id": "72d3591d",
   "metadata": {},
   "outputs": [],
   "source": [
    "import pandas as pd"
   ]
  },
  {
   "cell_type": "code",
   "execution_count": null,
   "id": "c521496d",
   "metadata": {},
   "outputs": [
    {
     "name": "stdout",
     "output_type": "stream",
     "text": [
      "     Moscow  1250\n",
      "0    London   560\n",
      "1    Berlin    45\n",
      "2     Paris   230\n",
      "3      Rome   320\n",
      "4    Madrid   980\n",
      "5     Tokyo    75\n",
      "6  New York   870\n",
      "7      Kyiv    60\n",
      "8    Warsaw   410\n"
     ]
    }
   ],
   "source": [
    "# pd.read_csv - Четение фаила csv.\n",
    "# df.to_csv( - Запись в фаил csv.\n",
    "# sep=';' - меняем разделитель на ';'.\n",
    "# columns=[ - Перезаписываем столбцы.\n",
    "# header=False - Убираем заголовок.\n",
    "# index=False - Убираем индекс.\n",
    "# index_label='index_rows' - пользовательсое название индекса.\n",
    "df = pd.read_csv(\"file/book_data.csv\")\n",
    "\n",
    "\n",
    "def save_cav(df: pd.DataFrame, file_csv: str):\n",
    "    df.to_csv(file_csv, \n",
    "              sep=\";\", \n",
    "              columns=[\"city\", \"price\"], \n",
    "              header=False, \n",
    "              index=False\n",
    "              )\n",
    "\n",
    "\n",
    "if __name__ == \"__main__\":\n",
    "    # save_cav( - Создание фаила csv.\n",
    "    save_cav(df, \"file/copy_dook_data.csv\")\n",
    "\n",
    "    log = pd.read_csv(\"file/copy_dook_data.csv\", sep=\";\")\n",
    "    print(log)\n"
   ]
  },
  {
   "cell_type": "code",
   "execution_count": null,
   "id": "aaa3c873",
   "metadata": {},
   "outputs": [],
   "source": []
  }
 ],
 "metadata": {
  "kernelspec": {
   "display_name": ".venv",
   "language": "python",
   "name": "python3"
  },
  "language_info": {
   "codemirror_mode": {
    "name": "ipython",
    "version": 3
   },
   "file_extension": ".py",
   "mimetype": "text/x-python",
   "name": "python",
   "nbconvert_exporter": "python",
   "pygments_lexer": "ipython3",
   "version": "3.13.7"
  }
 },
 "nbformat": 4,
 "nbformat_minor": 5
}
