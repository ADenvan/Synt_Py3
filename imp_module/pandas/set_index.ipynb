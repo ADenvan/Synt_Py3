{
 "cells": [
  {
   "cell_type": "code",
   "execution_count": null,
   "id": "3540a184",
   "metadata": {},
   "outputs": [],
   "source": [
    "import pandas as pd"
   ]
  },
  {
   "cell_type": "code",
   "execution_count": null,
   "id": "0f5ca0d4",
   "metadata": {},
   "outputs": [
    {
     "name": "stdout",
     "output_type": "stream",
     "text": [
      "         A    C\n",
      "B D            \n",
      "a True   1  4.1\n",
      "b False  2  5.2\n",
      "c True   3  6.3\n"
     ]
    }
   ],
   "source": [
    "import pandas as pd\n",
    "\n",
    "df = pd.DataFrame({\n",
    "    'A': [1, 2, 3],\n",
    "    'B': ['a', 'b', 'c'],\n",
    "    'C': [4.1, 5.2, 6.3],\n",
    "    'D': [True, False, True]\n",
    "})\n",
    "\n",
    "# inplace=True - меняет сам датафрейм, а не создает копию\n",
    "# append=True - Изначальный индекс сохраняется, а новый добавляется к нему\n",
    "\n",
    "df.set_index(['B', 'D'], inplace=True)\n",
    "print(df)"
   ]
  },
  {
   "cell_type": "code",
   "execution_count": null,
   "id": "e3a520e1",
   "metadata": {},
   "outputs": [
    {
     "name": "stdout",
     "output_type": "stream",
     "text": [
      "1\n"
     ]
    }
   ],
   "source": [
    "import pandas as pd\n",
    "\n",
    "df = pd.DataFrame({\n",
    "    'A': [1, 2, 3],\n",
    "    'B': ['a', 'b', 'c'],\n",
    "    'C': [4.1, 5.2, 6.3],\n",
    "    'D': [True, False, True]\n",
    "})\n",
    "\n",
    "# Получаем строку с индексом 0\n",
    "row_list = df.iloc[0].tolist()\n",
    "\n",
    "print(row_list[0])  # 👉 [1, 'a', 4.1, True]\n"
   ]
  },
  {
   "cell_type": "code",
   "execution_count": 9,
   "id": "dd5d0430",
   "metadata": {},
   "outputs": [
    {
     "name": "stdout",
     "output_type": "stream",
     "text": [
      "   A  B    C      D\n",
      "0  1  a  4.1   True\n",
      "1  2  b  5.2  False\n",
      "2  3  c  6.3   True\n",
      "a series\n",
      "b series\n",
      "c series\n"
     ]
    },
    {
     "data": {
      "text/html": [
       "<div>\n",
       "<style scoped>\n",
       "    .dataframe tbody tr th:only-of-type {\n",
       "        vertical-align: middle;\n",
       "    }\n",
       "\n",
       "    .dataframe tbody tr th {\n",
       "        vertical-align: top;\n",
       "    }\n",
       "\n",
       "    .dataframe thead th {\n",
       "        text-align: right;\n",
       "    }\n",
       "</style>\n",
       "<table border=\"1\" class=\"dataframe\">\n",
       "  <thead>\n",
       "    <tr style=\"text-align: right;\">\n",
       "      <th></th>\n",
       "      <th>A</th>\n",
       "      <th>B</th>\n",
       "    </tr>\n",
       "  </thead>\n",
       "  <tbody>\n",
       "    <tr>\n",
       "      <th>0</th>\n",
       "      <td>1</td>\n",
       "      <td>a</td>\n",
       "    </tr>\n",
       "    <tr>\n",
       "      <th>1</th>\n",
       "      <td>2</td>\n",
       "      <td>b</td>\n",
       "    </tr>\n",
       "    <tr>\n",
       "      <th>2</th>\n",
       "      <td>3</td>\n",
       "      <td>c</td>\n",
       "    </tr>\n",
       "  </tbody>\n",
       "</table>\n",
       "</div>"
      ],
      "text/plain": [
       "   A  B\n",
       "0  1  a\n",
       "1  2  b\n",
       "2  3  c"
      ]
     },
     "execution_count": 9,
     "metadata": {},
     "output_type": "execute_result"
    }
   ],
   "source": [
    "df = pd.DataFrame({\n",
    "    'A': [1, 2, 3],\n",
    "    'B': ['a', 'b', 'c'],\n",
    "    'C': [4.1, 5.2, 6.3],\n",
    "    'D': [True, False, True]\n",
    "})\n",
    "print(df)\n",
    "# Вернет Серию. В цикле for будет возвращать значения.\n",
    "for ser in df['B']:\n",
    "    print(ser, \"series\")\n",
    "\n",
    "# Вернет датафрейм.\n",
    "df[['A', 'B']]"
   ]
  },
  {
   "cell_type": "code",
   "execution_count": 8,
   "id": "46a275a8",
   "metadata": {},
   "outputs": [],
   "source": [
    "# новая колонка со Задать новое значение для столбца\n",
    "df['new_col'] = [i for i in range(1, 4)]\n",
    "# print(df)\n",
    "\n",
    "# Копируем значения из одной колонки в другую.\n",
    "df['col_T'] = df['B']\n",
    "# print(df)"
   ]
  },
  {
   "cell_type": "code",
   "execution_count": null,
   "id": "f7ce1a3c",
   "metadata": {},
   "outputs": [],
   "source": [
    "# Должно быть одинаковое количество элементов.\n",
    "# Присваеваем новое значение 100.\n",
    "df[[False, True, True]] = 100\n",
    "print(df)\n",
    "\n",
    "\n",
    "new_col = df[[False, True, True]][['new_col']]\n",
    "print(new_col)"
   ]
  },
  {
   "cell_type": "code",
   "execution_count": null,
   "id": "35f77ec0",
   "metadata": {},
   "outputs": [],
   "source": [
    "# Получаем значение по индексу\n",
    "# Вкачестве индекса колонка А.\n",
    "df.A"
   ]
  }
 ],
 "metadata": {
  "kernelspec": {
   "display_name": ".venv",
   "language": "python",
   "name": "python3"
  },
  "language_info": {
   "codemirror_mode": {
    "name": "ipython",
    "version": 3
   },
   "file_extension": ".py",
   "mimetype": "text/x-python",
   "name": "python",
   "nbconvert_exporter": "python",
   "pygments_lexer": "ipython3",
   "version": "3.13.7"
  }
 },
 "nbformat": 4,
 "nbformat_minor": 5
}
