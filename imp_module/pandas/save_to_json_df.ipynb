{
 "cells": [
  {
   "cell_type": "code",
   "execution_count": null,
   "id": "b2849385",
   "metadata": {},
   "outputs": [],
   "source": [
    "import pandas as pd\n",
    "# orient=\"records\" — сохраняет в виде списка словарей (обычно самый удобный вариант).\n",
    "# force_ascii=False — чтобы кириллица не превращалась в \\u041a и т.п.\n",
    "# indent=4 — форматирование с отступами (для читаемости).\n",
    "# encoding='utf-8' — чтобы сохранить в UTF-8 (если нужно).\n",
    "# \n",
    "\n",
    "# Пример данных\n",
    "data = {\n",
    "    \"id\": [1, 2, 3],\n",
    "    \"title\": [\"Книга A\", \"Книга B\", \"Книга C\"],\n",
    "    \"author\": [\"Автор 1\", \"Автор 2\", \"Автор 3\"]\n",
    "}\n",
    "\n",
    "df = pd.DataFrame(data)\n",
    "\n",
    "# Сохранение в JSON\n",
    "df.to_json(\"book_data.json\", orient=\"records\", force_ascii=False, indent=4)\n"
   ]
  }
 ],
 "metadata": {
  "language_info": {
   "name": "python"
  }
 },
 "nbformat": 4,
 "nbformat_minor": 5
}
