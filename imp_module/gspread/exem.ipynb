{
 "cells": [
  {
   "cell_type": "code",
   "execution_count": null,
   "id": "01206549",
   "metadata": {},
   "outputs": [],
   "source": [
    "import gspread\n",
    "\n",
    "def get_first_row_from_google_sheet():\n",
    "    # Авторизация по сервисному аккаунту\n",
    "    gc = gspread.service_account(filename=\"config_gkey.json\")\n",
    "    \n",
    "    # Открываем таблицу и первый лист\n",
    "    wks = gc.open(\"web_parsing_baza_knig\").sheet1\n",
    "    \n",
    "    # Получаем первую строку (индексация начинается с 1!)\n",
    "    first_row = wks.row_values(1)\n",
    "    \n",
    "    # Если нужно первое значение первой строки:\n",
    "    first_value = wks.cell(1, 1).value\n",
    "    \n",
    "    return first_row\n",
    "\n",
    "# Вызов функции\n",
    "print(get_first_row_from_google_sheet())\n"
   ]
  },
  {
   "cell_type": "code",
   "execution_count": null,
   "id": "07837a2c",
   "metadata": {},
   "outputs": [],
   "source": [
    "import gspread\n",
    "import pandas as pd\n",
    "\n",
    "def update_google_sheet(df: pd.DataFrame, mode: str = \"append\"):\n",
    "    \"\"\"\n",
    "    Обновление Google Sheets из DataFrame\n",
    "    \n",
    "    mode:\n",
    "      - \"append\"   → добавить в конец\n",
    "      - \"prepend\"  → добавить в начало (после заголовков)\n",
    "      - \"overwrite\"→ полностью перезаписать\n",
    "    \"\"\"\n",
    "    gc = gspread.service_account(filename=\"config_gkey.json\")\n",
    "    wks = gc.open(\"web_parsing_baza_knig\").sheet1\n",
    "\n",
    "    rows = df.values.tolist()  # DataFrame → список списков\n",
    "\n",
    "    if mode == \"append\":\n",
    "        # Добавляем в конец\n",
    "        wks.append_rows(rows, value_input_option=\"RAW\")\n",
    "\n",
    "    elif mode == \"prepend\":\n",
    "        # Вставляем пустые строки под заголовками\n",
    "        n_rows = len(df)\n",
    "        wks.insert_rows([''] * n_rows, row=2)\n",
    "        # Обновляем начиная с A2\n",
    "        wks.update(\"A2\", rows)\n",
    "\n",
    "    elif mode == \"overwrite\":\n",
    "        # Полностью перезаписываем таблицу (с заголовками)\n",
    "        wks.clear()\n",
    "        header = [df.columns.tolist()]\n",
    "        wks.update(\"A1\", header + rows)\n",
    "\n",
    "    else:\n",
    "        raise ValueError(\"mode должен быть 'append', 'prepend' или 'overwrite'\")\n",
    ")\n",
    "# Добавить в начало (сдвигая старые данные вниз)\n",
    "update_google_sheet(df, mode=\"prepend\")"
   ]
  }
 ],
 "metadata": {
  "language_info": {
   "name": "python"
  }
 },
 "nbformat": 4,
 "nbformat_minor": 5
}
