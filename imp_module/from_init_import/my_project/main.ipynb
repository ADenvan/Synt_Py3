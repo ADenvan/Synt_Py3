{
 "cells": [
  {
   "cell_type": "code",
   "execution_count": null,
   "metadata": {},
   "outputs": [],
   "source": [
    "\"\"\" \n",
    "1. Создайте структуру проекта\n",
    "my_project/\n",
    "├── main.py\n",
    "└── my_folder/\n",
    "    ├── __init__.py\n",
    "    ├── module1.py\n",
    "    └── module2.py \n",
    "    \n",
    "2. Добавьте __init__.py\n",
    "Создайте пустой файл __init__.py в папке my_folder, чтобы Python распознал её как пакет (для версий Python < 3.3 это обязательно).    \n",
    "\"\"\"\n",
    "    "
   ]
  },
  {
   "cell_type": "code",
   "execution_count": 1,
   "metadata": {},
   "outputs": [
    {
     "name": "stdout",
     "output_type": "stream",
     "text": [
      "10  = print module\n",
      "30  = print module - 2\n"
     ]
    }
   ],
   "source": [
    "\n",
    "# Вариант 1: Импорт всего пакета\n",
    "# main.py\n",
    "import my_folder.module1\n",
    "import my_folder.module2\n",
    "\n",
    "# Используйте модули через точечную нотацию\n",
    "my_folder.module1.some_function()\n",
    "my_folder.module2.some_function()"
   ]
  },
  {
   "cell_type": "code",
   "execution_count": 2,
   "metadata": {},
   "outputs": [
    {
     "name": "stdout",
     "output_type": "stream",
     "text": [
      "10  = print module\n"
     ]
    }
   ],
   "source": [
    "# Вариант 2: Импорт конкретного модуля\n",
    "# main.py\n",
    "from my_folder import module1\n",
    "\n",
    "module1.some_function()"
   ]
  },
  {
   "cell_type": "code",
   "execution_count": 1,
   "metadata": {},
   "outputs": [
    {
     "name": "stdout",
     "output_type": "stream",
     "text": [
      "10  = print module\n"
     ]
    }
   ],
   "source": [
    "# Вариант 3: Импорт функций напрямую\n",
    "# main.py\n",
    "from my_folder.module1 import some_function\n",
    "\n",
    "some_function()"
   ]
  },
  {
   "cell_type": "code",
   "execution_count": 1,
   "metadata": {},
   "outputs": [
    {
     "ename": "ModuleNotFoundError",
     "evalue": "No module named 'your_custom_module'",
     "output_type": "error",
     "traceback": [
      "\u001b[31m---------------------------------------------------------------------------\u001b[39m",
      "\u001b[31mModuleNotFoundError\u001b[39m                       Traceback (most recent call last)",
      "\u001b[36mCell\u001b[39m\u001b[36m \u001b[39m\u001b[32mIn[1]\u001b[39m\u001b[32m, line 6\u001b[39m\n\u001b[32m      3\u001b[39m \u001b[38;5;28;01mimport\u001b[39;00m\u001b[38;5;250m \u001b[39m\u001b[34;01msys\u001b[39;00m\n\u001b[32m      4\u001b[39m sys.path.insert(\u001b[32m0\u001b[39m, \u001b[33m\"\u001b[39m\u001b[33mmy_folder/module1.py\u001b[39m\u001b[33m\"\u001b[39m)\n\u001b[32m----> \u001b[39m\u001b[32m6\u001b[39m \u001b[38;5;28;01mimport\u001b[39;00m\u001b[38;5;250m \u001b[39m\u001b[34;01myour_custom_module\u001b[39;00m\n\u001b[32m      8\u001b[39m \u001b[38;5;66;03m# my_folder/module1.py\u001b[39;00m\n\u001b[32m      9\u001b[39m \u001b[38;5;28;01mdef\u001b[39;00m\u001b[38;5;250m \u001b[39m\u001b[34msome_function\u001b[39m():\n",
      "\u001b[31mModuleNotFoundError\u001b[39m: No module named 'your_custom_module'"
     ]
    }
   ],
   "source": [
    "# 4. Если папка находится вне проекта\n",
    "# Добавьте путь к папке в sys.path:\n",
    "import sys\n",
    "sys.path.insert(0, \"my_folder/module1.py\")\n",
    "\n",
    "import your_custom_module\n",
    "\n",
    "# my_folder/module1.py\n",
    "def some_function():\n",
    "    print(\"Hello from module1!\")"
   ]
  },
  {
   "cell_type": "code",
   "execution_count": 25,
   "metadata": {},
   "outputs": [
    {
     "ename": "NameError",
     "evalue": "name '__file__' is not defined",
     "output_type": "error",
     "traceback": [
      "\u001b[1;31m---------------------------------------------------------------------------\u001b[0m",
      "\u001b[1;31mNameError\u001b[0m                                 Traceback (most recent call last)",
      "Cell \u001b[1;32mIn[25], line 8\u001b[0m\n\u001b[0;32m      5\u001b[0m \u001b[38;5;28;01mimport\u001b[39;00m \u001b[38;5;21;01mos\u001b[39;00m\n\u001b[0;32m      6\u001b[0m \u001b[38;5;28;01mfrom\u001b[39;00m \u001b[38;5;21;01mimportlib\u001b[39;00m \u001b[38;5;28;01mimport\u001b[39;00m import_module\n\u001b[1;32m----> 8\u001b[0m \u001b[38;5;28;01mfor\u001b[39;00m module \u001b[38;5;129;01min\u001b[39;00m os\u001b[38;5;241m.\u001b[39mlistdir(os\u001b[38;5;241m.\u001b[39mpath\u001b[38;5;241m.\u001b[39mdirname(\u001b[38;5;18;43m__file__\u001b[39;49m)):\n\u001b[0;32m      9\u001b[0m     \u001b[38;5;28;01mif\u001b[39;00m module\u001b[38;5;241m.\u001b[39mendswith(\u001b[38;5;124m'\u001b[39m\u001b[38;5;124m.py\u001b[39m\u001b[38;5;124m'\u001b[39m) \u001b[38;5;129;01mand\u001b[39;00m module \u001b[38;5;241m!=\u001b[39m \u001b[38;5;124m'\u001b[39m\u001b[38;5;124m__init__.py\u001b[39m\u001b[38;5;124m'\u001b[39m:\n\u001b[0;32m     10\u001b[0m         import_module(\u001b[38;5;124mf\u001b[39m\u001b[38;5;124m\"\u001b[39m\u001b[38;5;124m.\u001b[39m\u001b[38;5;132;01m{\u001b[39;00mmodule[:\u001b[38;5;241m-\u001b[39m\u001b[38;5;241m3\u001b[39m]\u001b[38;5;132;01m}\u001b[39;00m\u001b[38;5;124m\"\u001b[39m, package\u001b[38;5;241m=\u001b[39m\u001b[38;5;18m__name__\u001b[39m)\n",
      "\u001b[1;31mNameError\u001b[0m: name '__file__' is not defined"
     ]
    }
   ],
   "source": [
    "# Динамический импорт файлов (опционально)\n",
    "# Если нужно импортировать все файлы в папке автоматически:\n",
    "\n",
    "# my_folder/__init__.py\n",
    "import os\n",
    "from importlib import import_module\n",
    "\n",
    "for module in os.listdir(os.path.dirname(__file__)):\n",
    "    if module.endswith('.py') and module != '__init__.py':\n",
    "        import_module(f\".{module[:-3]}\", package=__name__)\n",
    "# Важные замечания:\n",
    "# Используйте относительные импорты для вложенных пакетов:\n",
    "\n",
    "from .subfolder import module3\n",
    "# Избегайте циклических импортов.\n",
    "\n",
    "# Для сложных проектов используйте setup.py и устанавливайте пакет через pip.\n",
    "\n",
    "# Если вы хотите импортировать все функции из модуля, можно использовать:\n",
    "\n",
    "from my_folder.module1 import *\n",
    "# (но это не рекомендуется из-за возможных конфликтов имен)\n",
    "\n",
    "# Теперь ваши модули из папки my_folder будут доступны в основном проекте!"
   ]
  }
 ],
 "metadata": {
  "kernelspec": {
   "display_name": ".venv",
   "language": "python",
   "name": "python3"
  },
  "language_info": {
   "codemirror_mode": {
    "name": "ipython",
    "version": 3
   },
   "file_extension": ".py",
   "mimetype": "text/x-python",
   "name": "python",
   "nbconvert_exporter": "python",
   "pygments_lexer": "ipython3",
   "version": "3.13.7"
  }
 },
 "nbformat": 4,
 "nbformat_minor": 2
}
