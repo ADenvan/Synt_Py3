{
 "cells": [
  {
   "cell_type": "code",
   "execution_count": null,
   "metadata": {},
   "outputs": [],
   "source": [
    "# /--csv/open red write\n",
    "import sys\n",
    "# from PySide6.QtWidgets import QFiledialog\n",
    "import csv #\n",
    "#  https://docs.python.org/3/library/csv.html\n",
    "\n",
    "# with -С открытием и закрытием.\n",
    "# \"w\" -Запись.\n",
    "# \"a\" -Добавить writer.\n",
    "# \"r\" -Загрузить. читать\n",
    "\n",
    "# csv.write -преобразование пользовательских данных в строки с разделителями\n",
    "# csv.DictWriter -Создайте объект, который работает как обычный модуль записи, но сопоставляет словари с выходными строками.\n",
    "\n",
    "\n",
    "# write.writerow -\n"
   ]
  },
  {
   "cell_type": "code",
   "execution_count": 2,
   "metadata": {},
   "outputs": [],
   "source": [
    "name = input(\"Whats your\")\n",
    "file = open(\"name.txt\", \"w\")\n",
    "file.write(name)\n",
    "file.close()"
   ]
  },
  {
   "cell_type": "code",
   "execution_count": null,
   "metadata": {},
   "outputs": [
    {
     "name": "stdout",
     "output_type": "stream",
     "text": [
      "hello, test name fo my\n",
      "hello, wtf on steraetArden test\n",
      "hello, Second name Rmen\n",
      "hello, thre set\n"
     ]
    }
   ],
   "source": [
    "# Добавить и читать.\n",
    "name = input(\"What`s your name ? \")\n",
    "\n",
    "# Добавить запесь в txt файл.\n",
    "with open(\"name.txt\", \"a\") as file:\n",
    "    file.write(f\"{name}\\n\")\n",
    "\n",
    "# Четение txt\n",
    "with open(\"name.txt\", \"r\") as file:\n",
    "    lines = file.readlines()\n",
    "\n",
    "# В консоль все строки\n",
    "for line in lines:\n",
    "    print(\"hello,\", line.rstrip())"
   ]
  },
  {
   "cell_type": "code",
   "execution_count": null,
   "metadata": {},
   "outputs": [
    {
     "name": "stdout",
     "output_type": "stream",
     "text": [
      "list>, wtf on steraetArden test\n",
      "list>, thre set\n",
      "list>, test name fo my\n",
      "list>, Second name Rmen\n"
     ]
    }
   ],
   "source": [
    "# Сортировать а затем печатать.\n",
    "name = []\n",
    "\n",
    "with open(\"name.txt\") as file:\n",
    "    for line in file:\n",
    "        name.append(line.rstrip())\n",
    "for n in sorted(name, reverse=True): # reverse=True -Сортировать в обратном порядке.\n",
    "    print(f\"list>, {n}\")"
   ]
  },
  {
   "cell_type": "code",
   "execution_count": null,
   "metadata": {},
   "outputs": [
    {
     "ename": "TypeError",
     "evalue": "'str' object cannot be interpreted as an integer",
     "output_type": "error",
     "traceback": [
      "\u001b[1;31m---------------------------------------------------------------------------\u001b[0m",
      "\u001b[1;31mTypeError\u001b[0m                                 Traceback (most recent call last)",
      "Cell \u001b[1;32mIn[26], line 8\u001b[0m\n\u001b[0;32m      6\u001b[0m \u001b[38;5;28;01mwith\u001b[39;00m \u001b[38;5;28mopen\u001b[39m(\u001b[38;5;124m\"\u001b[39m\u001b[38;5;124mstudents.csv\u001b[39m\u001b[38;5;124m\"\u001b[39m) \u001b[38;5;28;01mas\u001b[39;00m file:\n\u001b[0;32m      7\u001b[0m     \u001b[38;5;28;01mfor\u001b[39;00m line \u001b[38;5;129;01min\u001b[39;00m file:\n\u001b[1;32m----> 8\u001b[0m         name, house \u001b[38;5;241m=\u001b[39m \u001b[43mline\u001b[49m\u001b[38;5;241;43m.\u001b[39;49m\u001b[43mstrip\u001b[49m\u001b[43m(\u001b[49m\u001b[43m)\u001b[49m\u001b[38;5;241;43m.\u001b[39;49m\u001b[43msplit\u001b[49m\u001b[43m(\u001b[49m\u001b[38;5;124;43m\"\u001b[39;49m\u001b[38;5;124;43m,\u001b[39;49m\u001b[38;5;124;43m\"\u001b[39;49m\u001b[43m,\u001b[49m\u001b[43m \u001b[49m\u001b[38;5;124;43m\"\u001b[39;49m\u001b[38;5;124;43m,\u001b[39;49m\u001b[38;5;124;43m\"\u001b[39;49m\u001b[43m)\u001b[49m\n\u001b[0;32m      9\u001b[0m         \u001b[38;5;28mprint\u001b[39m(\u001b[38;5;124mf\u001b[39m\u001b[38;5;124m\"\u001b[39m\u001b[38;5;132;01m{\u001b[39;00mname\u001b[38;5;132;01m}\u001b[39;00m\u001b[38;5;124m in \u001b[39m\u001b[38;5;132;01m{\u001b[39;00mhouse\u001b[38;5;132;01m}\u001b[39;00m\u001b[38;5;124m\"\u001b[39m)\n",
      "\u001b[1;31mTypeError\u001b[0m: 'str' object cannot be interpreted as an integer"
     ]
    }
   ],
   "source": [
    "import csv\n",
    "\n",
    "# Четения фаила только с одной запятой.\n",
    "# # Son,\"Go cu\"\n",
    "# CSV -Текст формат. Разделяет значение запятыми.\n",
    "with open(\"students.csv\") as file:\n",
    "    for line in file:\n",
    "        name, house = line.strip().split(\",\")\n",
    "        print(f\"{name} in {house}\")"
   ]
  },
  {
   "cell_type": "code",
   "execution_count": 27,
   "metadata": {},
   "outputs": [
    {
     "ename": "ValueError",
     "evalue": "too many values to unpack (expected 2)",
     "output_type": "error",
     "traceback": [
      "\u001b[1;31m---------------------------------------------------------------------------\u001b[0m",
      "\u001b[1;31mValueError\u001b[0m                                Traceback (most recent call last)",
      "Cell \u001b[1;32mIn[27], line 9\u001b[0m\n\u001b[0;32m      7\u001b[0m \u001b[38;5;28;01mwith\u001b[39;00m \u001b[38;5;28mopen\u001b[39m(\u001b[38;5;124m\"\u001b[39m\u001b[38;5;124mstudents.csv\u001b[39m\u001b[38;5;124m\"\u001b[39m) \u001b[38;5;28;01mas\u001b[39;00m file:\n\u001b[0;32m      8\u001b[0m     \u001b[38;5;28;01mfor\u001b[39;00m line \u001b[38;5;129;01min\u001b[39;00m file:\n\u001b[1;32m----> 9\u001b[0m         name, house \u001b[38;5;241m=\u001b[39m line\u001b[38;5;241m.\u001b[39mrstrip()\u001b[38;5;241m.\u001b[39msplit(\u001b[38;5;124m\"\u001b[39m\u001b[38;5;124m,\u001b[39m\u001b[38;5;124m\"\u001b[39m)\n\u001b[0;32m     10\u001b[0m         student \u001b[38;5;241m=\u001b[39m {\u001b[38;5;124m\"\u001b[39m\u001b[38;5;124mname\u001b[39m\u001b[38;5;124m\"\u001b[39m: name, \u001b[38;5;124m\"\u001b[39m\u001b[38;5;124mhouse\u001b[39m\u001b[38;5;124m\"\u001b[39m: house}\n\u001b[0;32m     11\u001b[0m         \u001b[38;5;66;03m# student[\"name\"] = name\u001b[39;00m\n\u001b[0;32m     12\u001b[0m         \u001b[38;5;66;03m# student[\"house\"] = house\u001b[39;00m\n",
      "\u001b[1;31mValueError\u001b[0m: too many values to unpack (expected 2)"
     ]
    }
   ],
   "source": [
    "# Четение. Только четение с одной ЗЯПЯТОЙ Четения фаила только с одной запятой.\n",
    "# Список словарей. + split()\n",
    "# вывод Son is in \"Go cu\"\n",
    "#\n",
    "\n",
    "students = []\n",
    "with open(\"students.csv\") as file:\n",
    "    for line in file:\n",
    "        name, house = line.rstrip().split(\",\")\n",
    "        student = {\"name\": name, \"house\": house}\n",
    "        # student[\"name\"] = name\n",
    "        # student[\"house\"] = house\n",
    "        students.append(student)\n",
    "\n",
    "# key=get_name\n",
    "def get_name(student):\n",
    "    return student[\"name\"]\n",
    "\n",
    "# '' -\n",
    "# Функция как параметр в сортировки. Передаем по имени без ()\n",
    "for student in sorted(students, key=lambda student: student[\"name\"]):\n",
    "    print(f\"{student['name']} is in {student['house']}\")\n"
   ]
  },
  {
   "cell_type": "code",
   "execution_count": 28,
   "metadata": {},
   "outputs": [
    {
     "ename": "ValueError",
     "evalue": "too many values to unpack (expected 2)",
     "output_type": "error",
     "traceback": [
      "\u001b[1;31m---------------------------------------------------------------------------\u001b[0m",
      "\u001b[1;31mValueError\u001b[0m                                Traceback (most recent call last)",
      "Cell \u001b[1;32mIn[28], line 8\u001b[0m\n\u001b[0;32m      6\u001b[0m \u001b[38;5;28;01mwith\u001b[39;00m \u001b[38;5;28mopen\u001b[39m(\u001b[38;5;124m\"\u001b[39m\u001b[38;5;124mstudents.csv\u001b[39m\u001b[38;5;124m\"\u001b[39m) \u001b[38;5;28;01mas\u001b[39;00m file:\n\u001b[0;32m      7\u001b[0m     reader \u001b[38;5;241m=\u001b[39m csv\u001b[38;5;241m.\u001b[39mreader(file)\n\u001b[1;32m----> 8\u001b[0m     \u001b[38;5;28;01mfor\u001b[39;00m name, home \u001b[38;5;129;01min\u001b[39;00m reader:\n\u001b[0;32m      9\u001b[0m         students\u001b[38;5;241m.\u001b[39mappend({\u001b[38;5;124m\"\u001b[39m\u001b[38;5;124mname\u001b[39m\u001b[38;5;124m\"\u001b[39m: name, \u001b[38;5;124m\"\u001b[39m\u001b[38;5;124mhome\u001b[39m\u001b[38;5;124m\"\u001b[39m: home})\n\u001b[0;32m     11\u001b[0m \u001b[38;5;66;03m# Сортируем с\u001b[39;00m\n",
      "\u001b[1;31mValueError\u001b[0m: too many values to unpack (expected 2)"
     ]
    }
   ],
   "source": [
    "import csv\n",
    "# Вне зависит от запятых.\n",
    "# Выход -Son >is in< Go, c,u,\n",
    "\n",
    "students = []\n",
    "with open(\"students.csv\") as file:\n",
    "    reader = csv.reader(file)\n",
    "    for name, home in reader:\n",
    "        students.append({\"name\": name, \"home\": home})\n",
    "\n",
    "# Сортируем с\n",
    "for student in sorted(students, key=lambda student: student[\"name\"]):\n",
    "    print(f\"{student['name']} >is in< {student['home']}\")\n"
   ]
  },
  {
   "cell_type": "code",
   "execution_count": 2,
   "metadata": {},
   "outputs": [],
   "source": [
    "import csv\n",
    "# csv -Просто запись. Как массив.\n",
    "#\n",
    "name_in = input(\"what`s > name ?\")\n",
    "home_in = input(\"where`s > home ?\")\n",
    "\n",
    "with open(\"students.csv\", \"a\") as file:\n",
    "    writer = csv.writer(file)\n",
    "    writer.writerow([name_in, home_in])\n"
   ]
  },
  {
   "cell_type": "code",
   "execution_count": 3,
   "metadata": {},
   "outputs": [],
   "source": [
    "import csv\n",
    "# csv -Словарь. Запись\n",
    "# Создаеться продел после добавление записи.\n",
    "name_in = input(\"what`s > name ?\")\n",
    "home_in = input(\"where`s > home ?\")\n",
    "\n",
    "with open(\"students.csv\", \"a\") as file:\n",
    "    # fieldnames= -Список фактических столбцов. имена полей.\n",
    "    writer = csv.DictWriter(file, fieldnames=[\"name\", \"home\"])\n",
    "    # Запесь словаря.\n",
    "    writer.writerow({\"name\": name_in, \"home\": home_in})\n"
   ]
  },
  {
   "cell_type": "code",
   "execution_count": null,
   "metadata": {},
   "outputs": [],
   "source": [
    "import json\n",
    "\n",
    "with open('exempel.json', 'r', encoding=\"utf-8\") as file:\n",
    "    js_r = json.load(file)\n",
    "print(js_r)\n",
    "# del js_r[\"newString\"][\"int\"]\n",
    "\n",
    "\n",
    "# dumps -Четение + отступ\n",
    "print(json.dumps(js_r, indent=2))\n",
    "\n",
    "\n",
    "\n",
    "# Добавили. Переписали Фаил\n",
    "# js_r[\"newString\"] = [1, \"h\", {\"a\": 1}, [1,2,3]]\n",
    "\n",
    "# with open('exempel.json',\"w\", encoding=\"utf-8\") as file:\n",
    "    # json.dump(js_r, file, indent=4)\n",
    "\n",
    "# Обращение по элиментам\n",
    "# a =js_r[\"newString\"][1]\n",
    "# a =js_r[\"newString\"][2][\"a\"] # {'a': 1}\n",
    "# a =js_r[\"newString\"][3] # [1, 2, 3]\n",
    "# print(a)"
   ]
  },
  {
   "cell_type": "code",
   "execution_count": null,
   "metadata": {},
   "outputs": [],
   "source": []
  }
 ],
 "metadata": {
  "kernelspec": {
   "display_name": ".venv",
   "language": "python",
   "name": "python3"
  },
  "language_info": {
   "codemirror_mode": {
    "name": "ipython",
    "version": 3
   },
   "file_extension": ".py",
   "mimetype": "text/x-python",
   "name": "python",
   "nbconvert_exporter": "python",
   "pygments_lexer": "ipython3",
   "version": "3.13.7"
  }
 },
 "nbformat": 4,
 "nbformat_minor": 2
}
