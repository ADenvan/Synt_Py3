{
 "cells": [
  {
   "cell_type": "code",
   "execution_count": 1,
   "metadata": {},
   "outputs": [
    {
     "name": "stdout",
     "output_type": "stream",
     "text": [
      "3\n",
      "1.5059443382614963\n",
      "яблоко\n"
     ]
    }
   ],
   "source": [
    "# /--random (генерация случайных чисел)\n",
    "import random\n",
    "\n",
    "# randint(a, b) -случайное целое число от a до b включительно:\n",
    "print(random.randint(1, 10))  # например, 7\n",
    "\n",
    "# uniform(a, b) -случайное дробное число между a и b:\n",
    "print(random.uniform(1.5, 3.5))  # например, 2.3\n",
    "\n",
    "# choice(list) — случайный элемент списка:\n",
    "print(random.choice([\"яблоко\", \"банан\", \"апельсин\"]))  # например, \"банан\"\n"
   ]
  },
  {
   "cell_type": "code",
   "execution_count": 5,
   "metadata": {},
   "outputs": [
    {
     "data": {
      "text/plain": [
       "[256, 256, 255, 256, 255]"
      ]
     },
     "execution_count": 5,
     "metadata": {},
     "output_type": "execute_result"
    }
   ],
   "source": [
    "# generat -Генератор списка чисел. В диапозоне чисел от 255 до 256 и так 10 чисел.\n",
    "import random\n",
    "\n",
    "a = [random.randint(255,256) for _ in range(10)]\n",
    "b = [random.randint(257,258) for _ in range(10)]\n",
    "a[:5]"
   ]
  },
  {
   "cell_type": "code",
   "execution_count": null,
   "metadata": {},
   "outputs": [
    {
     "data": {
      "text/plain": [
       "[255,\n",
       " 256,\n",
       " 255,\n",
       " 255,\n",
       " 256,\n",
       " 255,\n",
       " 256,\n",
       " 255,\n",
       " 256,\n",
       " 255,\n",
       " 255,\n",
       " 256,\n",
       " 256,\n",
       " 255,\n",
       " 256,\n",
       " 255,\n",
       " 256,\n",
       " 255,\n",
       " 255,\n",
       " 256,\n",
       " 255,\n",
       " 255,\n",
       " 256,\n",
       " 256,\n",
       " 256,\n",
       " 256,\n",
       " 256,\n",
       " 255,\n",
       " 255,\n",
       " 255,\n",
       " 256,\n",
       " 255,\n",
       " 256,\n",
       " 255,\n",
       " 256,\n",
       " 255,\n",
       " 255,\n",
       " 256,\n",
       " 256,\n",
       " 255,\n",
       " 256,\n",
       " 255,\n",
       " 256,\n",
       " 255,\n",
       " 255,\n",
       " 255,\n",
       " 255,\n",
       " 256,\n",
       " 255,\n",
       " 256,\n",
       " 256,\n",
       " 255,\n",
       " 255,\n",
       " 255,\n",
       " 256,\n",
       " 256,\n",
       " 256,\n",
       " 255,\n",
       " 256,\n",
       " 255,\n",
       " 255,\n",
       " 255,\n",
       " 256,\n",
       " 256,\n",
       " 255,\n",
       " 255,\n",
       " 256,\n",
       " 255,\n",
       " 256,\n",
       " 255,\n",
       " 256,\n",
       " 256,\n",
       " 256,\n",
       " 255,\n",
       " 256,\n",
       " 255,\n",
       " 256,\n",
       " 255,\n",
       " 255,\n",
       " 256,\n",
       " 255,\n",
       " 255,\n",
       " 255,\n",
       " 255,\n",
       " 256,\n",
       " 256,\n",
       " 256,\n",
       " 255,\n",
       " 255,\n",
       " 255,\n",
       " 255,\n",
       " 256,\n",
       " 256,\n",
       " 256,\n",
       " 255,\n",
       " 256,\n",
       " 256,\n",
       " 255,\n",
       " 255,\n",
       " 256]"
      ]
     },
     "execution_count": 7,
     "metadata": {},
     "output_type": "execute_result"
    }
   ],
   "source": [
    "# choices -Случайный элемент списка 100 элементов К = 100.\n",
    "a = random.choices([255, 256], k = 100)\n",
    "b = random.choices([255, 256], k = 100)\n",
    "a[:5]"
   ]
  },
  {
   "cell_type": "code",
   "execution_count": null,
   "metadata": {},
   "outputs": [
    {
     "name": "stdout",
     "output_type": "stream",
     "text": [
      "Philadelphia\n",
      "66\n",
      "Выборка с методом choices  [90, 60, 40, 70, 20]\n"
     ]
    }
   ],
   "source": [
    "import random as rd\n",
    "\n",
    "# Выбор случайного элемента из списка\n",
    "def rd_choice():\n",
    "    list = [55, 66, 77, 88, 99]\n",
    "    city_list = ['New York', 'Los Angeles', 'Chicago', 'Houston', 'Philadelphia']\n",
    "    print(rd.choice(city_list))\n",
    "    print(rd.choice(list))\n",
    "rd_choice()\n",
    "\n",
    "\n",
    "# random.choices() используется, когда требуется выбрать несколько случайных элементов из заданной последовательности.\n",
    "def rd_choice_2():\n",
    "    # Выборка с заменой\n",
    "    list = [20, 30, 40, 50 ,60, 70, 80, 90]\n",
    "    sampling = rd.choices(list, k=5)\n",
    "\n",
    "    print(\"Выборка с методом choices \", sampling)\n",
    "rd_choice_2()"
   ]
  },
  {
   "cell_type": "code",
   "execution_count": 11,
   "metadata": {},
   "outputs": [
    {
     "name": "stdout",
     "output_type": "stream",
     "text": [
      "Использование random.randint() для генерации случайного целого числа\n",
      "6 3 3\n"
     ]
    }
   ],
   "source": [
    "\n",
    "# randint(a,b) работает только с целыми числами;\n",
    "# Функция randint(a,b) принимает только два параметра, оба обязательны;\n",
    "# Полученное в результате случайно число больше или равно a, а также меньше или равно b\n",
    "\n",
    "print(\"Использование random.randint() для генерации случайного целого числа\")\n",
    "a = (rd.randint(0, 5))\n",
    "b = (rd.randint(0, 5))\n",
    "number = a + b\n",
    "print(number, a, b)\n"
   ]
  },
  {
   "cell_type": "code",
   "execution_count": null,
   "metadata": {},
   "outputs": [
    {
     "name": "stdout",
     "output_type": "stream",
     "text": [
      "Генерация случайного числа в пределах заданного промежутка\n",
      "40 10\n"
     ]
    }
   ],
   "source": [
    "# randrange() используется для генерации случайного целого числа в пределах заданного промежутка. Скажем, для получения любого числа в диапазоне между 10 и 50.\n",
    "\n",
    "# Шаг показывает разницу между каждым числом заданной последовательности. Шаг по умолчанию равен 1, однако его значение можно изменить.\n",
    "\n",
    "print(\"Генерация случайного числа в пределах заданного промежутка\")\n",
    "a = (rd.randrange(10, 50, 5))\n",
    "b = (rd.randrange(10, 50, 5))\n",
    "print(a, b)"
   ]
  },
  {
   "cell_type": "code",
   "execution_count": null,
   "metadata": {},
   "outputs": [],
   "source": [
    "# sample() возвращает список уникальных элементов, которые были выбраны из последовательности population. Итоговое количество элементов зависит от значения k;\n",
    "\n",
    "#  Значение в population может быть представлено в виде списка или любой другой последовательности.\n",
    "\n",
    "\n",
    "list = [2, 5, 8, 9, 12]\n",
    "print (\"random.sample() \", rd.sample(list,3))"
   ]
  },
  {
   "cell_type": "code",
   "execution_count": null,
   "metadata": {},
   "outputs": [],
   "source": [
    "# shuffle() смешивает элементы списка\n",
    "list = [2, 5, 8, 9, 12]\n",
    "\n",
    "rd.shuffle(list)\n",
    "print (\"Вывод перемешанного списка \", list)"
   ]
  },
  {
   "cell_type": "code",
   "execution_count": 13,
   "metadata": {},
   "outputs": [
    {
     "name": "stdout",
     "output_type": "stream",
     "text": [
      "Игра в кости использует модуль random\n",
      "\n",
      "Анна выиграла жеребьевку.\n",
      "Анна выиграла игру в кости. Финальный счет Анны: 10 Финальный счет Алекса: 4 \n",
      "\n",
      "Алекс выиграл жеребьевку.\n",
      "Анна выиграла игру в кости. Финальный счет Анны: 9 Финальный счет Алекса: 5 \n",
      "\n",
      "Алекс выиграл жеребьевку.\n",
      "Анна выиграла игру в кости. Финальный счет Анны: 8 Финальный счет Алекса: 5 \n",
      "\n"
     ]
    }
   ],
   "source": [
    "import random\n",
    "\n",
    "\n",
    "PlayerOne = \"Анна\"\n",
    "PlayerTwo = \"Алекс\"\n",
    "\n",
    "AnnaScore = 0\n",
    "AlexScore = 0\n",
    "\n",
    "# У каждого кубика шесть возможных значений\n",
    "diceOne = [1, 2, 3, 4, 5, 6]\n",
    "diceTwo = [1, 2, 3, 4, 5, 6]\n",
    "\n",
    "def playDiceGame():\n",
    "    \"\"\"Оба участника, Анна и Алекс, бросают кубик, используя метод shuffle\"\"\"\n",
    "\n",
    "    for i in range(5):\n",
    "        #оба кубика встряхиваются 5 раз\n",
    "        random.shuffle(diceOne)\n",
    "        random.shuffle(diceTwo)\n",
    "    firstNumber = random.choice(diceOne) # использование метода choice для выбора случайного значения\n",
    "    SecondNumber = random.choice(diceTwo)\n",
    "    return firstNumber + SecondNumber\n",
    "\n",
    "print(\"Игра в кости использует модуль random\\n\")\n",
    "\n",
    "#Давайте сыграем в кости три раза\n",
    "for i in range(3):\n",
    "    # определим, кто будет бросать кости первым\n",
    "    AlexTossNumber = random.randint(1, 100) # генерация случайного числа от 1 до 100, включая 100\n",
    "    AnnaTossNumber = random.randrange(1, 101, 1) # генерация случайного числа от 1 до 100, не включая 101\n",
    "\n",
    "    if( AlexTossNumber > AnnaTossNumber):\n",
    "        print(\"Алекс выиграл жеребьевку.\")\n",
    "        AlexScore = playDiceGame()\n",
    "        AnnaScore = playDiceGame()\n",
    "    else:\n",
    "        print(\"Анна выиграла жеребьевку.\")\n",
    "        AnnaScore = playDiceGame()\n",
    "        AlexScore = playDiceGame()\n",
    "\n",
    "    if(AlexScore > AnnaScore):\n",
    "        print (\"Алекс выиграл игру в кости. Финальный счет Алекса:\", AlexScore, \"Финальный счет Анны:\", AnnaScore, \"\\n\")\n",
    "    else:\n",
    "        print(\"Анна выиграла игру в кости. Финальный счет Анны:\", AnnaScore, \"Финальный счет Алекса:\", AlexScore, \"\\n\")"
   ]
  }
 ],
 "metadata": {
  "kernelspec": {
   "display_name": "venv",
   "language": "python",
   "name": "python3"
  },
  "language_info": {
   "codemirror_mode": {
    "name": "ipython",
    "version": 3
   },
   "file_extension": ".py",
   "mimetype": "text/x-python",
   "name": "python",
   "nbconvert_exporter": "python",
   "pygments_lexer": "ipython3",
   "version": "3.12.6"
  }
 },
 "nbformat": 4,
 "nbformat_minor": 2
}
