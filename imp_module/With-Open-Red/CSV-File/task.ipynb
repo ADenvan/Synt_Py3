{
 "cells": [
  {
   "cell_type": "code",
   "execution_count": null,
   "metadata": {},
   "outputs": [],
   "source": [
    "# /--csv/task\n",
    "import csv"
   ]
  },
  {
   "cell_type": "code",
   "execution_count": null,
   "metadata": {},
   "outputs": [],
   "source": [
    "# 23.AI-task\n",
    "# Написать функцию для чтения CSV-файла и подсчета средней величины столбца с числами.\n",
    "# Входные данные: Файл data.csv с содержимым:\n",
    "import csv\n",
    "\n",
    "def calculate_average_age(filename):\n",
    "    total = 0\n",
    "    count = 0\n",
    "    with open(filename, 'r') as file:\n",
    "        reader = csv.DictReader(file)\n",
    "        for row in reader:\n",
    "            total += int(row['Age'])\n",
    "            count += 1\n",
    "    return total / count if count != 0 else 0\n",
    "\n",
    "print(calculate_average_age('data.csv'))  # Вывод: 30.0\n"
   ]
  }
 ],
 "metadata": {
  "kernelspec": {
   "display_name": "Python 3",
   "language": "python",
   "name": "python3"
  },
  "language_info": {
   "codemirror_mode": {
    "name": "ipython",
    "version": 3
   },
   "file_extension": ".py",
   "mimetype": "text/x-python",
   "name": "python",
   "nbconvert_exporter": "python",
   "pygments_lexer": "ipython3",
   "version": "3.10.11"
  }
 },
 "nbformat": 4,
 "nbformat_minor": 2
}
