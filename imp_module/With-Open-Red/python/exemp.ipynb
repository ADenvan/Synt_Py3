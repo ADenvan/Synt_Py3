{
 "cells": [
  {
   "cell_type": "code",
   "execution_count": null,
   "id": "cbc4a108",
   "metadata": {},
   "outputs": [
    {
     "name": "stdout",
     "output_type": "stream",
     "text": [
      "1\n",
      "dict_keys(['id', 'where', 'task', 'description'])\n"
     ]
    }
   ],
   "source": [
    "import os\n",
    "import ast\n",
    "# Четение python file\n",
    "def main(path_exemp: str):\n",
    "    py_read = []\n",
    "    with open(path_exemp, \"r\", encoding=\"utf-8\") as file:\n",
    "        lod_py = file.read()\n",
    "        py_read.append(ast.literal_eval(lod_py))\n",
    "    return py_read\n",
    "\n",
    "if __name__ == \"__main__\":\n",
    "    data = main(\"file/task_list.py\")\n",
    "\n",
    "    get_id = data[0][0].get(\"id\")\n",
    "    get_key = data[0][0].keys()\n",
    "    get_val = data[0][0].values()\n",
    "    print(get_id)\n",
    "    print(get_key)"
   ]
  }
 ],
 "metadata": {
  "kernelspec": {
   "display_name": ".venv",
   "language": "python",
   "name": "python3"
  },
  "language_info": {
   "codemirror_mode": {
    "name": "ipython",
    "version": 3
   },
   "file_extension": ".py",
   "mimetype": "text/x-python",
   "name": "python",
   "nbconvert_exporter": "python",
   "pygments_lexer": "ipython3",
   "version": "3.13.7"
  }
 },
 "nbformat": 4,
 "nbformat_minor": 5
}
