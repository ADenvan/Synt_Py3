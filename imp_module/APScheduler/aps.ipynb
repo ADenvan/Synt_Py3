{
 "cells": [
  {
   "cell_type": "code",
   "execution_count": null,
   "id": "9f7d652c",
   "metadata": {},
   "outputs": [],
   "source": [
    "import time\n",
    "from apscheduler.schedulers.background import BackgroundScheduler\n",
    "\n",
    "\n",
    "def job():\n",
    "    print(\"hello\", f\"{int(time.time())}\")\n",
    "\n",
    "\n",
    "if __name__ == \"__main__\":\n",
    "    scheduler = BackgroundScheduler()\n",
    "    scheduler.add_job(job, \"interval\", seconds=3)\n",
    "    scheduler.start()\n"
   ]
  },
  {
   "cell_type": "code",
   "execution_count": null,
   "id": "97197e16",
   "metadata": {},
   "outputs": [],
   "source": [
    "import time\n",
    "from apscheduler.schedulers.asyncio import AsyncIOScheduler\n",
    "\n",
    "\n",
    "async def job():\n",
    "    log = (\"hello\", f\"{time.time}\")\n",
    "    await log\n",
    "\n",
    "\n",
    "if __name__ == \"__main__\":\n",
    "    scheduler = AsyncIOScheduler()\n",
    "    scheduler.add_job(job, \"interval\", seconds=3)\n",
    "    scheduler.start()\n"
   ]
  },
  {
   "cell_type": "code",
   "execution_count": 2,
   "id": "5c86350b",
   "metadata": {},
   "outputs": [
    {
     "name": "stdout",
     "output_type": "stream",
     "text": [
      "Hello\n",
      "Hello\n",
      "Hello\n"
     ]
    }
   ],
   "source": [
    "from apscheduler.schedulers.background import BackgroundScheduler\n",
    "import requests\n",
    "\n",
    "def job():\n",
    "    print(\"Hello\")\n",
    "\n",
    "if __name__ == \"__main__\":\n",
    "    scheduler = BackgroundScheduler()\n",
    "    scheduler.add_job(job, \"interval\", seconds=5)\n",
    "    scheduler.start()"
   ]
  },
  {
   "cell_type": "code",
   "execution_count": null,
   "id": "3fb04c63",
   "metadata": {},
   "outputs": [
    {
     "name": "stdout",
     "output_type": "stream",
     "text": [
      "Day's tasks\n",
      "08:00 - Drink coffee\n",
      "11:00 - Work meeting\n",
      "23:59 - Hack the Planet!\n",
      "BTC: 115999.0$\n",
      "\n",
      "Day's tasks\n",
      "08:00 - Drink coffee\n",
      "11:00 - Work meeting\n",
      "23:59 - Hack the Planet!\n",
      "BTC: 115999.0$\n",
      "\n"
     ]
    }
   ],
   "source": [
    "import schedule\n",
    "import requests\n",
    "\n",
    "\n",
    "def greeting():\n",
    "    \"\"\"Greeting function\"\"\"\n",
    "    \n",
    "    todos_dict = {\n",
    "        '08:00': 'Drink coffee',\n",
    "        '11:00': 'Work meeting',\n",
    "        '23:59': 'Hack the Planet!'\n",
    "    }\n",
    "    \n",
    "    print(\"Day's tasks\")\n",
    "    for k, v in todos_dict.items():\n",
    "        print(f'{k} - {v}')\n",
    "        \n",
    "    response = requests.get(url='https://yobit.net/api/3/ticker/btc_usd')\n",
    "    data = response.json()\n",
    "    btc_price = f\"BTC: {round(data.get('btc_usd').get('last'), 2)}$\\n\"\n",
    "    \n",
    "    print(btc_price)\n",
    "        \n",
    "        \n",
    "def main():\n",
    "    \n",
    "    schedule.every(4).seconds.do(greeting)\n",
    "    schedule.every(5).minutes.do(greeting)\n",
    "    schedule.every().hour.do(greeting)\n",
    "    schedule.every().day.at('21:51').do(greeting)\n",
    "    schedule.every().thursday.do(greeting)\n",
    "    schedule.every().friday.at('23:45').do(greeting)\n",
    "    \n",
    "    while True:\n",
    "        schedule.run_pending()\n",
    "    \n",
    "    \n",
    "if __name__ == '__main__':\n",
    "    main()"
   ]
  }
 ],
 "metadata": {
  "kernelspec": {
   "display_name": ".venv",
   "language": "python",
   "name": "python3"
  },
  "language_info": {
   "codemirror_mode": {
    "name": "ipython",
    "version": 3
   },
   "file_extension": ".py",
   "mimetype": "text/x-python",
   "name": "python",
   "nbconvert_exporter": "python",
   "pygments_lexer": "ipython3",
   "version": "3.13.7"
  }
 },
 "nbformat": 4,
 "nbformat_minor": 5
}
