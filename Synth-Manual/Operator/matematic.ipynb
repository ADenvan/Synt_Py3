{
 "cells": [
  {
   "cell_type": "code",
   "execution_count": null,
   "metadata": {},
   "outputs": [],
   "source": [
    "# /--// -Округление к наименьшему целому.\n",
    "# /--%  -Остаток от диления.\n",
    "# /--** -Возведение в степень. Работает с права на лево."
   ]
  },
  {
   "cell_type": "code",
   "execution_count": null,
   "metadata": {},
   "outputs": [
    {
     "name": "stdout",
     "output_type": "stream",
     "text": [
      "12 55 660 12\n",
      "<class 'float'> <class 'str'>\n"
     ]
    }
   ],
   "source": [
    "# Множественное присваиване\n",
    "a, b = 12, 55\n",
    "print(a, b, a * b, a % b)\n",
    "\n",
    "# type -Узнать Тип данных\n",
    "x = 6.7\n",
    "s = \"Hello\"\n",
    "print(type(x), type(s)) # <class 'float'> <class 'str'>\n",
    "\n"
   ]
  },
  {
   "cell_type": "code",
   "execution_count": null,
   "metadata": {},
   "outputs": [
    {
     "data": {
      "text/plain": [
       "15"
      ]
     },
     "execution_count": 2,
     "metadata": {},
     "output_type": "execute_result"
    }
   ],
   "source": [
    "# /--matematic-function/--Математические-функции. \n",
    "\n",
    "# abs -Преобразования отрицательных чисел в положительные.\n",
    "a = abs(1.5)  # Для вычесления модуля числа.\n",
    "\n",
    "b = min(1, 2, 5, -10) # -10\n",
    "c = max(11, 55, 60) # 60\n",
    "\n",
    "# pow(x, y) — возведение x в степень y (аналог x ** y):\n",
    "pow(6, 2) # 26\n",
    "\n",
    "\n",
    "\n",
    "max(1, 2, abs(-3), -10) # 3\n",
    "max(1, 2, abs(min(10, 5, -3)), 15) # 15\n"
   ]
  },
  {
   "cell_type": "code",
   "execution_count": null,
   "metadata": {},
   "outputs": [
    {
     "data": {
      "text/plain": [
       "10.0"
      ]
     },
     "execution_count": 4,
     "metadata": {},
     "output_type": "execute_result"
    }
   ],
   "source": [
    "# round -Округления либо меньше либо больше.\n",
    "round(1.5)\n",
    "round(7.8756, 2)    # Округлене до сотых.\n",
    "round(7.849322, -1)  # Округление до тысечных."
   ]
  },
  {
   "cell_type": "code",
   "execution_count": null,
   "metadata": {},
   "outputs": [],
   "source": [
    "# /--iter-Итератор.\n",
    "\n",
    "d23 = [5, 3, 7, 10, 32]\n",
    "it24 = iter(d23)\n",
    "\n",
    "next(it24)  # 5 Последовательной перебор.\n",
    "print(next(it24), next(it24) ) # 3, 7\n",
    "\n",
    "s23 = \"Python\"\n",
    "print(next(s23))\n",
    "siter = iter(s23)\n",
    "\n",
    "r23 = range(5)\n",
    "rIter = iter(r23)"
   ]
  },
  {
   "cell_type": "code",
   "execution_count": null,
   "metadata": {},
   "outputs": [],
   "source": [
    "# /--math (требует импорта)\n",
    "import math\n",
    "\n",
    "# sqrt -квадратный корень\n",
    "math.sqrt(25) # 5.0\n",
    "\n",
    "# ceil -округление вверх:\n",
    "math.ceil(3.1) # 4\n",
    "\n",
    "# floor — округление вниз:\n",
    "math.floor(3.9) # 3\n",
    "\n",
    "# factorial(x) — факториал числа:\n",
    "math.factorial(5) # 123\n",
    "\n",
    "# gcd(a, b) — наибольший общий делитель:\n",
    "math.gcd(12, 8) # 4\n",
    "\n",
    "# log(x, base) — логарифм x по основанию base:\n",
    "math.log(100, 10) # 2.0\n",
    "\n",
    "# math.sin(x), math.cos(x), math.tan(x) — тригонометрия (углы в радианах):\n",
    "math.sin(math.pi / 2) # 1.0\n",
    "\n",
    "# math.pi и math.e — константы:\n",
    "math.pi  # 3.141592653589793"
   ]
  },
  {
   "cell_type": "code",
   "execution_count": null,
   "metadata": {},
   "outputs": [],
   "source": [
    "# Решение квадратного уравнения ax² + bx + c = 0\n",
    "import math\n",
    "\n",
    "a, b, c = 1, -5, 6\n",
    "discriminant = b**2 - 4*a*c\n",
    "x1 = (-b + math.sqrt(discriminant)) / (2*a)\n",
    "x2 = (-b - math.sqrt(discriminant)) / (2*a)\n",
    "print(x1, x2)  # 3.0 2.0"
   ]
  },
  {
   "cell_type": "code",
   "execution_count": null,
   "metadata": {},
   "outputs": [],
   "source": [
    "# Вычислите длину гипотенузы прямоугольного треугольника с катетами 3 и 4.\n",
    "import math\n",
    "a, b = 3, 4\n",
    "c = math.sqrt(a**2 + b**2)\n",
    "print(c)  # 5.0"
   ]
  },
  {
   "cell_type": "code",
   "execution_count": null,
   "metadata": {},
   "outputs": [],
   "source": [
    "# Установить координаты.\n",
    "def set_coord(self, x, y):\n",
    "    # Проверка на числа.\n",
    "    if type(x) in (int, float) and type(y) in (int, float):\n",
    "        self.__x = x\n",
    "        self.__y = y\n",
    "    else:\n",
    "        raise ValueError(\"Координаты должны быть числами\")"
   ]
  },
  {
   "cell_type": "code",
   "execution_count": null,
   "metadata": {},
   "outputs": [
    {
     "name": "stdout",
     "output_type": "stream",
     "text": [
      "[1, 2, 3, 4, 5]\n",
      "[0]\n"
     ]
    }
   ],
   "source": [
    "\n",
    "# Математический метод (без строк Ты можешь преобразовать число в строку, а затем разбить его на отдельные символы.) # Если не хочешь использовать строки:\n",
    "number = 12345\n",
    "digits = []\n",
    "\n",
    "while number > 0:\n",
    "    digits.append(number % 10)  # Получаем последнюю цифру\n",
    "    number //= 10  # Убираем последнюю цифру\n",
    "\n",
    "digits.reverse()  # Переворачиваем, так как цифры добавлены в обратном порядке\n",
    "print(digits)  # [1, 2, 3, 4, 5]\n"
   ]
  },
  {
   "cell_type": "code",
   "execution_count": null,
   "metadata": {},
   "outputs": [
    {
     "name": "stdout",
     "output_type": "stream",
     "text": [
      "d4 3.0\n",
      "1.0\n"
     ]
    }
   ],
   "source": [
    "# ** -Возведение в степень. Работает с права на лево.\n",
    "d4 = 2 ** 3     # = 8\n",
    "d4 = 36 ** 0.5  # = 6.0\n",
    "d4 = 2 ** 3 ** 2  # = 512\n",
    "d4 = 27 ** (1/3)  # = 3.0\n",
    "print(f\"d4 {d4}\")"
   ]
  },
  {
   "cell_type": "code",
   "execution_count": null,
   "metadata": {},
   "outputs": [],
   "source": [
    "# % -Остаток от диления.\n",
    "d4 = 10 % 3     # = 1\n",
    "d4 = -9 % 5     # = 1\n",
    "d4 = 9 % -5     # = -1\n",
    "d4 = -9 % -5    # = -4"
   ]
  },
  {
   "cell_type": "code",
   "execution_count": null,
   "metadata": {},
   "outputs": [],
   "source": [
    "# // -Округление к наименьшему целому.\n",
    "d3 = 7 // 2  # 3 -\n",
    "d3 = -7 // 2  # -4 -"
   ]
  }
 ],
 "metadata": {
  "kernelspec": {
   "display_name": "Python 3",
   "language": "python",
   "name": "python3"
  },
  "language_info": {
   "codemirror_mode": {
    "name": "ipython",
    "version": 3
   },
   "file_extension": ".py",
   "mimetype": "text/x-python",
   "name": "python",
   "nbconvert_exporter": "python",
   "pygments_lexer": "ipython3",
   "version": "3.10.11"
  }
 },
 "nbformat": 4,
 "nbformat_minor": 2
}
