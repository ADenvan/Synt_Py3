{
 "cells": [
  {
   "cell_type": "code",
   "execution_count": null,
   "metadata": {},
   "outputs": [],
   "source": [
    "# /--log/--логические операторы\n",
    "# /--and - И\n",
    "# /--or - ИЛИ\n",
    "# /--not - Нет - самый высокий приоритет.\n",
    "# not in -Если нет\n",
    "\n",
    "# Проверка Х7 четное или нет\n",
    "x7 = 6\n",
    "print(x7 % 2 == 0)  # True Проверка Х7 четное или нет\n",
    "y7 = 7\n",
    "print(y7 % 2 == 0)  # False"
   ]
  },
  {
   "cell_type": "code",
   "execution_count": null,
   "metadata": {},
   "outputs": [],
   "source": [
    "# and -И-Числа в Диапазоне.\n",
    "a7 = 1.85\n",
    "print(a7 >= -2 and a7 <= 5)  # True -2 <= a7 <= 5\n",
    "y7 % 2 != 0 and y7 % 3 != 0  # True\n",
    "y7 % 2 == 0 and y7 % 3 == 0  # False\n",
    "\n",
    "\n",
    "# Здесь оператор and гарантирует, что сообщение будет напечатано только при выполнении обоих условий: температура выше 20 градусов и солнечно (and is_sunny).\n",
    "temperature = 25\n",
    "is_sunny = True\n",
    "if temperature > 20 and is_sunny:\n",
    "    print(\"It's a perfect day for a picnic!\")"
   ]
  },
  {
   "cell_type": "code",
   "execution_count": null,
   "metadata": {},
   "outputs": [],
   "source": [
    "# and -Переменная options содержит два булевых значения. Вложенные циклы for дважды перебирают options, чтобы создать все перестановки True и False.\n",
    "options = True, False\n",
    "for a in options:\n",
    "    for b in options:\n",
    "        print(f\"{a} and {b} gives {a and b}\")\n",
    "        # True and True gives True\n",
    "        # True and False gives False\n",
    "        # False and True gives False\n",
    "        # False and False gives False"
   ]
  },
  {
   "cell_type": "code",
   "execution_count": null,
   "metadata": {},
   "outputs": [],
   "source": [
    "# and -Значения, связанные с ключом «Success» в каждом словаре, являются либо True, либо False.\n",
    "# Оператор >= в item[«Price»] >= 100 также возвращает True или False.\n",
    "data = [\n",
    "{\"Item\": \"Python Book\", \"Price\": 50, \"Quantity\": 1, \"Success\": True},\n",
    "{\"Item\": \"Coffee Machine\", \"Price\": 125, \"Quantity\": 1, \"Success\": False},\n",
    "{\"Item\": \"Headphones\", \"Price\": 250, \"Quantity\": 1, \"Success\": True},\n",
    "{\"Item\": \"Cables\", \"Price\": 15.99, \"Quantity\": 3, \"Success\": True},\n",
    "]\n",
    "for item in data:\n",
    "    if item[\"Success\"] and item[\"Price\"] >= 100:\n",
    "        print(item)"
   ]
  },
  {
   "cell_type": "code",
   "execution_count": null,
   "metadata": {},
   "outputs": [],
   "source": [
    "# and -Имя печатается только в том случае, если оно содержит менее пяти букв и начинается с буквы «J». Оба требования должны быть выполнены.\n",
    "names = \"James\", \"Bob\", \"David\", \"Jane\", \"Kate\", \"Mary\"\n",
    "for name in names:\n",
    "   if len(name) < 5 and name[0] == \"J\":\n",
    "      print(name) # Jane"
   ]
  },
  {
   "cell_type": "code",
   "execution_count": null,
   "metadata": {},
   "outputs": [],
   "source": [
    "# or -ИЛИ\n",
    "# Кратность числа в диапазоне.\n",
    "x7 % 2 == 0 or x7 % 3 == 0  # True\n",
    "x7 % 2 != 0 or x7 % 3 != 0  # False\n",
    "\n",
    "# В данном случае мы отправимся на прогулку, если либо будет солнечно, либо у нас будет зонтик\n",
    "has_umbrella = False\n",
    "\n",
    "if is_sunny or has_umbrella:\n",
    "    print(\"Let's go for a walk!\")"
   ]
  },
  {
   "cell_type": "code",
   "execution_count": null,
   "metadata": {},
   "outputs": [],
   "source": [
    "# or -Мы также можем вернуться к примеру с именами людей, который мы рассматривали ранее, но заменить оператор and на or:\n",
    "options = True, False\n",
    "for a in options:\n",
    "    for b in options:\n",
    "        print(f\"{a} or {b} gives {a or b}\")\n",
    "        # True or True gives True\n",
    "        # True or False gives True\n",
    "        # False or True gives True\n",
    "        # False or False gives False"
   ]
  },
  {
   "cell_type": "code",
   "execution_count": null,
   "metadata": {},
   "outputs": [],
   "source": [
    "# or -Теперь оператор if содержит выражение or. Таким образом, цикл for выводит все имена, которые либо состоят из менее чем пяти букв, либо начинаются с буквы «J». Строка «Jane»\n",
    "names = \"James\", \"Bob\", \"David\", \"Jane\", \"Kate\", \"Mary\"\n",
    "for name in names:\n",
    "    if len(name) < 5 or name[0] == \"J\":\n",
    "        print(name)\n",
    "        # James Bob Jane Kate Mary"
   ]
  },
  {
   "cell_type": "code",
   "execution_count": null,
   "metadata": {},
   "outputs": [],
   "source": [
    "# or -Во втором примере число 42 истинно, но пустой список [] ложен, поскольку это пустая последовательность. Так как один из двух операндов является истинным, все выражение or оценивается как истинное.\n",
    "if 42 or []:\n",
    "    print(\"At least one operand is truthy\")\n",
    "else:\n",
    "    print(\"None of the operands is truthy\")\n",
    "    # At least one operand is truthy\n",
    "\n",
    "# В последнем примере и 0, и [] являются ложными. Поэтому все выражение оценивается как ложное.\n",
    "if 0 or []:\n",
    "    print(\"At least one operand is truthy\")\n",
    "else:\n",
    "    print(\"None of the operands is truthy\")\n",
    "    # None of the operands is truthy\n",
    "\n",
    "print(42 or [10, 20, 30])\n",
    "print(42 or [])\n",
    "print([] or 42)\n",
    "print([] or 0)"
   ]
  },
  {
   "cell_type": "code",
   "execution_count": null,
   "metadata": {},
   "outputs": [],
   "source": [
    "# or -Этот цикл for выводит строки, которые соответствуют хотя бы одному из требований. Книга по Python и кабели включены, так как их цена ниже 75 долларов. Кофемашина включена, поскольку транзакция не была успешной.\n",
    "\n",
    "data = [\n",
    "{\"Item\": \"Python Book\", \"Price\": 50, \"Quantity\": 1, \"Success\": True},\n",
    "{\"Item\": \"Coffee Machine\", \"Price\": 125, \"Quantity\": 1, \"Success\": False},\n",
    "{\"Item\": \"Headphones\", \"Price\": 250, \"Quantity\": 1, \"Success\": True},\n",
    "{\"Item\": \"Cables\", \"Price\": 15.99, \"Quantity\": 3, \"Success\": True},\n",
    "]\n",
    "for item in data:\n",
    "    if item[\"Success\"] == False or item[\"Price\"] < 75:\n",
    "        print(item)"
   ]
  },
  {
   "cell_type": "code",
   "execution_count": null,
   "metadata": {},
   "outputs": [],
   "source": [
    "# not - самый высокий приоритет.\n",
    "# Оператор NOT отличается от AND и OR тем, что ему требуется только один операнд. NOT преобразует true в false и наоборот. Вот таблица истинности для NOT:\n",
    "\n",
    "not (x7 % 2 == 0 or x7 % 3 == 0)  # False"
   ]
  },
  {
   "cell_type": "code",
   "execution_count": null,
   "metadata": {},
   "outputs": [
    {
     "name": "stdout",
     "output_type": "stream",
     "text": [
      "['a', 'b', 'c']\n"
     ]
    }
   ],
   "source": [
    "# not in -Если нет в моем листе добавить созраняя порядок. Убираем дубликаты.\n",
    "my_list = [\"a\", \"b\", \"c\", \"a\", \"b\"]\n",
    "new_list = []\n",
    "for el in my_list:\n",
    "    if el not in new_list:\n",
    "        new_list.append(el)\n",
    "print(new_list)"
   ]
  },
  {
   "cell_type": "code",
   "execution_count": null,
   "metadata": {},
   "outputs": [
    {
     "name": "stdout",
     "output_type": "stream",
     "text": [
      "not True evaluates to False\n",
      "not False evaluates to True\n"
     ]
    }
   ],
   "source": [
    "# not -\n",
    "options = True, False\n",
    "for a in options:\n",
    "    print(f\"not {a} evaluates to {not a}\")\n",
    "    # not True evaluates to False\n",
    "    # not False evaluates to True"
   ]
  },
  {
   "cell_type": "code",
   "execution_count": null,
   "metadata": {},
   "outputs": [],
   "source": [
    "# not -Как и в случае с and и or, операнд, используемый в операторе not, не обязательно должен быть булевым. С not можно использовать любой объект, поскольку любой объект является либо истинным, либо ложным.\n",
    "if not \"python\":\n",
    "    print(\"The `if` statement evaluated as `True`\")\n",
    "else:\n",
    "    print(\"The `if` statement evaluated as `False`\")\n",
    "\n",
    "if not \"\":\n",
    "    print(\"The `if` statement evaluated as `True`\")\n",
    "else:\n",
    "    print(\"The `if` statement evaluated as `False`\")\n",
    "# В отличие от операторов and и or, оператор not всегда возвращает булев объект:\n",
    "print(not \"python\")\n",
    "print(not \"\")"
   ]
  },
  {
   "cell_type": "code",
   "execution_count": null,
   "metadata": {},
   "outputs": [],
   "source": [
    "# not -В этом примере мы хотим отобразить все неудачные транзакции. Один из вариантов — использовать оператор равенства ==, чтобы проверить, равно ли data[«Success»] False. Однако вместо этого можно использовать оператор not:\n",
    "data = [\n",
    "{\"Item\": \"Python Book\", \"Price\": 50, \"Quantity\": 1, \"Success\": True},\n",
    "{\"Item\": \"Coffee Machine\", \"Price\": 125, \"Quantity\": 1, \"Success\": False},\n",
    "{\"Item\": \"Headphones\", \"Price\": 250, \"Quantity\": 1, \"Success\": True},\n",
    "{\"Item\": \"Cables\", \"Price\": 15.99, \"Quantity\": 3, \"Success\": True},\n",
    "]\n",
    "for item in data:\n",
    "    if not item[\"Success\"]:\n",
    "        print(item)"
   ]
  },
  {
   "cell_type": "code",
   "execution_count": null,
   "metadata": {},
   "outputs": [
    {
     "name": "stdout",
     "output_type": "stream",
     "text": [
      "{'Item': 'Coffee Machine', 'Price': 125, 'Quantity': 1, 'Success': False}\n",
      "{'Item': 'Headphones', 'Price': 250, 'Quantity': 1, 'Success': True}\n",
      "{'Item': 'Cables', 'Price': 15.99, 'Quantity': 3, 'Success': True}\n"
     ]
    }
   ],
   "source": [
    "# Приоритет логических операторов\n",
    "# and имеет приоритет над or\n",
    "data = [\n",
    "{\"Item\": \"Python Book\", \"Price\": 50, \"Quantity\": 1, \"Success\": True},\n",
    "{\"Item\": \"Coffee Machine\", \"Price\": 125, \"Quantity\": 1, \"Success\": False},\n",
    "{\"Item\": \"Headphones\", \"Price\": 250, \"Quantity\": 1, \"Success\": True},\n",
    "{\"Item\": \"Cables\", \"Price\": 15.99, \"Quantity\": 3, \"Success\": True},\n",
    "]\n",
    "\n",
    "# Python разрешил эту двусмысленность, предоставив оператору and приоритет над оператором or. Это означает, что выражение and оценивается первым, а его результат используется в выражении or.\n",
    "for item in data:\n",
    "    if item[\"Price\"] > 100 or item[\"Quantity\"] > 2 and item[\"Success\"]:\n",
    "        print(item)\n",
    "# Дополнительные круглые скобки дают приоритет выражению or. Транзакция с кофемашиной больше не включается, поскольку по ней второй операнд and оценивается как ложный.\n",
    "for item in data:\n",
    "    if (item[\"Price\"] > 100 or item[\"Quantity\"] > 2) and item[\"Success\"]:\n",
    "        print(item)"
   ]
  },
  {
   "cell_type": "code",
   "execution_count": 5,
   "metadata": {},
   "outputs": [
    {
     "name": "stdout",
     "output_type": "stream",
     "text": [
      "{'Item': 'Coffee Machine', 'Price': 125, 'Quantity': 1, 'Success': False}\n",
      "{'Item': 'Python Book', 'Price': 50, 'Quantity': 1, 'Success': True}\n",
      "{'Item': 'Coffee Machine', 'Price': 125, 'Quantity': 1, 'Success': False}\n",
      "{'Item': 'Cables', 'Price': 15.99, 'Quantity': 3, 'Success': True}\n"
     ]
    }
   ],
   "source": [
    "# Оператор not имеет приоритет над операторами and и or\n",
    "for item in data:\n",
    "    if not item[\"Success\"] and item[\"Price\"] > 100:\n",
    "        print(item)\n",
    "# В этом случае выражение and оценивается первым. Только запись с наушниками получает значение True, поскольку это единственная успешная сделка с ценой более 100 долларов.\n",
    "for item in data:\n",
    "    if not (item[\"Success\"] and item[\"Price\"] > 100):\n",
    "        print(item)"
   ]
  },
  {
   "cell_type": "code",
   "execution_count": null,
   "metadata": {},
   "outputs": [],
   "source": [
    "# bool True False\n",
    "bool(0)  # False\n",
    "bool(10)  # True"
   ]
  }
 ],
 "metadata": {
  "kernelspec": {
   "display_name": "Python 3",
   "language": "python",
   "name": "python3"
  },
  "language_info": {
   "codemirror_mode": {
    "name": "ipython",
    "version": 3
   },
   "file_extension": ".py",
   "mimetype": "text/x-python",
   "name": "python",
   "nbconvert_exporter": "python",
   "pygments_lexer": "ipython3",
   "version": "3.10.11"
  }
 },
 "nbformat": 4,
 "nbformat_minor": 2
}
