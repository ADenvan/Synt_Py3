{
 "cells": [
  {
   "cell_type": "code",
   "execution_count": null,
   "metadata": {},
   "outputs": [],
   "source": [
    "# /--ternary/--Тернар/"
   ]
  },
  {
   "cell_type": "code",
   "execution_count": null,
   "metadata": {},
   "outputs": [
    {
     "data": {
      "text/plain": [
       "'PYTHON'"
      ]
     },
     "execution_count": 3,
     "metadata": {},
     "output_type": "execute_result"
    }
   ],
   "source": [
    "# upper -Функциях.\n",
    "py_19, upp_19 = \"python\", 'upper'\n",
    "# Если upp_19 True\n",
    "result = py_19.upper() if upp_19 == 'upper' else py_19  # PYTHON\n"
   ]
  },
  {
   "cell_type": "code",
   "execution_count": null,
   "metadata": {},
   "outputs": [
    {
     "data": {
      "text/plain": [
       "70"
      ]
     },
     "execution_count": 13,
     "metadata": {},
     "output_type": "execute_result"
    }
   ],
   "source": [
    "a_19, b_19 = -30, 70\n",
    "res_19 = abs(a_19) if a_19 > b_19 else abs(b_19)\n",
    "res_19"
   ]
  },
  {
   "cell_type": "code",
   "execution_count": null,
   "metadata": {},
   "outputs": [
    {
     "data": {
      "text/plain": [
       "[1, 2, -12, 4, 5]"
      ]
     },
     "execution_count": 7,
     "metadata": {},
     "output_type": "execute_result"
    }
   ],
   "source": [
    "# in_list -На 3 индексе. В списках.\n",
    "a_in_list, b_in_list = -12, -77\n",
    "[1, 2, a_in_list if a_in_list != b_in_list else b_in_list, 4, 5]  # [1, 2, -12, 4, 5]"
   ]
  },
  {
   "cell_type": "code",
   "execution_count": null,
   "metadata": {},
   "outputs": [
    {
     "data": {
      "text/plain": [
       "'a >Чет.. число'"
      ]
     },
     "execution_count": 8,
     "metadata": {},
     "output_type": "execute_result"
    }
   ],
   "source": [
    "# string -В строках. + Канкатынация строк.\n",
    "a_str = -12\n",
    "\"a >\" + (\"Чет..\" if a_str % 2 == 0 else \"НЕ ч.\") + \" число\"  # 'a >Чет.. число'"
   ]
  },
  {
   "cell_type": "code",
   "execution_count": null,
   "metadata": {},
   "outputs": [
    {
     "data": {
      "text/plain": [
       "20"
      ]
     },
     "execution_count": 11,
     "metadata": {},
     "output_type": "execute_result"
    }
   ],
   "source": [
    "# max -Внутри функциях мах.\n",
    "in_max_fn, b_max = 20, 40\n",
    "max(1, 5, in_max_fn if in_max_fn > 0 else b_max, 4, 5)  # 20"
   ]
  },
  {
   "cell_type": "code",
   "execution_count": null,
   "metadata": {},
   "outputs": [
    {
     "data": {
      "text/plain": [
       "77"
      ]
     },
     "execution_count": 10,
     "metadata": {},
     "output_type": "execute_result"
    }
   ],
   "source": [
    "# Вложеный.\n",
    "a_num, b_num, c_num = 12, 77, 44\n",
    "\n",
    "total_19 = (19 if a_num > c_num else c_num) if a_num > b_num else (b_num if b_num > c_num else c_num)\n",
    "\n",
    "total_19"
   ]
  },
  {
   "cell_type": "code",
   "execution_count": 15,
   "metadata": {},
   "outputs": [
    {
     "data": {
      "text/plain": [
       "151"
      ]
     },
     "execution_count": 15,
     "metadata": {},
     "output_type": "execute_result"
    }
   ],
   "source": [
    "# map + lambda -\n",
    "n27 = [4, 3, -5, 0, 2, 11, 122, -8, 9]\n",
    "\n",
    "sum(map(lambda x: x if x > 0 else 0, n27))  # 151"
   ]
  },
  {
   "cell_type": "code",
   "execution_count": 16,
   "metadata": {},
   "outputs": [],
   "source": [
    "# Цикл + Условие. Тольько для положительных значений.\n",
    "n27 = [4, 3, -5, 0, 2, 11, 122, -8, 9]\n",
    "nTern27 = [\"четное\" if i % 2 == 0 else \"НЕчетное\"\n",
    "           for i in n27\n",
    "           if i > 0 # Тольько для положительных значений.\n",
    "           ]  # ['четное', 'НЕчетное', 'четное', 'НЕчетное', 'четное', 'НЕчетное']"
   ]
  }
 ],
 "metadata": {
  "kernelspec": {
   "display_name": "Python 3",
   "language": "python",
   "name": "python3"
  },
  "language_info": {
   "codemirror_mode": {
    "name": "ipython",
    "version": 3
   },
   "file_extension": ".py",
   "mimetype": "text/x-python",
   "name": "python",
   "nbconvert_exporter": "python",
   "pygments_lexer": "ipython3",
   "version": "3.10.11"
  }
 },
 "nbformat": 4,
 "nbformat_minor": 2
}
