{
 "cells": [
  {
   "cell_type": "code",
   "execution_count": 1,
   "metadata": {},
   "outputs": [
    {
     "name": "stdout",
     "output_type": "stream",
     "text": [
      "Вызов print\n"
     ]
    },
    {
     "data": {
      "text/plain": [
       "[0, -6, 8, 10]"
      ]
     },
     "execution_count": 1,
     "metadata": {},
     "output_type": "execute_result"
    }
   ],
   "source": [
    "# /lambda/--Анонимные-функции (lambda)\n",
    "# lambda -Может быть записана как Элемент любой конструкции\n",
    "# lambda -Можем создавать обек основано на входных параметров.\n",
    "\n",
    "S42 = lambda A42, B42: A42 + B42\n",
    "S42(1, 2)  # 3\n",
    "\n",
    "A42 = [4, 5, lambda: print(\"Print >labda index >2\"),\n",
    "       7, 8, lambda: print(\"Вызов print\")]\n",
    "A42[5]()  # Вызов по индексу. print(<->Вызыв лямбда).\n",
    "\n",
    "\n",
    "list42 = [5, 3, 0, -6, 8, 10, 1]\n",
    "# lambda filter По определеному критерию Фармальном параметром\n",
    "def get_files42(a, filter=None):\n",
    "    if filter is None:\n",
    "        return a\n",
    "    res = []\n",
    "    for x in a:\n",
    "        # filter -Ссылка на определенную функцию.\n",
    "        # если Trye то значение остаеться.\n",
    "        if filter(x):\n",
    "            res.append(x)\n",
    "    return res\n",
    "# R42 -Trye Для четных чисел. Вторым агрументом лямбда.\n",
    "R42 = get_files42(list42, lambda x: x % 2 == 0)  # [0, -6, 8, 10]\n",
    "R42"
   ]
  },
  {
   "cell_type": "code",
   "execution_count": 10,
   "metadata": {},
   "outputs": [
    {
     "name": "stdout",
     "output_type": "stream",
     "text": [
      "Reyka is in A2-home\n"
     ]
    }
   ],
   "source": [
    "students = [\n",
    "    {\"name\": \"Reyka\", \"house\": \"A2-home\"}]\n",
    "# Функция как параметр в сортировки. Передаем по имени без ()\n",
    "for student in sorted(students, key=lambda student: student[\"name\"]):\n",
    "    print(f\"{student['name']} is in {student['house']}\")"
   ]
  }
 ],
 "metadata": {
  "kernelspec": {
   "display_name": "Python 3",
   "language": "python",
   "name": "python3"
  },
  "language_info": {
   "codemirror_mode": {
    "name": "ipython",
    "version": 3
   },
   "file_extension": ".py",
   "mimetype": "text/x-python",
   "name": "python",
   "nbconvert_exporter": "python",
   "pygments_lexer": "ipython3",
   "version": "3.10.11"
  }
 },
 "nbformat": 4,
 "nbformat_minor": 2
}
