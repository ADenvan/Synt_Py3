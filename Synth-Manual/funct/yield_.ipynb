{
 "cells": [
  {
   "cell_type": "code",
   "execution_count": null,
   "id": "a858e797",
   "metadata": {},
   "outputs": [],
   "source": [
    "# yield — это ключевое слово, которое используется внутри функции, чтобы превратить её в генератор.\n",
    "\n",
    "# Обычная функция (def) возвращает значение через return и сразу завершает работу.\n",
    "\n",
    "# Функция с yield не завершает работу, а приостанавливается и запоминает своё состояние, чтобы потом продолжить с того же места.\n",
    "\n",
    "# То есть yield возвращает последовательность значений по одному, а не все сразу."
   ]
  },
  {
   "cell_type": "code",
   "execution_count": null,
   "id": "0f40fbee",
   "metadata": {},
   "outputs": [],
   "source": [
    "\"\"\"\n",
    "Как это работает?\n",
    "Когда вызываешь функцию с yield, она возвращает генератор-объект.\n",
    "Этот объект можно перебирать с помощью for или next().\n",
    "Каждый вызов yield отдаёт значение и \"замораживает\" функцию.\n",
    "Следующий вызов продолжает выполнение с того же места.\"\"\"\n",
    "def generator_func():\n",
    "    yield 1\n",
    "    yield 2\n",
    "\n",
    "gen = generator_func()\n",
    "print(next(gen))  # 1\n",
    "print(next(gen))  # 2\n"
   ]
  },
  {
   "cell_type": "code",
   "execution_count": 3,
   "id": "17020040",
   "metadata": {},
   "outputs": [
    {
     "name": "stdout",
     "output_type": "stream",
     "text": [
      "[0, 2, 4, 6, 8, 10]\n"
     ]
    }
   ],
   "source": [
    "def even_numbers(limit):\n",
    "    for i in range(limit + 1):\n",
    "        if i % 2 == 0:\n",
    "            yield i # yield возвращает значение и \"замораживает\" функцию\n",
    "\n",
    "print(list(even_numbers(10))) # [0, 2, 4, 6, 8, 10]\n"
   ]
  },
  {
   "cell_type": "code",
   "execution_count": 12,
   "id": "6151002f",
   "metadata": {},
   "outputs": [
    {
     "data": {
      "text/plain": [
       "[1, 2, 3, 4]"
      ]
     },
     "execution_count": 12,
     "metadata": {},
     "output_type": "execute_result"
    }
   ],
   "source": [
    "# Создай генератор, который возвращает числа от 1 до 5 включительно.Используй цикл for и yield.\n",
    "def squares(n):\n",
    "    for i in range(1, n + 1):\n",
    "        yield i\n",
    "\n",
    "list(squares(4))  # [1, 4, 9, 16]\n"
   ]
  },
  {
   "cell_type": "code",
   "execution_count": null,
   "id": "744c5ac7",
   "metadata": {},
   "outputs": [],
   "source": [
    "# Создай генератор, который возвращает буквы строки по одной.\n",
    "def string_generator(str_):\n",
    "    for char in str_:\n",
    "        yield char\n",
    "\n",
    "for ch in string_generator(\"Python\"):\n",
    "    print(ch)\n",
    "# Должно вывести: P y t h o n\n"
   ]
  },
  {
   "cell_type": "code",
   "execution_count": 15,
   "id": "e6030de3",
   "metadata": {},
   "outputs": [
    {
     "data": {
      "text/plain": [
       "[2, 5]"
      ]
     },
     "execution_count": 15,
     "metadata": {},
     "output_type": "execute_result"
    }
   ],
   "source": [
    "# Сделай бесконечный генератор, который возвращает числа Фибоначчи.\n",
    "def positive_only(n):\n",
    "    for i in n:\n",
    "        if i > 0:\n",
    "            yield i\n",
    "\n",
    "nums = [-3, -1, 0, 2, 5]\n",
    "list(positive_only(nums))  # [2, 5]\n"
   ]
  }
 ],
 "metadata": {
  "kernelspec": {
   "display_name": ".venv",
   "language": "python",
   "name": "python3"
  },
  "language_info": {
   "codemirror_mode": {
    "name": "ipython",
    "version": 3
   },
   "file_extension": ".py",
   "mimetype": "text/x-python",
   "name": "python",
   "nbconvert_exporter": "python",
   "pygments_lexer": "ipython3",
   "version": "3.13.7"
  }
 },
 "nbformat": 4,
 "nbformat_minor": 5
}
