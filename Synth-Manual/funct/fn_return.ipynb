{
 "cells": [
  {
   "cell_type": "code",
   "execution_count": null,
   "metadata": {},
   "outputs": [
    {
     "name": "stdout",
     "output_type": "stream",
     "text": [
      "7\n",
      "19\n"
     ]
    }
   ],
   "source": [
    "# /--if-main\n",
    "def text(x, y):\n",
    "  return x + y\n",
    "def main():\n",
    "  print(text(2, 5))\n",
    "  return text(9, 10)\n",
    "\n",
    "if __name__ == \"__main__\":\n",
    "  res_text = main()\n",
    "  print(res_text)"
   ]
  },
  {
   "cell_type": "code",
   "execution_count": null,
   "metadata": {},
   "outputs": [],
   "source": [
    "# id -Каскадное переменная.\n",
    "a = b = c = 10 # 2227682476560 2227682476560 2227682476560\n",
    "print(id(a), id(b), id(c))\n"
   ]
  },
  {
   "cell_type": "code",
   "execution_count": null,
   "metadata": {},
   "outputs": [],
   "source": [
    "# /--fn-Вывод колличество из (imput())\n",
    "def main():\n",
    "    number = get_number()\n",
    "    meow(number)\n",
    "\n",
    "def get_number():\n",
    "    while True:\n",
    "        n = int(input(\"Whit s n?\"))\n",
    "        if n > 0:\n",
    "            break\n",
    "    return n\n",
    "\n",
    "def meow(n):\n",
    "    for _ in range(n):\n",
    "        print(\"meow\")\n",
    "main()\n"
   ]
  },
  {
   "cell_type": "code",
   "execution_count": null,
   "metadata": {},
   "outputs": [
    {
     "name": "stdout",
     "output_type": "stream",
     "text": [
      "7.0: end 49:\n"
     ]
    }
   ],
   "source": [
    "# return (res, x) -Два значения с помощю кортежа\n",
    "def get_sqrt(x):\n",
    "    res = None if x < 0 else x ** 0.5\n",
    "    return (res, x)\n",
    "a, b = get_sqrt(49)\n",
    "print(f\"{a}: end {b}:\")"
   ]
  },
  {
   "cell_type": "code",
   "execution_count": null,
   "metadata": {},
   "outputs": [
    {
     "name": "stdout",
     "output_type": "stream",
     "text": [
      "10\n",
      "10\n"
     ]
    }
   ],
   "source": [
    "# Максимум из 3 аргументов с функ-из-2 параметров\n",
    "x, y, z = 5, 7, 10\n",
    "\n",
    "def get_max2(a, b):\n",
    "    return a if a > b else b\n",
    "print(get_max2(x, get_max2(y, z)))\n",
    "\n",
    "\n",
    "def get_max3(a, b, c):\n",
    "    return get_max2(a, get_max2(b, c))\n",
    "\n",
    "print(get_max3(x, y, z))"
   ]
  },
  {
   "cell_type": "code",
   "execution_count": null,
   "metadata": {},
   "outputs": [
    {
     "name": "stdout",
     "output_type": "stream",
     "text": [
      "100\n"
     ]
    }
   ],
   "source": [
    "# constant -Оповещение Не изменяемый константы.\n",
    "from typing import Final\n",
    "MAX_INTRVAL: Final[int] = 90\n",
    "MAX_INTRVAL = 100\n",
    "\n",
    "print(MAX_INTRVAL)"
   ]
  },
  {
   "cell_type": "code",
   "execution_count": null,
   "metadata": {},
   "outputs": [
    {
     "name": "stdout",
     "output_type": "stream",
     "text": [
      "60.0\n"
     ]
    },
    {
     "data": {
      "text/plain": [
       "False"
      ]
     },
     "execution_count": 15,
     "metadata": {},
     "output_type": "execute_result"
    }
   ],
   "source": [
    "# constant\n",
    "PERIMETR = True\n",
    "if PERIMETR:\n",
    "    def get_rect(a, b):\n",
    "        return 2 * (a + b)\n",
    "else:\n",
    "    def get_rect(a, b):\n",
    "        return a * b\n",
    "print(get_rect(19.5, 10.5))"
   ]
  },
  {
   "cell_type": "code",
   "execution_count": 22,
   "metadata": {},
   "outputs": [
    {
     "name": "stdout",
     "output_type": "stream",
     "text": [
      "2\n",
      "4\n",
      "6\n",
      "8\n",
      "9 После завершение цикла for\n"
     ]
    }
   ],
   "source": [
    "# В Цикле функция если чет. не чет.\n",
    "def even(x):\n",
    "    return x % 2 == 0\n",
    "\n",
    "# запускаем цикл от 1 - 20\n",
    "for i in range(1, 10):\n",
    "    if even(i):\n",
    "        print(i)\n",
    "else:\n",
    "  if i % 2 != 0:\n",
    "    print(i,\"После завершение цикла for\")"
   ]
  }
 ],
 "metadata": {
  "kernelspec": {
   "display_name": "Python 3",
   "language": "python",
   "name": "python3"
  },
  "language_info": {
   "codemirror_mode": {
    "name": "ipython",
    "version": 3
   },
   "file_extension": ".py",
   "mimetype": "text/x-python",
   "name": "python",
   "nbconvert_exporter": "python",
   "pygments_lexer": "ipython3",
   "version": "3.10.11"
  }
 },
 "nbformat": 4,
 "nbformat_minor": 2
}
