{
 "cells": [
  {
   "cell_type": "code",
   "execution_count": null,
   "id": "d5453606",
   "metadata": {},
   "outputs": [],
   "source": [
    "# zip() — это встроенная функция, которая объединяет несколько последовательностей (списки, кортежи, строки и т.д.) в один итерируемый объект.\n",
    "\n",
    "# Работает так: берёт первый элемент из каждой последовательности, объединяет их в кортеж, потом берёт второй элемент из каждой последовательности и так далее."
   ]
  },
  {
   "cell_type": "code",
   "execution_count": 19,
   "id": "5eaf92bc",
   "metadata": {},
   "outputs": [],
   "source": [
    "# Объединение более чем 2 коллекций\n",
    "names = [\"Alice\", \"Bob\", \"Charlie\"]\n",
    "ages = [25, 30, 35]\n",
    "cities = [\"Paris\", \"London\", \"Berlin\"]\n",
    "\n",
    "# [('Alice', 25, 'Paris'), ('Bob', 30, 'London'), ('Charlie', 35, 'Berlin')]\n",
    "pairs = list(zip(names, ages, cities))\n"
   ]
  },
  {
   "cell_type": "code",
   "execution_count": null,
   "id": "1f0cf939",
   "metadata": {},
   "outputs": [
    {
     "name": "stdout",
     "output_type": "stream",
     "text": [
      "('a', 'b', 'c')\n",
      "(1, 2, 3)\n"
     ]
    }
   ],
   "source": [
    "# \"Распаковка\" через zip(*)\n",
    "pairs = [(\"a\", 1), (\"b\", 2), (\"c\", 3)]\n",
    "\n",
    "letters, numbers = zip(*pairs)\n",
    "print(letters)  # ('a', 'b', 'c')\n",
    "print(numbers)  # (1, 2, 3)\n"
   ]
  },
  {
   "cell_type": "code",
   "execution_count": null,
   "id": "6fd72364",
   "metadata": {},
   "outputs": [
    {
     "name": "stdout",
     "output_type": "stream",
     "text": [
      "Alice is 25 years old\n",
      "Bob is 30 years old\n",
      "Charlie is 35 years old\n"
     ]
    }
   ],
   "source": [
    "# Использование в цикле\n",
    "names = [\"Alice\", \"Bob\", \"Charlie\"]\n",
    "ages = [25, 30, 35]\n",
    "\n",
    "for name, age in zip(names, ages):\n",
    "    print(f\"{name} is {age} years old\")\n"
   ]
  },
  {
   "cell_type": "code",
   "execution_count": null,
   "id": "daf03d74",
   "metadata": {},
   "outputs": [
    {
     "name": "stdout",
     "output_type": "stream",
     "text": [
      "6\n"
     ]
    }
   ],
   "source": [
    "# Например, если у нас есть массив [1, 2, 3, 4, 6, 7, 8], то 1, 2, 3, 4 — все последовательные числа, а 6 — нет, поэтому это первое непоследовательное число.\n",
    "def first_non_consecutive(arr):\n",
    "    return next((j for i, j in zip(arr, arr[1:]) if i + 1 != j), None)\n",
    "\n",
    "arr = [1, 2, 3, 4, 6, 7, 8]\n",
    "log = first_non_consecutive(arr) # 6\n",
    "print(log)"
   ]
  },
  {
   "cell_type": "code",
   "execution_count": null,
   "id": "84e03f94",
   "metadata": {},
   "outputs": [],
   "source": [
    "pairs = [(\"a\", 1), (\"b\", 2), (\"c\", 3)]\n",
    "\n",
    "letters, numbers = zip(*pairs)\n",
    "print(letters)  # ('a', 'b', 'c')\n",
    "print(numbers)  # (1, 2, 3)\n"
   ]
  },
  {
   "cell_type": "code",
   "execution_count": null,
   "id": "859a2519",
   "metadata": {},
   "outputs": [],
   "source": [
    "# zip\n",
    "def extract_data(tasks: list) -> dict:\n",
    "\n",
    "    \"\"\"\n",
    "    Универсальная функция, которая возвращает словарь формата:\n",
    "    {id: data}\n",
    "    Использует .keys() и .values() для доступа к ключам и значениям.\n",
    "    \"\"\"\n",
    "    result = {}\n",
    "\n",
    "    for task in tasks:\n",
    "        # проходимся по ключам и значениям одновременно\n",
    "        for key, value in zip(task.keys(), task.values()):\n",
    "            if key == \"id\":        # нашли id\n",
    "                task_id = value\n",
    "            if key == \"data\":      # нашли data\n",
    "                task_data = value\n",
    "\n",
    "        # сохраняем id -> data в результирующий словарь\n",
    "        result[task_id] = task_data\n",
    "\n",
    "    return result\n",
    "\n",
    "extract_data()"
   ]
  },
  {
   "cell_type": "code",
   "execution_count": 4,
   "id": "58f996d8",
   "metadata": {},
   "outputs": [
    {
     "name": "stdout",
     "output_type": "stream",
     "text": [
      "cat <class 'str'>\n",
      "https://i.pinimg.com/originals/dd/1c/6f/dd1c6fbfa47769b1afd23d91a9aa3742.jpg\n",
      "dog <class 'str'>\n",
      "https://i.pinimg.com/736x/3c/84/2e/3c842e642467fe3b149c631e766ab8df.jpg\n",
      "bird <class 'str'>\n",
      "https://i.pinimg.com/736x/01/3f/35/013f35b8e8d8a41880bea439bd7fd0f5.jpg\n"
     ]
    }
   ],
   "source": [
    "# zip\n",
    "pets_dict = [\n",
    "    {\"cat\": \"https://i.pinimg.com/originals/dd/1c/6f/dd1c6fbfa47769b1afd23d91a9aa3742.jpg\"},\n",
    "    {\"dog\": \"https://i.pinimg.com/736x/3c/84/2e/3c842e642467fe3b149c631e766ab8df.jpg\"},\n",
    "    {\"bird\": \"https://i.pinimg.com/736x/01/3f/35/013f35b8e8d8a41880bea439bd7fd0f5.jpg\"}\n",
    "    ]\n",
    "for item in pets_dict:\n",
    "    for key, val in zip(item.keys(), item.values()):\n",
    "        print(key, type(key))\n",
    "        print(val)"
   ]
  },
  {
   "cell_type": "code",
   "execution_count": null,
   "id": "93900d9f",
   "metadata": {},
   "outputs": [],
   "source": [
    "# zip -Соединяем два списка в словарь.\n",
    "name = [\"alex\", \"Ted\", \"dogi\", \"Kara\"]\n",
    "age = [33, 12, 7, 101]\n",
    "def zip_(name, age):\n",
    "  ret = {}\n",
    "  for i, j in zip(name, age):\n",
    "    ret[i] = j\n",
    "  return ret\n",
    "\n",
    "print(zip_(name, age))"
   ]
  }
 ],
 "metadata": {
  "kernelspec": {
   "display_name": ".venv",
   "language": "python",
   "name": "python3"
  },
  "language_info": {
   "codemirror_mode": {
    "name": "ipython",
    "version": 3
   },
   "file_extension": ".py",
   "mimetype": "text/x-python",
   "name": "python",
   "nbconvert_exporter": "python",
   "pygments_lexer": "ipython3",
   "version": "3.13.7"
  }
 },
 "nbformat": 4,
 "nbformat_minor": 5
}
