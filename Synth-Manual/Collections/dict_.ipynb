{
 "cells": [
  {
   "cell_type": "code",
   "execution_count": null,
   "metadata": {},
   "outputs": [],
   "source": [
    "# /--dict/example\n",
    "# requ.get(char, 0) - Метод get-Возвращает значение ключа, если ключ есть в словаре,в противном случае — значение по умолчанию\n",
    "# dict.fromkeys -Убираем дубликаты. Сохраняя порядок."
   ]
  },
  {
   "cell_type": "code",
   "execution_count": null,
   "metadata": {},
   "outputs": [
    {
     "name": "stdout",
     "output_type": "stream",
     "text": [
      "{'h': 1, 'e': 1, 'l': 4, 'o': 1}\n"
     ]
    }
   ],
   "source": [
    "# requ.get(char, 0) - Метод get-Возвращает значение ключа, если ключ есть в словаре,в противном случае — значение по умолчанию\n",
    "# get(char, 0) -Найти частоту каждого символа в строке и вернуть результат в виде словаря.\n",
    "txt = \"hellllo\"\n",
    "def char_frequency(txt):\n",
    "  \"\"\"\n",
    "  Вход - строка\n",
    "  for - Разбиваем на строки\n",
    "  requ[char] - Добавляем символ как ключь\n",
    "  requ.get( - Находим ключь добафляем значение.\n",
    "  return - dict\"\"\"\n",
    "  requ = {}\n",
    "  for char in txt:\n",
    "    requ[char] = requ.get(char, 0) + 1 # Находит добавляет + 1\n",
    "  return requ\n",
    "print(char_frequency(txt))"
   ]
  },
  {
   "cell_type": "code",
   "execution_count": null,
   "metadata": {},
   "outputs": [
    {
     "name": "stdout",
     "output_type": "stream",
     "text": [
      "{'123': 6, '45': 9, 6: 6, 90: 9}\n"
     ]
    }
   ],
   "source": [
    "# get-разбить на символы. подсчет суммы выдать как значение чисел как Значение\n",
    "my_list = ['123', '45', 6, 90]\n",
    "def sum_digits(num: list):\n",
    "  \"\"\"\n",
    "  Вход - Список\n",
    "  for - Обращение по индексу\n",
    "  res.get( - Каждое значение ключа сумироеться\n",
    "  return - dict\"\"\"\n",
    "  res = {}\n",
    "  for i in num:\n",
    "    res[i] = res.get(i, sum(map(int, str(i))))\n",
    "  return res\n",
    "print(sum_digits(my_list))\n"
   ]
  },
  {
   "cell_type": "code",
   "execution_count": 9,
   "metadata": {},
   "outputs": [
    {
     "name": "stdout",
     "output_type": "stream",
     "text": [
      "[1, 2, 3]-Возвращаеь значение thry-Trye-возвращаем ключь или нет\n"
     ]
    }
   ],
   "source": [
    "# get -Получить.\n",
    "D30 = {True: 1, False: \"ложь\", 'list': [1, 2, 3], 5: 5, 3: 'thry-Trye'}\n",
    "# Значение по ключю. # Вернет False нет.\n",
    "print(f\"{D30.get('list')}-Возвращаеь значение {D30.get(3, False)}-возвращаем ключь или нет\")\n"
   ]
  },
  {
   "cell_type": "code",
   "execution_count": null,
   "metadata": {},
   "outputs": [
    {
     "name": "stdout",
     "output_type": "stream",
     "text": [
      "{'a': 3.0, 'b': 4.5}\n"
     ]
    }
   ],
   "source": [
    "# Функция должна вернуть новый словарь, где каждое значение умножено на factor.\n",
    "def multiply_dict_values(d: dict, factor: float) -> dict:\n",
    "    \"\"\"\n",
    "    Взод - Словарь\n",
    "    for d.items() - Возвращает объект, КЛЮЧЬ ЗНАЧЕНИЕ\n",
    "    К - Кждому ключю бодавляем значение умноженое на факториал\n",
    "    return - dict\"\"\"\n",
    "    return {k: v * factor for k, v in d.items()}\n",
    "\n",
    "print(multiply_dict_values({'a': 2, 'b': 3}, 1.5))  # Output: {'a': 3.0, 'b': 4.5}"
   ]
  },
  {
   "cell_type": "code",
   "execution_count": null,
   "metadata": {},
   "outputs": [
    {
     "data": {
      "text/plain": [
       "['a', 'b', 'c']"
      ]
     },
     "execution_count": 2,
     "metadata": {},
     "output_type": "execute_result"
    }
   ],
   "source": [
    "# dict.fromkeys -Убираем дубликаты. Сохраняя порядок.\n",
    "my_list = [\"a\", \"b\", \"c\", \"a\", \"b\"]\n",
    "list(dict.fromkeys(my_list).keys())"
   ]
  },
  {
   "cell_type": "code",
   "execution_count": 6,
   "metadata": {},
   "outputs": [
    {
     "name": "stdout",
     "output_type": "stream",
     "text": [
      "{1: 1, 2: 4, 3: 9, 4: 16, 5: 25, 6: 36, 7: 49, 8: 64}\n"
     ]
    }
   ],
   "source": [
    "# Ключь это Итератор : Значение -Это умноженое на само себя\n",
    "n = 8\n",
    "d_list = dict()\n",
    "for i in range(1, n + 1):\n",
    "    # i -key i*i значение\n",
    "    d_list[i] = i * i\n",
    "print(d_list)"
   ]
  },
  {
   "cell_type": "code",
   "execution_count": null,
   "metadata": {},
   "outputs": [
    {
     "name": "stdout",
     "output_type": "stream",
     "text": [
      "[{'Жанр': ' Фан, фэн / Попаданцы'}, {'Жанр': 'Фан, фэн / Боевик'}, {'Жанр': 'Фан, фэн'}]\n"
     ]
    }
   ],
   "source": [
    "# Заменить слова в словаре. функция для переиспользования\n",
    "data_orig = [\n",
    "    {\"Жанр\": \" Фантастика, фэнтези / Попаданцы\"},\n",
    "    {\"Жанр\": \"Фантастика, фэнтези / Боевик\"},\n",
    "    {\"Жанр\": \"Фантастика, фэнтези\"}\n",
    "]\n",
    "def simplify_genre(genre_str):\n",
    "    return genre_str.replace(\"Фантастика\", \"Фан\").replace(\"фэнтези\", \"фэн\")\n",
    "\n",
    "data = [{\"Жанр\": simplify_genre(item[\"Жанр\"])} for item in data_orig]\n",
    "print(data)\n"
   ]
  },
  {
   "cell_type": "code",
   "execution_count": 7,
   "metadata": {},
   "outputs": [
    {
     "name": "stdout",
     "output_type": "stream",
     "text": [
      "[{'Жанр': 'Фан/фэн/Попаданцы'}, {'Жанр': 'Фан/фэн/Боевик'}, {'Жанр': 'Фан/фэн'}]\n"
     ]
    }
   ],
   "source": [
    "# Через обычный словарь замен (без регулярки)\n",
    "data_orig = [\n",
    "    {\"Жанр\": \" Фантастика, фэнтези / Попаданцы\"},\n",
    "    {\"Жанр\": \"Фантастика, фэнтези / Боевик\"},\n",
    "    {\"Жанр\": \"Фантастика, фэнтези\"}\n",
    "]\n",
    "\n",
    "def simp_patern(data_old):\n",
    "  data_new = data_old\n",
    "\n",
    "  replacements = {\n",
    "      \"Фантастика\": \"Фан\",\n",
    "      \"фэнтези\": \"фэн\",\n",
    "      \",\": \"/\",\n",
    "      \" \": \"\"\n",
    "  }\n",
    "\n",
    "  for item in data_new:\n",
    "      genre = item[\"Жанр\"]\n",
    "      for old, new in replacements.items():\n",
    "          genre = genre.replace(old, new)\n",
    "      item[\"Жанр\"] = genre\n",
    "  return data_new\n",
    "\n",
    "log = simp_patern(data_orig)\n",
    "print(log)"
   ]
  },
  {
   "cell_type": "code",
   "execution_count": 1,
   "metadata": {},
   "outputs": [
    {
     "name": "stdout",
     "output_type": "stream",
     "text": [
      "{'id': 4, 'name': 'Keep Hydrated!', 'task': 'Поскольку Натан знает, как важно избегать обезвоживания, он выпивает 0,5 литра воды за час езды на велосипеде.'}\n"
     ]
    }
   ],
   "source": [
    "import json\n",
    "number_t_dict = {\n",
    "    \"4. Keep Hydrated!\": \" Поскольку Натан знает, как важно избегать обезвоживания, он выпивает 0,5 литра воды за час езды на велосипеде.\",\n",
    "    \"3. Total amount of points\": \"if x > y: 3 points (win) if x < y: 0 points (loss) if x = y: 1 point (tie)  Нам нужно написать функцию, которая берет эту коллекцию и возвращает количество очков, набранных нашей командой (x) в чемпионате по приведенным выше правилам.\",\n",
    "    \"2. Did she say hallo?\": \"Напишите простую функцию, проверяющую, содержит ли строка слово «привет» на разных языках.\",\n",
    "    \"1. Name Shuffler\": \"Напишите функцию, которая возвращает строку, в которой имя заменено на фамилию.\",\n",
    "}\n",
    "\n",
    "task_dict_list = []\n",
    "for key, value in number_t_dict.items():\n",
    "    # отделяем номер и название по первуму вхождению пробела\n",
    "    parts = key.split(maxsplit=1)\n",
    "    task_id = int(parts[0].replace(\".\", \"\"))  # убираем точку и оставим толь число\n",
    "    task_name = parts[1] if len(parts) > 1 else \"\" # все остольное после первого пробела будет название\n",
    "\n",
    "    task_dict_list.append({\n",
    "        \"id\": task_id,\n",
    "        \"name\": task_name.strip(),\n",
    "        \"task\": value.strip(),\n",
    "    })\n",
    "# with open(\"task_c_w.json\", \"w\", encoding=\"utf-8\") as file:\n",
    "#     # js_r = json.loads(file)\n",
    "#     json.dump(task_dict_list,file, ensure_ascii=False, indent=4)\n",
    "# Пример вывода первых 3 элементов\n",
    "print(task_dict_list[0])"
   ]
  },
  {
   "cell_type": "code",
   "execution_count": null,
   "metadata": {},
   "outputs": [],
   "source": [
    "data_csv = ['1-kiwi', '2-pear', '3-kiwi', '4-banana', '5-melon', '6-banana', '7-melon', '8-pineapple', '9-apple', '10-pineapple']\n",
    "ls = []\n",
    "ls_1 = []\n",
    "for item in data_csv:\n",
    "    ls_1.append({\n",
    "# [{1: 'kiwi'}, {2: 'pear'}]\n",
    "        int(item.split(\"-\")[0]): item.split(\"-\")[1]})\n",
    "    ls.append({\n",
    "# [{'id': '1', 'name': 'kiwi'}, {'id': '2', 'name': 'pear'}]\n",
    "        \"id\":(item.split(\"-\")[0]),\n",
    "        \"name\": item.split(\"-\")[1]})"
   ]
  },
  {
   "cell_type": "code",
   "execution_count": null,
   "metadata": {},
   "outputs": [
    {
     "data": {
      "text/plain": [
       "{'DIGITS': '3', 'LETTERS': 10}"
      ]
     },
     "execution_count": 15,
     "metadata": {},
     "output_type": "execute_result"
    }
   ],
   "source": [
    "# isdigit -Принимает строку и подсчитывает количество букв и цифр.\n",
    "st = \"hello world! 123\"\n",
    "\n",
    "def isdigit_isalpha(st: str):\n",
    "    \"\"\"\n",
    "    Вход - строка\n",
    "    isdigit - проверка на число\n",
    "    \"\"\"\n",
    "    d = {\"DIGITS\": 0, \"LETTERS\": 0}\n",
    "    for char in st:\n",
    "        if char.isdigit():\n",
    "            d[\"DIGITS\"] += 1\n",
    "        elif char.isalpha():\n",
    "            d[\"LETTERS\"] += 1\n",
    "    return d\n",
    "isdigit_isalpha(st)\n"
   ]
  },
  {
   "cell_type": "code",
   "execution_count": null,
   "metadata": {},
   "outputs": [],
   "source": [
    "# /--dict/-Методы.\n",
    "# Что это? Неупорядоченная коллекция пар ключ-значение.\n",
    "# Создание: Через фигурные скобки {} с парами ключ: значение.\n",
    "# Ключи уникальны.\n",
    "# Значения могут быть любого типа, ключи — только хешируемые (например, строки, числа, кортежи).\n",
    "\n",
    "# dict.fromkeys(список + [,значения по умщлчанию])\n",
    "lst30 = [\"+7\", \"+6\", \"+5\", \"+4\"]\n",
    "\n",
    "# Можем создать словарь с задаными значениями.\n",
    "A30 = dict.fromkeys(lst30)  # {'+7': None, '+6': None,\n",
    "A30 = dict.fromkeys(lst30, \"Тут значение\") # {'+7': 'Тут значение', '+6': 'Тут значение',"
   ]
  },
  {
   "cell_type": "code",
   "execution_count": 2,
   "metadata": {},
   "outputs": [
    {
     "name": "stdout",
     "output_type": "stream",
     "text": [
      "None\n"
     ]
    }
   ],
   "source": [
    "# jmespath\n",
    "import jmespath\n",
    "\n",
    "persen = {\n",
    "  \"serch\": [\n",
    "    {\"name\": \"Alex\", \"age\": 23},\n",
    "    {\"name\": \"Sara\", \"age\": 17},\n",
    "    {\"name\": \"Reyc\", \"age\": 20}\n",
    "  ]\n",
    "}\n",
    "\n",
    "res = jmespath.search('persen[*].age', persen)\n",
    "print(res)"
   ]
  },
  {
   "cell_type": "code",
   "execution_count": null,
   "metadata": {},
   "outputs": [
    {
     "name": "stdout",
     "output_type": "stream",
     "text": [
      "{1: 'a', 2: 'b', 3: 'c', 'ana': 15, 'boruto': 13, 'sarada': 9}\n"
     ]
    }
   ],
   "source": [
    "# -> -Анатация\n",
    "def get_dict() -> dict:\n",
    "  ret = {1:\"a\", 2:\"b\", 3:\"c\"}\n",
    "  return dict(ret, ana=15, boruto=13, sarada=9)\n",
    "\n",
    "a: dict = get_dict()\n",
    "print(a)"
   ]
  },
  {
   "cell_type": "code",
   "execution_count": null,
   "metadata": {},
   "outputs": [
    {
     "data": {
      "text/plain": [
       "ChainMap({'a': 1, 'b': 2}, {'c': 3, 'd': 4})"
      ]
     },
     "execution_count": 3,
     "metadata": {},
     "output_type": "execute_result"
    }
   ],
   "source": [
    "# ChainMap -Обединяем 2 словари и используем как 1.\n",
    "from collections import ChainMap\n",
    "my_dict_1 = {\"a\": 1,  \"b\": 2}\n",
    "my_dict_2 = {\"c\": 3,  \"d\": 4}\n",
    "combined = ChainMap(my_dict_1, my_dict_2)\n",
    "combined"
   ]
  },
  {
   "cell_type": "code",
   "execution_count": null,
   "metadata": {},
   "outputs": [
    {
     "name": "stdout",
     "output_type": "stream",
     "text": [
      "Имя:туьу Дом:вав\n"
     ]
    }
   ],
   "source": [
    "# Возвращаемый словарь.\n",
    "# Если NAME == neme то его дом \"Rvanclaw\"\n",
    "def main():\n",
    "    name_home = \"\"\n",
    "    student = get_student()\n",
    "    # Проверка если пользователь ввел Ра-Имя\n",
    "    if student[\"name\"] == \"name\":\n",
    "        student[\"house\"] = \"house\"\n",
    "\n",
    "        name_home = (f\"{student['name']}: Переменная {student['house']}\")\n",
    "        # print(f\"{student['name']} from> {student['house']}\")\n",
    "        print(name_home)\n",
    "    else:\n",
    "        print(f\"Имя:{student['name']} Дом:{student['house']}\")\n",
    "\n",
    "def get_student():\n",
    "    name = input(\"Name: \")\n",
    "    house = input(\"House: \")\n",
    "    return {\"name\": name, \"house\": house}\n",
    "\n",
    "if __name__ == \"__main__\":\n",
    "    main()"
   ]
  },
  {
   "cell_type": "code",
   "execution_count": null,
   "metadata": {},
   "outputs": [
    {
     "name": "stdout",
     "output_type": "stream",
     "text": [
      "How are you = как дела\n",
      "{'как дела': 'How are you'}\n",
      "[{'привет': 'Hello'}, {'как дела': 'How are you'}]\n"
     ]
    }
   ],
   "source": [
    "# Сортируем Ключи значения.\n",
    "words = [\n",
    "    {'russian': 'привет', 'english': 'Hello'}, {'russian': 'как дела', 'english': 'How are you'}\n",
    "]\n",
    "\n",
    "# Обращение по индексу.\n",
    "parametr_eng = words[1][\"english\"]\n",
    "parametr_rus = words[1][\"russian\"]\n",
    "print(parametr_eng, \"=\", parametr_rus)\n",
    "\n",
    "word_dict = dict()\n",
    "word_list = []\n",
    "l = len(words)\n",
    "\n",
    "# Сортируем Ключи значения\n",
    "for i in range(len(words)):\n",
    "    en = words[i][\"english\"]\n",
    "    ru = words[i][\"russian\"]\n",
    "    # word_list.append({\"en\":en, \"ru\":ru})\n",
    "    word_list.append({ru:en})\n",
    "    word_dict = {ru:en}\n",
    "\n",
    "    # setdefault -Уникальных значений. Без повторов.\n",
    "    # {'Hello': 'привет', 'How are you': 'как дела', 'Old data is deleted': 'Старые данные удалються ,'}\n",
    "    word_dict.setdefault(ru, en)\n",
    "\n",
    "print(word_dict)\n",
    "\n",
    "print(word_list)"
   ]
  },
  {
   "cell_type": "code",
   "execution_count": null,
   "metadata": {},
   "outputs": [
    {
     "data": {
      "text/plain": [
       "{'one': 1,\n",
       " 'tow': 2,\n",
       " 'three': '3',\n",
       " 'four': 'Это значение перезаписсано',\n",
       " 1: 'A',\n",
       " 2: 'B',\n",
       " 5: 'пять',\n",
       " 'age': '55'}"
      ]
     },
     "execution_count": 15,
     "metadata": {},
     "output_type": "execute_result"
    }
   ],
   "source": [
    "# update -Обновления словаря.\n",
    "upd30 = dict(\n",
    "  one=1, tow=2,\n",
    "  three=\"3\", four=\"4\") # {'one': 1, 'tow': 2, 'three': '3', 'four': '4'}\n",
    "\n",
    "# Перепишием значение\n",
    "upd30.update (\n",
    "  {1:\"A\", 2:\"B\",'four': \"Это значение перезаписсано\", 5:\"пять\"})\n",
    "\n",
    "\n",
    "upde30 = {\"age\":\"55\"}\n",
    "# ПОРЯДОК ОБЕДИНЕНИЯ ВАЖЕН.\n",
    "updet30 = {**upde30, **upd30}  # ПОРЯДОК ОБЕДИНЕНИЯ ВАЖЕН.\n",
    "upd30 | upde30  # Тоже самое.\n",
    "# print(updet30)"
   ]
  },
  {
   "cell_type": "code",
   "execution_count": null,
   "metadata": {},
   "outputs": [],
   "source": [
    "# clear -Очистка.\n",
    "A30.clear()  # Очистка.\n",
    "\n",
    "# copy -\n",
    "D30 = {True: 1, False: \"ложь\", 'list': [1, 2, 3], 5: 5}\n",
    "DD30 = D30.copy()  # Копия. или так D2 = dict(D30)\n",
    "\n",
    "# -Изменения ЗНАЧЕНИЯ по ключю.\n",
    "DD30[\"list\"] = [5, 6, 7]  # 'list': [5, 6, 7],\n",
    "\n",
    "# setdefault -Позволяет добавить если нет.\n",
    "D30.setdefault(33)  # Добавить в словарь {КЛЮЧЬ 33 : значение None}\n",
    "D30.setdefault(44, \"+Значение\")  # Ключь + значение.\n",
    "\n",
    "# pop -Удаляет ключь. И ВОЗВРАТ.\n",
    "D30.pop(1)  # Удаляет ключь из словаря И ВОЗВРАЩАЕТ содержимое словаря.\n",
    "D30.pop(550, False)  # Елси ключа не существует. Вернет False\n",
    "\n",
    "# popitem -Удаляет последню запесь. Ключ и значения.\n",
    "D30.popitem()  # (5, 5)"
   ]
  },
  {
   "cell_type": "code",
   "execution_count": null,
   "metadata": {},
   "outputs": [],
   "source": [
    "# /--dict/-in/not in/del\n",
    "# in/ not in/ del/\n",
    "# dict(ключь=значение1, ключь=значение2,)\n",
    "\n",
    "# <ключь> house : <значение> дом.\n",
    "d29 = {\"house\": \"дом\", \"car\": \"машина\", \"tree\": \"дерево\", \"road\": \"дорога\", \"river\": \"река\"}\n",
    "\n",
    "dd29 = {True: 1, False: \"ложь\", 'list': [1, 2, 3], 5: 5}\n",
    "# in -Проверка наличия ключей в СЛОВАРЕ.\n",
    "print(\"list\" in dd29, \"\\n\",dd29)  # True\n",
    "\n",
    "# not in -Этот КЛЮЧЬ не будет входить в словарь.\n",
    "print(\"ложь\" not in dd29, \"\\n\", dd29)  # True -Вернет если да\n",
    "\n",
    "# del -Удаление По КЛЮЧА. Если есть такой КЛЮЧА.\n",
    "del dd29[True]\n",
    "# dict(ключь=значение 1, ключь=значение 2,)\n",
    "dict(one=1, two=2, three='3', four='4')  # {'one': 1, 'two': 2,\n"
   ]
  }
 ],
 "metadata": {
  "kernelspec": {
   "display_name": ".venv",
   "language": "python",
   "name": "python3"
  },
  "language_info": {
   "codemirror_mode": {
    "name": "ipython",
    "version": 3
   },
   "file_extension": ".py",
   "mimetype": "text/x-python",
   "name": "python",
   "nbconvert_exporter": "python",
   "pygments_lexer": "ipython3",
   "version": "3.13.7"
  }
 },
 "nbformat": 4,
 "nbformat_minor": 2
}
