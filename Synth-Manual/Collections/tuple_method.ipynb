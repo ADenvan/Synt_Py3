{
 "cells": [
  {
   "cell_type": "code",
   "execution_count": null,
   "metadata": {},
   "outputs": [
    {
     "ename": "TypeError",
     "evalue": "can only concatenate str (not \"tuple\") to str",
     "output_type": "error",
     "traceback": [
      "\u001b[1;31m---------------------------------------------------------------------------\u001b[0m",
      "\u001b[1;31mTypeError\u001b[0m                                 Traceback (most recent call last)",
      "Cell \u001b[1;32mIn[1], line 13\u001b[0m\n\u001b[0;32m     10\u001b[0m A31\n\u001b[0;32m     12\u001b[0m A31 \u001b[38;5;241m=\u001b[39m A31   \u001b[38;5;66;03m# Обединение.\u001b[39;00m\n\u001b[1;32m---> 13\u001b[0m A31 \u001b[38;5;241m+\u001b[39m\u001b[38;5;241m=\u001b[39m ((\u001b[38;5;124m\"\u001b[39m\u001b[38;5;124mстрока\u001b[39m\u001b[38;5;124m\"\u001b[39m, \u001b[38;5;124m\"\u001b[39m\u001b[38;5;124mИ\u001b[39m\u001b[38;5;124m\"\u001b[39m, \u001b[38;5;124m\"\u001b[39m\u001b[38;5;124mСтрока\u001b[39m\u001b[38;5;124m\"\u001b[39m),)\n\u001b[0;32m     15\u001b[0m B31 \u001b[38;5;241m=\u001b[39m (\u001b[38;5;241m0\u001b[39m,) \u001b[38;5;241m*\u001b[39m \u001b[38;5;241m2\u001b[39m\n\u001b[0;32m     17\u001b[0m \u001b[38;5;66;03m# tuple\u001b[39;00m\n",
      "\u001b[1;31mTypeError\u001b[0m: can only concatenate str (not \"tuple\") to str"
     ]
    }
   ],
   "source": [
    "# /--tuple/Кортеж (tuple)\n",
    "# tuple -Это упорядоченная но НЕ изменяемая коллекция данных.\n",
    "# tuple -Ссылки на Значения изменять нельзя.\n",
    "\n",
    "A31 = tuple()\n",
    "A31 = (1,)  # (1,)\n",
    "A31, B31, D31 = (11, 4, 5,)  # 1,2,3, Простыые числа.\n",
    "A31, B31 = [\"Python\", \"yo\"]\n",
    "A31 = B31[:]\n",
    "A31\n",
    "\n",
    "A31 = A31   # Обединение.\n",
    "A31 += ((\"строка\", \"И\", \"Строка\"),)\n",
    "\n",
    "B31 = (0,) * 2\n",
    "\n",
    "# tuple\n",
    "T31 = tuple([1, 2, 3,])\n",
    "T31 = tuple(\"Python\")\n",
    "T31 = (True, [1,2,3], \"hello\", 55, {\"house\": \"дом\"}, 55, 3)\n",
    "\n",
    "# append -Именение списка.\n",
    "T31[1].append(\"4\")  # Именение списка.\n",
    "\n",
    "# count -Поис элементов.\n",
    "T31.count(55)  # 2 > 55 Поиск Элементов.\n",
    "\n",
    "# index -(55, start, stop)\n",
    "T31.index(3)  # Поиск первого наденого элемента.\n",
    "T31.index(55, 2, 7)  # Поиск В пределах.\n",
    "\n",
    "# in -Проверка вхождение значений.\n",
    "(3) in T31  # True\n",
    "[1, 2, 3] in T31  # True -такой элемент(Список) присутствует в кортеж T31"
   ]
  }
 ],
 "metadata": {
  "kernelspec": {
   "display_name": "Python 3",
   "language": "python",
   "name": "python3"
  },
  "language_info": {
   "codemirror_mode": {
    "name": "ipython",
    "version": 3
   },
   "file_extension": ".py",
   "mimetype": "text/x-python",
   "name": "python",
   "nbconvert_exporter": "python",
   "pygments_lexer": "ipython3",
   "version": "3.10.11"
  }
 },
 "nbformat": 4,
 "nbformat_minor": 2
}
