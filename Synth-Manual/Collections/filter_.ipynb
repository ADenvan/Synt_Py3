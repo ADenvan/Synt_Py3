{
 "cells": [
  {
   "cell_type": "code",
   "execution_count": null,
   "id": "7c0f125f",
   "metadata": {},
   "outputs": [],
   "source": [
    "# filter() — это встроенная функция в Python, которая фильтрует элементы из коллекции (списка, кортежа и т.д.) по условию.\n",
    "\n",
    "\"\"\"\n",
    "filter(функция_условие, последовательность)\n",
    "\n",
    "функция_условие → должна возвращать True или False.\n",
    "\n",
    "последовательность → любой итерируемый объект (список, кортеж, строка и т.д.).\n",
    "\n",
    "Результат → специальный объект filter, который обычно превращают в list() или tuple().\n",
    "\"\"\"\n"
   ]
  },
  {
   "cell_type": "code",
   "execution_count": null,
   "id": "58cde44e",
   "metadata": {},
   "outputs": [],
   "source": [
    "# Отфильтровать чётные числа\n",
    "numbers = [1, 2, 3, 4, 5, 6]\n",
    "\n",
    "def is_even(n):\n",
    "    return n % 2 == 0\n",
    "\n",
    "result = filter(is_even, numbers)\n",
    "print(list(result))  # [2, 4, 6]\n"
   ]
  },
  {
   "cell_type": "code",
   "execution_count": null,
   "id": "81a9ec10",
   "metadata": {},
   "outputs": [
    {
     "name": "stdout",
     "output_type": "stream",
     "text": [
      "<filter object at 0x00000265EF2CC280>\n",
      "[2, 4, 6]\n"
     ]
    }
   ],
   "source": [
    "# То же самое с lambda\n",
    "numbers = [1, 2, 3, 4, 5, 6]\n",
    "\n",
    "result = filter(lambda n: n % 2 == 0, numbers)\n",
    "print(list(result))  # [2, 4, 6]"
   ]
  },
  {
   "cell_type": "code",
   "execution_count": null,
   "id": "4fe2a2e8",
   "metadata": {},
   "outputs": [],
   "source": [
    "# Фильтрация слов по длине\n",
    "words = [\"python\", \"is\", \"cool\", \"hi\"]\n",
    "\n",
    "result = filter(lambda w: len(w) > 2, words)\n",
    "print(list(result))  # ['python', 'cool', 'hi']\n"
   ]
  },
  {
   "cell_type": "code",
   "execution_count": null,
   "id": "6cfbbb4d",
   "metadata": {},
   "outputs": [],
   "source": [
    "# Фильтрация \"пустых\" значений\n",
    "data = [\"hello\", \"\", \"world\", None, \"python\", \"\"]\n",
    "\n",
    "# filter(None, ...) убирает все пустые значения\n",
    "cleaned = filter(None, data)\n",
    "print(list(cleaned))  # ['hello', 'world', 'python']\n"
   ]
  }
 ],
 "metadata": {
  "kernelspec": {
   "display_name": ".venv",
   "language": "python",
   "name": "python3"
  },
  "language_info": {
   "codemirror_mode": {
    "name": "ipython",
    "version": 3
   },
   "file_extension": ".py",
   "mimetype": "text/x-python",
   "name": "python",
   "nbconvert_exporter": "python",
   "pygments_lexer": "ipython3",
   "version": "3.13.7"
  }
 },
 "nbformat": 4,
 "nbformat_minor": 5
}
