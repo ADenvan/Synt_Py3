{
 "cells": [
  {
   "cell_type": "code",
   "execution_count": null,
   "metadata": {},
   "outputs": [],
   "source": [
    "# /--list/exam"
   ]
  },
  {
   "cell_type": "code",
   "execution_count": 2,
   "metadata": {},
   "outputs": [
    {
     "name": "stdout",
     "output_type": "stream",
     "text": [
      "['a', 'b', 'c']\n"
     ]
    }
   ],
   "source": [
    "# not in -Если нет в моем листе добавить созраняя порядок. Убираем дубликаты.\n",
    "my_list = [\"a\", \"b\", \"c\", \"a\", \"b\"]\n",
    "new_list = []\n",
    "for el in my_list:\n",
    "    if el not in new_list:\n",
    "        new_list.append(el)\n",
    "print(new_list)"
   ]
  },
  {
   "cell_type": "code",
   "execution_count": null,
   "metadata": {},
   "outputs": [
    {
     "name": "stdout",
     "output_type": "stream",
     "text": [
      "Hello my friend\n"
     ]
    }
   ],
   "source": [
    "# Разбиение по фиксированной длине слов Если слова всегда одной длины (например, 5-2-6), можно сделать так:\n",
    "text = \"Hellomyfriend\"\n",
    "split_positions = [5, 7]  # Где вставить пробелы\n",
    "\n",
    "def split_words(text, positions):\n",
    "  result = []\n",
    "  start = 0\n",
    "\n",
    "  for pos in split_positions: # Перебираем позиции\n",
    "    result.append(text[start:pos]) # Добавляем часть текста\n",
    "    start = pos # Обновляем стартовую позицию\n",
    "\n",
    "  result.append(text[start:])  # Добавляем остаток\n",
    "  return \" \".join(result)\n",
    "print(split_words(text, split_positions))\n",
    "  # print(\" \".join(result))  # Hello my friend\n"
   ]
  },
  {
   "cell_type": "code",
   "execution_count": null,
   "metadata": {},
   "outputs": [
    {
     "name": "stdout",
     "output_type": "stream",
     "text": [
      "[123, 45, 6]\n"
     ]
    }
   ],
   "source": [
    "# Убрать пробелы без split() Данна строка.\n",
    "s = \"123 45 6\"\n",
    "numbers = []  # Массив для чисел\n",
    "accumulator = \"\"  # Аккумулятор для сборки цифр\n",
    "\n",
    "for char in s:\n",
    "    if char != \" \":\n",
    "        accumulator += char  # Собираем число в строку\n",
    "    else:\n",
    "        if accumulator:  # Если в аккумуляторе есть число\n",
    "            numbers.append(int(accumulator))  # Сбрасываем в массив\n",
    "            accumulator = \"\"  # Очищаем аккумулятор\n",
    "\n",
    "# Добавляем последнее число (если строка не заканчивается пробелом)\n",
    "if accumulator:\n",
    "    numbers.append(int(accumulator))\n",
    "\n",
    "print(numbers)  # [123, 45, 6]\n"
   ]
  },
  {
   "cell_type": "code",
   "execution_count": null,
   "metadata": {},
   "outputs": [
    {
     "name": "stdout",
     "output_type": "stream",
     "text": [
      "[1, 2, 3, 4, 5]\n",
      "[1, 2, 3, 4, 5]\n"
     ]
    }
   ],
   "source": [
    "# map -Разбить числа на символы.\n",
    "number = 12345\n",
    "digits = [int(d) for d in str(number)] # Преобразуем строку в список символов и затем в числа\n",
    "print(digits)  # [1, 2, 3, 4, 5]\n",
    "\n",
    "digits = list(map(int, str(number))) # Используем map для преобразования каждого символа в число\n",
    "print(digits)  # [1, 2, 3, 4, 5]\n"
   ]
  },
  {
   "cell_type": "code",
   "execution_count": null,
   "metadata": {},
   "outputs": [
    {
     "name": "stdout",
     "output_type": "stream",
     "text": [
      "['Подробнее', '6', '1', '0', 'Подробнее\\n6\\n1\\n0']\n",
      "['Подробнее', 6, 1, 0, 'Подробнее\\n6\\n1\\n0']\n"
     ]
    }
   ],
   "source": [
    "# Если хочешь, чтобы числа стали настоящими числами, можно так:\n",
    "lst = ['Подробнее\\n', '6\\n', '1\\n', '0', 'Подробнее\\n6\\n1\\n0']\n",
    "\n",
    "cleaned = [item.strip() for item in lst]\n",
    "print(cleaned)  # ['Подробнее', '6', '1', '0']\n",
    "\n",
    "converted = [int(x) if x.isdigit() else x for x in cleaned]\n",
    "print(converted)  # ['Подробнее', 6, 1, 0]\n"
   ]
  },
  {
   "cell_type": "code",
   "execution_count": null,
   "metadata": {},
   "outputs": [],
   "source": [
    "# /--list/Многомерный-Вложиные.\n",
    "# list--Упорядоченная изменяемая коллекция элементов.\n",
    "# Создание: Через квадратные скобки [].\n",
    "# Элементы могут быть разных типов.\n",
    "# Поддерживает дубликаты.\n",
    "# Можно изменять, добавлять и удалять элементы."
   ]
  },
  {
   "cell_type": "code",
   "execution_count": null,
   "metadata": {},
   "outputs": [
    {
     "name": "stdout",
     "output_type": "stream",
     "text": [
      "[True, False]\n",
      "[1, 2, 3, 4]\n"
     ]
    }
   ],
   "source": [
    "# Двумерный в одномерном списке.\n",
    "A16 = [[[True, False], [1, 2, 3, 4]], [\"Двумерный\", \"и\", \"Одномерный\"]]\n",
    "for i in range(len(A16)):\n",
    "  print(A16[0][i][:])  # [[[],[]],[]]"
   ]
  },
  {
   "cell_type": "code",
   "execution_count": 2,
   "metadata": {},
   "outputs": [
    {
     "name": "stdout",
     "output_type": "stream",
     "text": [
      "[['яблоко', 'банан', 'вишня', 'апельсин', 'киви']]\n"
     ]
    }
   ],
   "source": [
    "my_list = ['яблоко', 'банан', 'вишня', 'апельсин', 'киви']\n",
    "# Структура многоменрных данных. Вложинех списков.\n",
    "img = [my_list[:], my_list[:]]\n",
    "print(img[1:4])\n"
   ]
  },
  {
   "cell_type": "code",
   "execution_count": null,
   "metadata": {},
   "outputs": [
    {
     "name": "stdout",
     "output_type": "stream",
     "text": [
      "[0, 1, 2, 3, 4, ...]\n"
     ]
    }
   ],
   "source": [
    "# reprlib -Вывод ограничение колличество\n",
    "import reprlib\n",
    "costum_lib = reprlib.Repr()\n",
    "costum_lib.maxlist = 5\n",
    "\n",
    "data = list(range(100))\n",
    "print(costum_lib.repr(data))"
   ]
  },
  {
   "cell_type": "code",
   "execution_count": null,
   "metadata": {},
   "outputs": [],
   "source": [
    "# Изменяемость списков\n",
    "img = [[1, 2, 3, 4, 5], [6, 7, 8, 9, 10],\n",
    "  [11, 12, 13, 14, 15], [16, 17, 18, 19, 20]]\n",
    "\n",
    "# Обрщение к элементу. Многомерному списку.\n",
    "img[1][4] # 10 -Оброщение по индексу.\n",
    "\n",
    "# Сформировали новый список и присвоили 2 элементом.\n",
    "img[1] = [0, 0, 0, 0, 0]\n",
    "img[1] = [0] * 5  # Более короткий вариан Формирования.\n",
    "img[1][:] = [1] * 5  # Изменили. Один из вариантов изменения.\n",
    "\n",
    "# del -Удаление.\n",
    "del img[0]\n",
    "print(img)"
   ]
  },
  {
   "cell_type": "code",
   "execution_count": null,
   "metadata": {},
   "outputs": [],
   "source": [
    "# /--list/Методы.\n",
    "\n",
    "# append -Добавляяет и изменяет список.\n",
    "a15 = [1, -14, 3, 23, 24, -45, 0]\n",
    "a15.append(100)  # Добавляяет и изменяет список.\n",
    "a15.append(True)\n",
    "a15.append([1, 2, 3]) # [1, -14, 3, 23, 24, -45, 0, 100, True, [1, 2, 3]]\n",
    "\n",
    "# insert -Встовляеть в список В Определеную позицию Определенное Значение.\n",
    "a15.insert(2, -1000) # [1, -14, -1000, 3, 23, 24, -45, 0, 100, True, [1, 2, 3]]"
   ]
  },
  {
   "cell_type": "code",
   "execution_count": null,
   "metadata": {},
   "outputs": [],
   "source": [
    "# remove -Удаление из спичка По значению.\n",
    "a15 = [1, -14, 3, 23, 24, -45, 0, -1000]\n",
    "\n",
    "a15.remove(True)  # В bool предстовление 1 Это True/ 0 False/\n",
    "a15.remove(-1000)\n",
    "\n",
    "# pop -Удаляет по ИНДЕКСУ Элемент иNTз списка И ВОЗВРАЩАЕТ его.\n",
    "a15.pop()  # Без аргумента удалит/Вернет последний Элемент.\n",
    "\n",
    "# Удалить и Запомнить Элемент.\n",
    "rememberPop = a15.pop() # -45\n",
    "rememberPop = a15.pop(3)  # 24 -По индексу. Удалить и Запомнить Элемент.\n",
    "\n",
    "# clear -Очистка.\n",
    "a15.clear()"
   ]
  },
  {
   "cell_type": "code",
   "execution_count": null,
   "metadata": {},
   "outputs": [],
   "source": [
    "# copy -\n",
    "a15 = [1, -14, 3, 23, 24, -45, 0, -1000]\n",
    "c15 = a15.copy()  # Создает вовую переменную\n",
    "c15 = a15[:]  # Со срезам.\n",
    "c15 = list(a15)  # Или.\n",
    "\n",
    "# count -Позваляет найти число Элементов с указаным Значением.\n",
    "c15.count(1)  # c15 Значение только 1.\n",
    "\n",
    "# index -Возвращает ИНДЕКС первого найденого значения.\n",
    "# c15.index()\n",
    "c15.index(3, 2)  # 2 Это сатартовое значение поиска.\n",
    "\n",
    "# reverse -Обратной порядок.\n",
    "c15.reverse()"
   ]
  },
  {
   "cell_type": "code",
   "execution_count": 5,
   "metadata": {},
   "outputs": [],
   "source": [
    "# sort -Сортировка по убыванию. Меняе И НИЧЕГО не возвращает.\n",
    "c15 = [1, -14, 3, 23, 24, -45, 0, -1000, 5, 9]\n",
    "c15.sort()  # [-45, -14, 0, 1, 3, 23, 24]\n",
    "c15.sort(reverse=True)  # [24, 23, 3, 1, 0, -14, -45]\n",
    "\n",
    "# sort -Сортировка по лексике графическому.\n",
    "c15ListSortStr = [\"Moscva\", \"Sanct-petesburg\", \"Tveri\", \"Kazani \"]\n",
    "c15ListSortStr.sort()  # ['Kazani ', 'Moscva', 'Sanct-petesburg', 'Tveri']\n",
    "\n",
    "\n",
    "[\"Moscva\", \"tveri\", \"Vologda\"]\n",
    "marks13 = [1, 2, 4, 7, 10, 3]\n",
    "\n",
    "# Списки Изменяемый Тип ДанныХ.\n",
    "marks13[0] = 8  # первое число Изменили на 8\n",
    "marks13[1] = \"Заменим на строку по ИНДЕКСУ\""
   ]
  },
  {
   "cell_type": "code",
   "execution_count": null,
   "metadata": {},
   "outputs": [],
   "source": [
    "# list() -Создает список. +Можем создавить копие списка.\n",
    "b13 = list([\"Moskva\", 12340, 5.00, True, \"Tvari\", False])\n",
    "b13_Listlist = list(\"Pytho\")  # На основе ОБЪЕКТА создает список.\n",
    "\n",
    "# len -\n",
    "len([])  # Пустой.\n",
    "len(marks13)  # Определение числа элементов в списке (длинна списка)\n",
    "\n",
    "M13 = [1, 2, 4, 7, 10, 3]\n",
    "# min/max -\n",
    "min(b13_Listlist)  # 'P' -Работает со строками\n",
    "max(b13_Listlist)\n",
    "\n",
    "# sum -\n",
    "sum(M13)  # Вычесление суммы всех Чисел.\n",
    "sum(M13) / len(M13)  # Среднея сумма чисел.\n",
    "\n",
    "# * -Дублирование списка.\n",
    "[\"I\", \"love\", \"Python\"] * 3\n",
    "[\"Дублируем\", \"списки\"] * 3 + [\"ТРИ\", \"Радза\"]"
   ]
  },
  {
   "cell_type": "code",
   "execution_count": null,
   "metadata": {},
   "outputs": [
    {
     "name": "stdout",
     "output_type": "stream",
     "text": [
      "[1, 2, 3, 4, 7, 10]\n"
     ]
    }
   ],
   "source": [
    "# sorted - Возвращает отсортированый список.\n",
    "\n",
    "M13 = [1, 2, 4, 7, 10, 3]\n",
    "\n",
    "# Осортированый список.  Создает новый список.\n",
    "sort_marks13 = sorted(M13)\n",
    "print(sort_marks13)\n",
    "\n",
    "# Обратная сортировка.\n",
    "sort_marks13 = sorted(M13, reverse=True)"
   ]
  },
  {
   "cell_type": "code",
   "execution_count": null,
   "metadata": {},
   "outputs": [
    {
     "name": "stdout",
     "output_type": "stream",
     "text": [
      "alex: 33\n",
      "Ted: 12\n",
      "dogi: 7\n",
      "Kara: 101\n"
     ]
    },
    {
     "data": {
      "text/plain": [
       "[1, 2, 3, 4, 5]"
      ]
     },
     "execution_count": 4,
     "metadata": {},
     "output_type": "execute_result"
    }
   ],
   "source": [
    "# zip -Соединяем два списка.\n",
    "name = [\"alex\", \"Ted\", \"dogi\", \"Kara\"]\n",
    "age = [33, 12, 7, 101]\n",
    "for i, j in zip(name, age):\n",
    "  print(f\"{i}: {j}\")\n",
    "\n",
    "# + -Конкатенация. Соединение двух списков в один.\n",
    "[1, 2, 3,] + [4, 5]"
   ]
  },
  {
   "cell_type": "code",
   "execution_count": null,
   "metadata": {},
   "outputs": [],
   "source": [
    "# in -Проверка вхождения элемента в список.\n",
    "lstInList = [\"Moscva\", 1320, True, 5.6, \"Tvari\", False]\n",
    "1320 in lstInList\n",
    "[1, 2] in lstInList  # False.\n",
    "\n",
    "# del -Удаление Элемента списка.\n",
    "del lstInList[2]  # Удален."
   ]
  },
  {
   "cell_type": "code",
   "execution_count": null,
   "metadata": {},
   "outputs": [],
   "source": [
    "# /--list/Присваивание-Копия-Равенство\n",
    "# [старт : стоп : шаг]\n",
    "\n",
    "lst14 = [\"Делаем 0\", \"срез 1\", \"Списка 2\", \"Удаляем 3 \", \"Элемент 4\"]\n",
    "lst14[1:3]\n",
    "\n",
    "# Новый скопированый список.\n",
    "A14 = lst14[1:3]  # Копируем.\n",
    "A14[0] = \"VoroneJ\"  # Исменяем под индексом 0.\n",
    "A14  # Элементы индекса 0 1. Новый список. + Изменения.\n",
    "\n",
    "b14 = lst14[:3]  # От 0 - 3.\n",
    "c14 = lst14[2:]  # От 2 и до конца.\n",
    "\n",
    "# ..=..[:]/ list() -Копия списка.\n",
    "newCopyLst = lst14[:]  # Копия списка.\n",
    "newCopyLst2 = list(lst14)\n",
    "\n",
    "# Не создает копию списка.\n",
    "NOcopyLst = lst14  # Не создает копию списка."
   ]
  },
  {
   "cell_type": "code",
   "execution_count": null,
   "metadata": {},
   "outputs": [],
   "source": [
    "negaty = [1, 2, 3, 4, 5, 6]\n",
    "\n",
    "# [старт:стоп] -\n",
    "negaty[2:-1]  # [3, 4, 5]\n",
    "negaty[-3:-1]  # [4, 5]\n",
    "\n",
    "# [старт:стоп:шаг] Добавляем шаг\n",
    "negaty[1:5:2]  # [2, 4]\n",
    "negaty[:5:2]  # [1, 2, 5]\n",
    "negaty[::-1]  # [6, 5, 4, 3, 2, 1]\n",
    "\n",
    "# Изменения групы Элементов.\n",
    "negaty[2:4] = [\"Изменение\", \"Элементы\"]  # [1, 2, 'Изменение', 'Элементы', 5, 6]\n",
    "\n",
    "# Правельно присваеваем значения групе оэлементов.\n",
    "negaty[:5:2] = [0, 0, 0]  # [0, 2, 0, 'Элементы', 0, 6]\n",
    "negaty[2:4] = 10, 20 # [0, 2, 10, 20, 0, 6]"
   ]
  },
  {
   "cell_type": "code",
   "execution_count": null,
   "metadata": {},
   "outputs": [],
   "source": [
    "# Равенство списково.\n",
    "eqalsList = [1, 2, 3] == [1, 2, 3]  # True\n",
    "eqalsList = [1, 2, 3] != [1, 2, 3]  # False\n",
    "eqalsList = [1, 2, 3] > [1, 2, 3]  # False\n",
    "eqalsList = [10, 2, 3] > [1, 2, 3]  # True\n",
    "eqalsList = [10, 2, 3] >= [1, 2, 3]  # True\n",
    "eqalsList = [10, 2, 3, 10] > [1, 2, 3]  # True\n",
    "# ERROR !!!!!\n",
    "eqalsList = [10, 2, 3] == [1, 2, \"Error\"]  # ERROR"
   ]
  },
  {
   "cell_type": "code",
   "execution_count": null,
   "metadata": {},
   "outputs": [],
   "source": [
    "# /--list/Строка-Срез строки\n",
    "\n",
    "s9 = \"hello python\"\n",
    "s9[1]  # Обращение по индексу.\n",
    "s9[-1]  # 'n' -Обращение по индексу с конца.\n",
    "\"panda\"[2]  # 'n' -Обращение по индексу.\n",
    "\n",
    "\n",
    "len(s9) - 1   # Обращение по индексу с конца.\n",
    "s9[len(s9) - 1]  # По индексу с конца.\n",
    "\n",
    "stn9 = \"01234 56789\"\n",
    "# Срез строки. [старт:стоп:шаг]\n",
    "stn9[1:3]  # '12' -Доходем до 3. А 3 не включаеться.\n",
    "stn9[:3]  # '012' -\n",
    "# [старт:стоп:шаг]\n",
    "stn9[2:10:3]  # '2 7' -Прообел тоже строка\n",
    "stn9[::2]  # '024579' -Все символы через один\n",
    "stn9[::-1]  # '98765 43210' -Все Символы с конца и записаный на оборот.\n",
    "stn9[::-2]  # '975420' -Символы с конца через один в строке stn9.\n",
    "\n",
    "# Строка не изменяемый тип. Для изменения создаем новую строку.\n",
    "s9h = 'H' + s9[1:]\n",
    "s9h"
   ]
  },
  {
   "cell_type": "code",
   "execution_count": 1,
   "metadata": {},
   "outputs": [
    {
     "name": "stdout",
     "output_type": "stream",
     "text": [
      "Yarry,Grif\n",
      "Ron,slytherin\n",
      "Hermiona,Grif\n"
     ]
    }
   ],
   "source": [
    "# Масс + словарь\n",
    "students =[\n",
    "    {\"name\": \"Yarry\", \"house\": \"Grif\"},\n",
    "    {\"name\": \"Ron\", \"house\": \"slytherin\"},\n",
    "    {\"name\": \"Hermiona\", \"house\": \"Grif\"},\n",
    "]\n",
    "for student in students:\n",
    "    print(student[\"name\"], student[\"house\"], sep=\",\")"
   ]
  }
 ],
 "metadata": {
  "kernelspec": {
   "display_name": ".venv",
   "language": "python",
   "name": "python3"
  },
  "language_info": {
   "codemirror_mode": {
    "name": "ipython",
    "version": 3
   },
   "file_extension": ".py",
   "mimetype": "text/x-python",
   "name": "python",
   "nbconvert_exporter": "python",
   "pygments_lexer": "ipython3",
   "version": "3.13.7"
  }
 },
 "nbformat": 4,
 "nbformat_minor": 2
}
