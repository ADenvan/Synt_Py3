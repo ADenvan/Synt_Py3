{
 "cells": [
  {
   "cell_type": "code",
   "execution_count": null,
   "metadata": {},
   "outputs": [],
   "source": [
    "\"\"\" \n",
    "🔹 function — функция, которую нужно применить к каждому элементу.\n",
    "🔹 iterable — последовательность (список, кортеж, строка, множество и т. д.).\n",
    "\n",
    "Функция map() возвращает итератор (map object), поэтому, чтобы увидеть результат, его нужно преобразовать, например, в список:\n",
    "\"\"\"\n",
    "list(map(function, iterable))\n"
   ]
  },
  {
   "cell_type": "code",
   "execution_count": null,
   "metadata": {},
   "outputs": [],
   "source": [
    "# Преобразование списка с помощью map()\n",
    "# Допустим, у нас есть список чисел, и мы хотим возвести каждое число в квадрат.\n",
    "numbers = [1, 2, 3, 4, 5]\n",
    "\n",
    "# Функция для возведения в квадрат\n",
    "def square(num):\n",
    "    return num ** 2\n",
    "\n",
    "# Применяем map\n",
    "squared_numbers = list(map(square, numbers))\n",
    "\n",
    "print(squared_numbers)  # [1, 4, 9, 16, 25]"
   ]
  },
  {
   "cell_type": "code",
   "execution_count": null,
   "metadata": {},
   "outputs": [],
   "source": [
    "# Использование map() с lambda\n",
    "# Вместо отдельной функции можно использовать lambda:\n",
    "numbers = [1, 2, 3, 4, 5]\n",
    "\n",
    "squared_numbers = list(map(lambda x: x ** 2, numbers))\n",
    "\n",
    "print(squared_numbers)  # [1, 4, 9, 16, 25]"
   ]
  },
  {
   "cell_type": "code",
   "execution_count": 7,
   "metadata": {},
   "outputs": [
    {
     "name": "stdout",
     "output_type": "stream",
     "text": [
      "[10, 20, 30, 40, 50]\n"
     ]
    }
   ],
   "source": [
    "# Преобразование списка строк в числа\n",
    "str_numbers = [\"10\", \"20\", \"30\", \"40\", 50]\n",
    "\n",
    "int_numbers = list(map(int, str_numbers))\n",
    "\n",
    "print(int_numbers)  # [10, 20, 30, 40]"
   ]
  },
  {
   "cell_type": "code",
   "execution_count": 5,
   "metadata": {},
   "outputs": [
    {
     "name": "stdout",
     "output_type": "stream",
     "text": [
      "[5, 7, 9]\n"
     ]
    }
   ],
   "source": [
    "# Применение map() к нескольким спискам\n",
    "# Можно передать несколько списков, и map() будет применять функцию ко всем сразу.\n",
    "list1 = [1, 2, 3]\n",
    "list2 = [4, 5, 6]\n",
    "\n",
    "# Сложим элементы списков по индексам\n",
    "sum_list = list(map(lambda x, y: x + y, list1, list2))\n",
    "\n",
    "print(sum_list)  # [5, 7, 9]"
   ]
  },
  {
   "cell_type": "code",
   "execution_count": 4,
   "metadata": {},
   "outputs": [
    {
     "name": "stdout",
     "output_type": "stream",
     "text": [
      "['HELLO', 'WORLD', 'PYTHON']\n"
     ]
    }
   ],
   "source": [
    "# Использование map() со строками\n",
    "words = [\"hello\", \"world\", \"python\"]\n",
    "\n",
    "upper_words = list(map(str.upper, words))\n",
    "\n",
    "print(upper_words)  # ['HELLO', 'WORLD', 'PYTHON']"
   ]
  },
  {
   "cell_type": "code",
   "execution_count": null,
   "metadata": {},
   "outputs": [
    {
     "name": "stdout",
     "output_type": "stream",
     "text": [
      "[1, 4, 9, 16, 25]\n",
      "[1, 4, 9, 16, 25]\n"
     ]
    }
   ],
   "source": [
    "# map() и for Оба подхода дают одинаковый результат, но map() компактнее:\n",
    "# Обычный for\n",
    "numbers = [1, 2, 3, 4, 5]\n",
    "squared_numbers = []\n",
    "for num in numbers:\n",
    "    squared_numbers.append(num ** 2)\n",
    "\n",
    "print(squared_numbers)  # [1, 4, 9, 16, 25]\n",
    "\n",
    "# С map()\n",
    "squared_numbers = list(map(lambda x: x ** 2, numbers))\n",
    "print(squared_numbers)  # [1, 4, 9, 16, 25]\n"
   ]
  },
  {
   "cell_type": "code",
   "execution_count": 1,
   "metadata": {},
   "outputs": [
    {
     "name": "stdout",
     "output_type": "stream",
     "text": [
      "[1, 4, 9, 16, 25]\n",
      "[1, 4, 9, 16, 25]\n"
     ]
    }
   ],
   "source": [
    "# map() vs. list comprehension\n",
    "# Хотя map() удобен, в Python часто используют генераторы списков:\n",
    "numbers = [1, 2, 3, 4, 5]\n",
    "\n",
    "# map()\n",
    "squared_map = list(map(lambda x: x ** 2, numbers))\n",
    "\n",
    "# list comprehension\n",
    "squared_list = [x ** 2 for x in numbers]\n",
    "\n",
    "print(squared_map)   # [1, 4, 9, 16, 25]\n",
    "print(squared_list)  # [1, 4, 9, 16, 25]\n"
   ]
  },
  {
   "cell_type": "code",
   "execution_count": null,
   "metadata": {},
   "outputs": [],
   "source": [
    "# map() с filter()\n",
    "# Часто map() используется вместе с filter():\n",
    "\n",
    "numbers = [1, 2, 3, 4, 5, 6, 7, 8, 9, 10]\n",
    "\n",
    "# Оставляем только четные и возводим их в квадрат\n",
    "even_squares = list(map(lambda x: x ** 2, filter(lambda x: x % 2 == 0, numbers)))\n",
    "\n",
    "print(even_squares)  # [4, 16, 36, 64, 100]"
   ]
  }
 ],
 "metadata": {
  "kernelspec": {
   "display_name": "Python 3",
   "language": "python",
   "name": "python3"
  },
  "language_info": {
   "codemirror_mode": {
    "name": "ipython",
    "version": 3
   },
   "file_extension": ".py",
   "mimetype": "text/x-python",
   "name": "python",
   "nbconvert_exporter": "python",
   "pygments_lexer": "ipython3",
   "version": "3.10.11"
  }
 },
 "nbformat": 4,
 "nbformat_minor": 2
}
