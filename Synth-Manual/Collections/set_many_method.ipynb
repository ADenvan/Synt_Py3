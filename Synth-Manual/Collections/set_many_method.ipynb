{
 "cells": [
  {
   "cell_type": "code",
   "execution_count": null,
   "metadata": {},
   "outputs": [],
   "source": [
    "# /--set/examp\n",
    "# set -Это неупорядоченная коллекция уникальных элементов.\n",
    "# set -Атоматически убирает дублирующие.\n",
    "# set -Любой итерируемый объект.\n",
    "\n",
    "# Что это? Неупорядоченная коллекция уникальных элементов.\n",
    "# Создание: Через {элементы} или set().\n",
    "# Особенности:\n",
    "# Нет индексов и порядка.\n",
    "# Используется для операций с множествами (объединение, пересечение и т.д.).\n"
   ]
  },
  {
   "cell_type": "code",
   "execution_count": null,
   "metadata": {},
   "outputs": [
    {
     "data": {
      "text/plain": [
       "{3, 4}"
      ]
     },
     "execution_count": 2,
     "metadata": {},
     "output_type": "execute_result"
    }
   ],
   "source": [
    "# 9 Найти общие элементы двух списков, используя множества.\n",
    "list1 = [1, 2, 3, 4]\n",
    "list2 = [3, 4, 5, 6]\n",
    "def find_intersection(list1, list2):\n",
    "  return set(list1) & set(list2)\n",
    "find_intersection(list1, list2)"
   ]
  },
  {
   "cell_type": "code",
   "execution_count": 1,
   "metadata": {},
   "outputs": [
    {
     "data": {
      "text/plain": [
       "1"
      ]
     },
     "execution_count": 1,
     "metadata": {},
     "output_type": "execute_result"
    }
   ],
   "source": [
    "# /--set/Методы \n",
    "# -Любой итерируемый объект. Нет дублий.\n",
    "set([1, 2, 3, 2, 1, -1])  # {1, 2, 3, -1} -Нет дублий.\n",
    "set(\"abrakadabra\")  # {'d', 'a', 'k', 'b', 'r'}\n",
    "set(range(7))  # {0, 1, 2, 3, 4, 5, 6}\n",
    "\n",
    "B32 = set()  #\n",
    "# add -Добавить 1 Эллемент.\n",
    "B32.add(3)  # {3} \n",
    "\n",
    "# update -Добавить множество.\n",
    "B32.update([1, 2, 4, \"StR\", (1, 2)])  # {(1, 2), 1, 2, 3, 4, 'StR'}\n",
    "\n",
    "# discard -Удаление Элемента без Error.\n",
    "B32.discard(2)  # {(1, 2), 1, 3, 4, 'StR'}\n",
    "\n",
    "# Удаляет и возврашает удаленный элемент в самом начале.\n",
    "B32.pop()  # {(1, 2), 3, 4, 'StR'}"
   ]
  },
  {
   "cell_type": "code",
   "execution_count": null,
   "metadata": {},
   "outputs": [
    {
     "data": {
      "text/plain": [
       "False"
      ]
     },
     "execution_count": 1,
     "metadata": {},
     "output_type": "execute_result"
    }
   ],
   "source": [
    "# /--set/Операции над.\n",
    "SeA33 = {1, 2, 3, 4}\n",
    "SeB33 = {3, 4, 5, 6}\n",
    "\n",
    "# intersection -Пересечение Двух.\n",
    "SeA33 & SeB33  # Возвращает новое мнодество. Не изменя старый.\n",
    "SeA33.intersection(SeB33)  # Возвращает результат пересечений.\n",
    "SeA33.intersection_update(SeB33)  # Если хотим сохранить текущий результат.\n",
    "\n",
    "# union -Обединение двух. Не изменя изначальный.\n",
    "SeA33 | SeB33\n",
    "SeA33.union(SeB33)\n",
    "\n",
    "# Вычитание.\n",
    "SeA33 - SeB33  # Вычетания один из другова.\n",
    "\n",
    "# Несовпадающие Элементы.\n",
    "SeB33 ^ SeB33  #\n",
    "\n",
    "# Неравенство.\n",
    "SeB33 < SeA33"
   ]
  }
 ],
 "metadata": {
  "kernelspec": {
   "display_name": "venv",
   "language": "python",
   "name": "python3"
  },
  "language_info": {
   "codemirror_mode": {
    "name": "ipython",
    "version": 3
   },
   "file_extension": ".py",
   "mimetype": "text/x-python",
   "name": "python",
   "nbconvert_exporter": "python",
   "pygments_lexer": "ipython3",
   "version": "3.12.6"
  }
 },
 "nbformat": 4,
 "nbformat_minor": 2
}
