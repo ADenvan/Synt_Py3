{
 "cells": [
  {
   "cell_type": "code",
   "execution_count": 1,
   "metadata": {},
   "outputs": [
    {
     "name": "stdout",
     "output_type": "stream",
     "text": [
      "a = 2, b = 1, c = 3\n",
      "a = 1, b = 2, c = 3\n"
     ]
    }
   ],
   "source": [
    "# /--parameter/--параметры Фактические и формальные .\n",
    "# (a, b, c,-Фактические парметры.\n",
    "# verbose=True) -Формальные параметры.\n",
    "def get_V(a, b, c, verbose=True):\n",
    "    if verbose:\n",
    "        print(f\"a = {a}, b = {b}, c = {c}\")\n",
    "    return a * b * c\n",
    "\n",
    "# Именованные аргументы.\n",
    "v38 = get_V(b=1, a=2, c=3) # 6\n",
    "\n",
    "# 1, 2, -Позиционные Аргу. c=3 -Именованые Аргу.\n",
    "v38 = get_V(1, 2, c=3) # 6\n"
   ]
  },
  {
   "cell_type": "code",
   "execution_count": null,
   "metadata": {},
   "outputs": [
    {
     "name": "stdout",
     "output_type": "stream",
     "text": [
      "True\n",
      "True\n"
     ]
    }
   ],
   "source": [
    "# Фактические и формальные параметры.\n",
    "def cmp_str(s1, s2, reg=False, trim=True):\n",
    "    if reg:  # Если Trye\n",
    "        s1 = s1.lower()\n",
    "        s2 = s2.lower()\n",
    "    if trim:  # Если Trye\n",
    "        s1 = s1.strip()\n",
    "        s2 = s2.strip()\n",
    "    return s1 == s2\n",
    "\n",
    "\n",
    "print(cmp_str(\"Python \", \" PYTHON\", True))  # Будет труе\n",
    "print(cmp_str(\"Python \", \" Python\", trim=False))  # Будет false"
   ]
  },
  {
   "cell_type": "code",
   "execution_count": 10,
   "metadata": {},
   "outputs": [],
   "source": [
    "# lst=None -Фармальный параметр. Всегда ссылаеться на пустой список.\n",
    "def add_value(value, lst=None):\n",
    "    if lst in None:  # Указываем не изменяемый тип Данных.\n",
    "        lst = []\n",
    "    lst.append(value)\n",
    "    return lst\n",
    "\n",
    "# L38 = add_value(1)\n",
    "# L38 = add_value(2, L38)"
   ]
  },
  {
   "cell_type": "code",
   "execution_count": null,
   "metadata": {},
   "outputs": [
    {
     "name": "stdout",
     "output_type": "stream",
     "text": [
      "C:\\/~stepic.org/Тут сформируем строку pyton (питон)/39\\p39. Функция.docx\n"
     ]
    }
   ],
   "source": [
    "# /--pac/--Упаковка- *args  **kwargs\n",
    "# Функции с произвольным числом параметров *args и **kwargs\n",
    "# * -Оператор упаковки агрумента. Произвольных аргументов. Тип(Картеж)\n",
    "# *args -Произвольное число позиционых аргументов.\n",
    "# **krwarg -Именованый аргумент. Тип{Словарь}.\n",
    "\n",
    "def os_path39(disk, *args, sep='\\\\', **kwargs):\n",
    "    args = (disk, ) + args\n",
    "    if 'trim' in kwargs and kwargs['trim']:\n",
    "        args = [x.strip() for x in args]\n",
    "    path = sep.join(args)\n",
    "    return path\n",
    "\n",
    "\n",
    "P = os_path39(\"C:\\\\\", \"~stepic.org\", \" Тут сформируем строку pyton (питон)  \",\n",
    "              \" 39\\\\p39. Функция.docx \", sep='/', trim=True)\n",
    "print(P)"
   ]
  },
  {
   "cell_type": "code",
   "execution_count": 25,
   "metadata": {},
   "outputs": [
    {
     "name": "stdout",
     "output_type": "stream",
     "text": [
      "<class 'int'>, <class 'list'>\n",
      "<class 'int'>: 1 <class 'list'>: ['a', True, 4] \n",
      "<class 'list'>: ['P', 'y', 't', 'h'] \n",
      "<class 'str'>: o \n",
      "<class 'str'>: n \n"
     ]
    }
   ],
   "source": [
    "# /--pac/--Упаковка-* ** метод.\n",
    "# Операторы * И ** для упакавки и распаковки коллекций.\n",
    "\n",
    "# Упаковка. \n",
    "X40, *Y40 = (1, 2, 3, 4)  # * X<[1]/ Y<[2,3,4]\n",
    "print(f\"{type(X40)}, {type(Y40)}\")\n",
    "\n",
    "X40, *Y40 = [1, \"a\", True, 4]  # 1 / ['a', True, 4]\n",
    "print(f\"{type(X40)}: {X40} {type(Y40)}: {Y40} \")\n",
    "\n",
    "\n",
    "*X40, Y40, Z40 = \"Python\"  # X40['P', 'y', 't', 'h']/ Y40<'o'/ Z40<n\n",
    "print(f\"{type(X40)}: {X40} \\n{type(Y40)}: {Y40} \\n{type(Z40)}: {Z40} \")\n",
    "# *X40 = 1, 2, 3 Будет ошибка. Упаковка в упаковоное.\n",
    "\n"
   ]
  },
  {
   "cell_type": "code",
   "execution_count": 27,
   "metadata": {},
   "outputs": [
    {
     "data": {
      "text/plain": [
       "[-3, -2, -1, 0, 1, 2, True, False, 1, 2, 3]"
      ]
     },
     "execution_count": 27,
     "metadata": {},
     "output_type": "execute_result"
    }
   ],
   "source": [
    "# Распаковка / списка / кортеж.\n",
    "a40 = [1, 2, 3]\n",
    "(a40,)  # ([1, 2, 3])  # Список.\n",
    "(*a40,)  # (1, 2, 3)  # Кортеж.\n",
    "\n",
    "# Распаков-Любых итерируемых объектов.\n",
    "D40 = -3, 3  # (-3, 3)\n",
    "range(*D40)  # В диапазоне -3 3\n",
    "list(range(*D40))  # [-3, -2, -1, 0, 1, 2,] Преоброзование в список.\n",
    "[*range(*D40)]  # Автоматическая распаковка. [-3, -2, -1, 0, 1, 2,]\n",
    "# [-3, -2, -1, 0, 1, 2, True, False, 1, 2, 3] # Обединения итерируемых объектов.\n",
    "[*range(*D40), *(True, False), *a40]\n"
   ]
  },
  {
   "cell_type": "code",
   "execution_count": null,
   "metadata": {},
   "outputs": [],
   "source": [
    "# словарь\n",
    "\n",
    "S40 = {\"все\": 2, \"ключи\": 3, \"перебор\": 3, \"в словарь\": 4, \"тут\": 5}\n",
    "# Множество из Ключей.\n",
    "{*S40}  # {'тут', 'в словарь', 'все', 'перебор', 'ключи'}\n",
    "\n",
    "# Множество из значений.\n",
    "{*S40.values()}  # {2, 3, 4, 5}\n",
    "\n",
    "# Кортежи Ключь Значчение\n",
    "{*S40.items()}  # {('тут', 5), ('ключи', 3), ('все', 2), ('перебор', 3), ('в словарь', 4)}\n",
    "# Можем обединить словари.\n",
    "{**S40, **S40}\n",
    "\n",
    "k40, kk40, *kkk40 = S40\n",
    "# k40<'все'/ kk40<'ключи'/ kkk40<['перебор', 'в словарь', 'тут']"
   ]
  }
 ],
 "metadata": {
  "kernelspec": {
   "display_name": "Python 3",
   "language": "python",
   "name": "python3"
  },
  "language_info": {
   "codemirror_mode": {
    "name": "ipython",
    "version": 3
   },
   "file_extension": ".py",
   "mimetype": "text/x-python",
   "name": "python",
   "nbconvert_exporter": "python",
   "pygments_lexer": "ipython3",
   "version": "3.10.11"
  }
 },
 "nbformat": 4,
 "nbformat_minor": 2
}
