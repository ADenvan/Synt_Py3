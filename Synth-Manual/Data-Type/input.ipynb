{
 "cells": [
  {
   "cell_type": "code",
   "execution_count": 1,
   "metadata": {},
   "outputs": [
    {
     "name": "stdout",
     "output_type": "stream",
     "text": [
      "-6.87 | 7 | 25.9\n",
      "Hello <> World!\n",
      "Координаты точки: b6 = 7; c6 = 25.9\n"
     ]
    },
    {
     "data": {
      "text/plain": [
       "'f Строка Коор точ: b6 = 7; c6 = 25.9'"
      ]
     },
     "execution_count": 1,
     "metadata": {},
     "output_type": "execute_result"
    }
   ],
   "source": [
    "# /--Вывод\n",
    "# sep - разделитель между данными.\n",
    "# end - завершающий символ или строка.\n",
    "a6 = -6.87\n",
    "b6 = 7\n",
    "c6 = 25.9\n",
    "print(a6, b6, c6, sep=\" | \")  # + |\n",
    "print(\"Hello\", end=\" <> \")  # + World!\n",
    "print(\"World!\")\n",
    "\n",
    "print(\"Координаты точки: b6 = \", b6, \"; c6 = \", c6, sep=\"\")\n",
    "(f\"f Строка Коор точ: b6 = {b6}; c6 = {c6}\")\n",
    "\n"
   ]
  },
  {
   "cell_type": "code",
   "execution_count": 4,
   "metadata": {},
   "outputs": [
    {
     "name": "stdout",
     "output_type": "stream",
     "text": [
      "123 <class 'int'>  abs print: 123\n",
      "2.0\n"
     ]
    }
   ],
   "source": [
    "# /--input() -Вод с консоля.\n",
    "aPrint = input() # str\n",
    "aPrint = int(aPrint) # Преобразовываем в строку Цаелых чисел.\n",
    "bPrint = abs(aPrint) \n",
    "print(aPrint, type(aPrint), f\" abs print: {bPrint}\")\n",
    "\n",
    "fPrint = float(input())   # Преобразование дробных чисел.\n",
    "print(fPrint)\n"
   ]
  },
  {
   "cell_type": "code",
   "execution_count": null,
   "metadata": {},
   "outputs": [],
   "source": [
    "# Вычесление Треугольника.\n",
    "engl1 = float(input(\"Введите длину прямогугольника: \"))\n",
    "engl2 = float(input(\"Введите ширину прямогугольника: \"))\n",
    "print(\"Периметра Треугольника => \", 2 * (engl1 + engl2))"
   ]
  },
  {
   "cell_type": "code",
   "execution_count": null,
   "metadata": {},
   "outputs": [],
   "source": [
    "# Прямоугольник\n",
    "engle1, engle2 = map(float, input(\"Введите две стороны прямоугольника: \").split())\n",
    "print(engl1, engl2)"
   ]
  }
 ],
 "metadata": {
  "kernelspec": {
   "display_name": ".venv",
   "language": "python",
   "name": "python3"
  },
  "language_info": {
   "codemirror_mode": {
    "name": "ipython",
    "version": 3
   },
   "file_extension": ".py",
   "mimetype": "text/x-python",
   "name": "python",
   "nbconvert_exporter": "python",
   "pygments_lexer": "ipython3",
   "version": "3.12.6"
  }
 },
 "nbformat": 4,
 "nbformat_minor": 2
}
