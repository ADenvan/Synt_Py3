{
 "cells": [
  {
   "cell_type": "code",
   "execution_count": null,
   "metadata": {},
   "outputs": [],
   "source": [
    "# /--str/example"
   ]
  },
  {
   "cell_type": "code",
   "execution_count": null,
   "metadata": {},
   "outputs": [],
   "source": [
    "# wordninja -Библиотека использует статистику частотности английских слов.\n",
    "import wordninja\n",
    "text = \"Hellomyfriend\"\n",
    "result = \" \".join(wordninja.split(text))\n",
    "print(result)  # Hello my friend"
   ]
  },
  {
   "cell_type": "code",
   "execution_count": null,
   "metadata": {},
   "outputs": [],
   "source": [
    "# сколько раз подстрока встречается в строке (без учета регистра).\n",
    "def count_substring_occurrences(s, substring):  \n",
    "    s_lower = s.lower()  \n",
    "    substring_lower = substring.lower()  \n",
    "    return s_lower.count(substring_lower)  \n",
    "\n",
    "print(count_substring_occurrences(\"Hello hello hElLo\", \"hello\"))  # Вывод: 3  "
   ]
  },
  {
   "cell_type": "code",
   "execution_count": null,
   "metadata": {},
   "outputs": [
    {
     "name": "stdout",
     "output_type": "stream",
     "text": [
      "Hello my friend\n"
     ]
    }
   ],
   "source": [
    "# set -Если есть список известных слов, можно проверять вхождение в этот список.\n",
    "def split_words(text, dictionary):\n",
    "    result = []\n",
    "    word = \"\"\n",
    "\n",
    "    for char in text:\n",
    "        word += char\n",
    "        if word in dictionary:  # Проверяем, есть ли текущее слово в словаре\n",
    "            result.append(word)\n",
    "            word = \"\"  # Очищаем слово\n",
    "\n",
    "    return \" \".join(result)\n",
    "\n",
    "# 📌 Заданный словарь известных слов\n",
    "dictionary = {\"Hello\", \"my\", \"friend\"}\n",
    "\n",
    "text = \"Hellomyfriend\"\n",
    "print(split_words(text, dictionary))  # Hello my friend"
   ]
  },
  {
   "cell_type": "code",
   "execution_count": 12,
   "metadata": {},
   "outputs": [
    {
     "name": "stdout",
     "output_type": "stream",
     "text": [
      "<class 'int'> + 1\n",
      "<class 'float'> + 2\n",
      "Ошибка выполнения + 3 <class 'str'>\n"
     ]
    }
   ],
   "source": [
    "question = [\"<class 'int'>\", \"<class 'float'>\", \"Ошибка выполнения\", \"<class 'string'>: of\"]\n",
    "cech_arry_ans = [\"<class 'int'>\", \"<class 'float'>\", \"Ошибка выполнения\", \"<class 'string'>: end\"]\n",
    "\n",
    "# Из list in string. iter + 1 + string.\n",
    "# От 1: до конца. list\n",
    "# И От 0 + 1 до конца конвертируем в строку. list in string.\n",
    "\n",
    "num_option = []\n",
    "for item in range(len(question[1:])):\n",
    "    num_option.append(f\"{cech_arry_ans[item]} + {item + 1}\")\n",
    "num_fo_ans = \"\\n\".join(num_option)\n",
    "print(num_fo_ans, type(num_fo_ans))\n",
    "# self.options_label.setText(num_fo_ans)"
   ]
  },
  {
   "cell_type": "code",
   "execution_count": null,
   "metadata": {},
   "outputs": [
    {
     "name": "stdout",
     "output_type": "stream",
     "text": [
      "Числа: [50, 123, 7]\n",
      "Строки: ['stri', 'to']\n"
     ]
    }
   ],
   "source": [
    "# Разбить строку на числа и строки.\n",
    "def separate_numbers_and_strings(s):\n",
    "    items = s.split()\n",
    "    \n",
    "    # Отдельно числа и строки\n",
    "    numbers = [int(item) for item in items if item.isdigit()]\n",
    "    strings = [item for item in items if not item.isdigit()]\n",
    "    return numbers, strings\n",
    "\n",
    "# Пример использования\n",
    "s = \"50 123 7 stri to\"\n",
    "numbers, strings = separate_numbers_and_strings(s)\n",
    "\n",
    "print(\"Числа:\", numbers)\n",
    "print(\"Строки:\", strings)\n"
   ]
  },
  {
   "cell_type": "code",
   "execution_count": 5,
   "metadata": {},
   "outputs": [
    {
     "name": "stdout",
     "output_type": "stream",
     "text": [
      "['1', '2', '3', '4', '5']\n"
     ]
    }
   ],
   "source": [
    "# Преобразовать число в строку, а затем разбить его на отдельные символы.\n",
    "number = 12345\n",
    "digits = list(str(number))  # Преобразуем в строку и список символов\n",
    "print(digits)  # ['1', '2', '3', '4', '5']"
   ]
  },
  {
   "cell_type": "code",
   "execution_count": null,
   "metadata": {},
   "outputs": [],
   "source": [
    "# /--str/--Строка\n",
    "# (''' или ””” -Многострочные строки сохраняют разрывы строк в тексте, что упрощает работу с форматированными\n",
    "message = \"\"\"Dear User,\n",
    "Thank you for subscribing to our service.\n",
    "Best regards,\n",
    "The Team\"\"\"\n",
    "\n",
    "\n",
    "s1 = \"Строка № 1: \"\n",
    "s2 = \"Язык Python s 2\"\n",
    "\n",
    "# конкатынацыия строк.\n",
    "s1 + \" \" + s2\n",
    "s1 + str(505)  # Позволяет преоброзовывать Аргумент в строку.\n",
    "\n",
    "# * -Дублирования фрагмента строки.\n",
    "\"XA \" * 5 # XA XA XA XA XA \n",
    "\n",
    "# len - Выдает количество символов в строке.\n",
    "len(\"Hello\")\n",
    "len(s1)\n",
    "\n",
    "# in - Присутствует ли символы в строке из под строке.\n",
    "'abr' in \"abrkdbra\"  # True\n",
    "\n",
    "# != > < == Равенство строк.\n",
    "s1 != \"Равно или нет \"  # True / Не равно s1.\n",
    "\"КОТ\" > \"КИТ\"  # True\n",
    "\n",
    "# ord -Опредиление кода символа.\n",
    "ord('a')\n",
    "\n"
   ]
  },
  {
   "cell_type": "code",
   "execution_count": null,
   "metadata": {},
   "outputs": [],
   "source": [
    "# /--str/Методы\n",
    "#\n",
    "\n",
    "sUp = \"Pyhon\"\n",
    "msg = \"abrakadabra\"  # Всего 10 от 0 - 10.\n",
    "\n",
    "# upper/lower -Верхний и нижний регистр.\n",
    "ret = sUp.upper()\n",
    "ret = sUp.lower()\n",
    "\n",
    "# count -сколько символов в строке.\n",
    "msg.count('ra')  # 2\n",
    "msg.count('ra', 4)  # Поис после 4 индекса в строке и до конца.\n",
    "msg.count('ra', 4, 10)  # В диапазоне от 4 - 9 Индекса.\n",
    "\n",
    "# find -Возвращает 1 наденый индес в под строке\n",
    "msg.find(\"br\")  # Находиться на 1 индехсе.\n",
    "msg.find(\"br\", 2)  # Поиск со 2 индоекса. Порог вхождения br c 8 индекса.\n",
    "\n",
    "# rfind -\n",
    "msg.rfind(\"br\")  # 8 -Поиск с конца.\n",
    "\n",
    "# index -\n",
    "msg.index(\"br\")  # Работает как find -Но может привести к ошибке.\n",
    "\n",
    "# replace -\n",
    "msg.replace(\"a\", 'o')  # заменить все а на о.\n",
    "msg.replace(\"ab\", 'AB')  # заменить все ab на AB.\n",
    "msg.replace(\"ab\", '')  # На пустые строки.\n",
    "msg.replace(\"a\", 'O', 2)  # Максимальное чесло замен. Первые 2 а на О.\n",
    "\n",
    "# isalpha - True Возврашает если строка состаит целеком из букв.\n",
    "\"worldHi\".isalpha()  # True\n",
    "\"world Hi\".isalpha()  # False Пробел не являеться буквой.\n",
    "\n",
    "# isdigit() - True Если строка целеком состаит из Цифар.\n",
    "\"5005\".isdigit()  # True\n",
    "\"50.05\".isdigit()  # False.\n",
    "\n",
    "# rjust -Возвращает НОВУЮ строку с заданном числом/width/ заданном.\n",
    "rjd = \"asd\"\n",
    "rjd.rjust(5)  # Строка БУДЕТ из 5 символов.\n",
    "msg.rjust(13)  # Будет Состаять из 13.\n",
    "nRj = \"12\"\n",
    "nRj.rjust(4, '0')  # '0012' -Добавит пару 00 в начале.\n",
    "\n",
    "# ljust -С конца.\n",
    "nRj.ljust(10, '*')  # '12********' -Заполнем на 10 * с конца.\n",
    "\n",
    "# split -Разбивает страку на СПИСКИ.\n",
    "\"Ivanov IvaN IvaNivaNNovich\".split(\" \")\n",
    "digs = \"1,  2,3,  4, 5,6\"\n",
    "digs.replace(\" \", \"\").split(\",\")  # Удалить лишний пробел.\n",
    "\n",
    "\n",
    "# join -Из списка строк собирает строку.\n",
    "d10 = digs.replace(\" \", \"\").split(\",\")\n",
    "\", \".join(d10)  # Возвращает строку с добавленными символами.\n",
    "d10\n",
    "fio = \"В каждый пробел вставит зяпятую\" \n",
    "\", \".join(fio.split())\n",
    "\n",
    "# strip -Удаляет все символы пробела и переноса строк вначале и в конце строки.\n",
    "\"Удаляет вначале и конце из строки\\n\".strip()\n",
    "\"     Удаляет в конце из строки\\n\".rstrip()\n",
    "\"Удаляет в начале строки       \\n\".lstrip()"
   ]
  },
  {
   "cell_type": "code",
   "execution_count": null,
   "metadata": {},
   "outputs": [
    {
     "name": "stdout",
     "output_type": "stream",
     "text": [
      "...Много тоочек:.^23...: \n",
      " Новая строка\n",
      "Hello,\n",
      "World!\n",
      "Метод формат в Lesson 12 возвращает строку 12 по шаблонуМетод формат в Lesson 12 возвращает строку по 12 шаблону\n"
     ]
    },
    {
     "data": {
      "text/plain": [
       "'Ф строка Урока-9-и номер урока-1212-в Pyton 6v'"
      ]
     },
     "execution_count": 6,
     "metadata": {},
     "output_type": "execute_result"
    }
   ],
   "source": [
    "# /--print/Вывод-Формат-ф\n",
    "# f/ format(...=..)/ f\"{...}/\n",
    "\n",
    "txt = \"Много тоочек:.^23\"\n",
    "print(f\"{txt:.^23}: \\n Новая строка\")\n",
    "\n",
    "name12 = \"Lesson 12\"\n",
    "namber12 = \"12\"\n",
    "\n",
    "mFS12 = \"Метод формат в \" + name12 + \" возвращает строку \" + namber12 + \" по шаблону\" + \"Метод формат в {less} возвращает строку по {lessNamber} шаблону\".format(less=name12, lessNamber=namber12)\n",
    "print(mFS12)\n",
    "\n",
    "f\"Ф строка Урока-{name12}-и номер урока-{namber12}-в Pyton 6v\"\n",
    "f\"Ф строка Урока-{name12.upper()}-и номер урока-{namber12}-в Pyton 6v\"\n",
    "f\"Ф строка Урока-{len(name12)}-и номер урока-{namber12 * 2}-в Pyton 6v\"\n"
   ]
  },
  {
   "cell_type": "code",
   "execution_count": null,
   "metadata": {},
   "outputs": [
    {
     "name": "stdout",
     "output_type": "stream",
     "text": [
      "bobby hadz\n"
     ]
    }
   ],
   "source": [
    "# Обрезка строки при форматировании\n",
    "my_str = 'bobbyhadz.com'\n",
    "result = f'{my_str:.5}' # bobby\n",
    "result = f'{my_str:.5}{\"...\" if len(my_str) > 5 else \"\"}' # 👉️ bobby...\n",
    "\n",
    "\n",
    "# Обрезка строки с помощью str.rsplit()\n",
    "my_str = 'bobby hadz com'\n",
    "new_str = my_str.rsplit(' ', 1)[0] # 'bobby hadz'\n",
    "my_str = 'bobby hadz com'\n",
    "\n",
    "# 👇️ Удалить последнее слово из строки\n",
    "result = my_str.rsplit(' ', 1)[0] # bobby hadz\n",
    "\n",
    "# 👇️ Удалить 2 последних слова из строки\n",
    "result = my_str.rsplit(' ', 2)[0] # bobby"
   ]
  },
  {
   "cell_type": "code",
   "execution_count": null,
   "metadata": {},
   "outputs": [],
   "source": [
    "# Обрезка строки с помощью textwrap.shorten()\n",
    "# Метод усекает заданный текст, чтобы он поместился в заданную ширину. Обратите внимание, что заполнитель включается в ширину строки.\n",
    "import textwrap\n",
    "\n",
    "a_string = 'bobby hadz com one two three'\n",
    "\n",
    "new_string = textwrap.shorten(a_string, width=8, placeholder='') # bobby\n",
    "new_string = textwrap.shorten(a_string, width=8, placeholder='...') # bobby...\n",
    "new_string = textwrap.shorten(a_string, width=15, placeholder='...') # bobby hadz..."
   ]
  },
  {
   "cell_type": "code",
   "execution_count": null,
   "metadata": {},
   "outputs": [],
   "source": [
    "# Обрезка строки с помощью str.format()\n",
    "a_string = 'bobby hadz com one two three'\n",
    "\n",
    "new_str = '{:.5}'.format(a_string) # bobby\n",
    "new_str = '{:.7}'.format(a_string) # bobby h\n",
    "new_str = '{:.3}'.format(a_string) # bob\n",
    "\n",
    "# Цифра после точки используется для указания количества символов строки, которые нужно вывести.\n",
    "# Метод str.format() выполняет операции форматирования строк.\n",
    "first = 'bobby'\n",
    "last = 'hadz'\n",
    "\n",
    "result = \"Name: {} {}\".format(first, last) # \"Name: bobby hadz\"\n",
    "\n",
    "# Строка в примере содержит более 5 символов, поэтому выполняется оператор if и в конце добавляется многоточие.\n",
    "a_string = 'bobby hadz com one two three'\n",
    "\n",
    "new_str = '{:.5}'.format(a_string) + \"...\" if len(a_string) > 5 else \"\" # bobby..."
   ]
  },
  {
   "cell_type": "code",
   "execution_count": 8,
   "metadata": {},
   "outputs": [
    {
     "name": "stdout",
     "output_type": "stream",
     "text": [
      "\\\\t<=Табуляция слеш N=>\\\\nPython\n"
     ]
    }
   ],
   "source": [
    "# \\t...\\n -Tab\n",
    "tText = \"\\t<=Табуляция слеш N=>\\nPython\"\n",
    "# \\\\t...\\\\n -Экранирование.\n",
    "tText = \"\\\\t<=Табуляция слеш N=>\\\\nPython\"  # Экранирование.\n",
    "# r\"\\\\...\\\\ -Сытые строки\n",
    "tText = r\"\\\\t<=Табуляция слеш N=>\\\\nPython\"  # Сырые строки.\n",
    "print(tText)"
   ]
  }
 ],
 "metadata": {
  "kernelspec": {
   "display_name": "Python 3",
   "language": "python",
   "name": "python3"
  },
  "language_info": {
   "codemirror_mode": {
    "name": "ipython",
    "version": 3
   },
   "file_extension": ".py",
   "mimetype": "text/x-python",
   "name": "python",
   "nbconvert_exporter": "python",
   "pygments_lexer": "ipython3",
   "version": "3.10.11"
  }
 },
 "nbformat": 4,
 "nbformat_minor": 2
}
