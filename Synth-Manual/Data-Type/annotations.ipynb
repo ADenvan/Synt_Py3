{
 "cells": [
  {
   "cell_type": "code",
   "execution_count": null,
   "metadata": {},
   "outputs": [],
   "source": [
    "# /-->/\n",
    "\"\"\" Аннотации в Python 3\n",
    "Аннотации в Python — это способ указать типы переменных, аргументов функций и их возвращаемых значений. Они помогают разработчикам лучше понимать код и позволяют инструментам анализа статически проверять типы.\n",
    "\n",
    "Аннотации были введены в Python 3.0 и стали популярны с появлением PEP 484 (Type Hints) в Python 3.5. \"\"\""
   ]
  },
  {
   "cell_type": "code",
   "execution_count": null,
   "metadata": {},
   "outputs": [],
   "source": [
    "# -> str → функция возвращает строку (str).\n",
    "# name: str → параметр name должен быть строкой (str).\n",
    "# age: int → параметр age должен быть числом (int).\n",
    "def greet(name: str, age: int) -> str:\n",
    "    return f\"Привет, {name}. Тебе {age} лет!\"\n"
   ]
  },
  {
   "cell_type": "code",
   "execution_count": null,
   "metadata": {},
   "outputs": [],
   "source": [
    "# 2. Аннотации переменных Можно аннотировать обычные переменные:\n",
    "x: int = 10\n",
    "y: float = 3.14\n",
    "name: str = \"Alice\"\n",
    "# Аннотации помогают линтерам и редакторам кода анализировать типы."
   ]
  },
  {
   "cell_type": "code",
   "execution_count": null,
   "metadata": {},
   "outputs": [],
   "source": [
    "# 3. Использование typing для сложных типов В модуле typing есть типы для аннотации сложных структур.\n",
    "# /--typing\n",
    "# 3.1. Списки, словари, кортежи\n",
    "from typing import List, Dict, Tuple\n",
    "\n",
    "numbers: List[int] = [1, 2, 3]  # Список целых чисел\n",
    "user: Dict[str, int] = {\"Alice\": 25, \"Bob\": 30}  # Словарь: ключ - строка, значение - число\n",
    "point: Tuple[int, int] = (10, 20)  # Кортеж из двух целых чисел"
   ]
  },
  {
   "cell_type": "code",
   "execution_count": 10,
   "metadata": {},
   "outputs": [],
   "source": [
    "# 3.2. Any и Union\n",
    "# Any → любой тип.\n",
    "# Union[A, B] → переменная может быть либо типа A, либо B.\n",
    "from typing import Any, Union\n",
    "\n",
    "data: Any = \"Может быть чем угодно\"\n",
    "\n",
    "def add(x: Union[int, float], y: Union[int, float]) -> Union[int, float]:\n",
    "    return x + y"
   ]
  },
  {
   "cell_type": "code",
   "execution_count": 15,
   "metadata": {},
   "outputs": [
    {
     "name": "stdout",
     "output_type": "stream",
     "text": [
      "Лог: str !\n"
     ]
    }
   ],
   "source": [
    "# 4. Аннотация возвращаемого значения None Если функция ничего не возвращает, указывают None:\n",
    "def log_message(message: str) -> None:\n",
    "    print(f\"Лог: {message}\")\n",
    "log_message(\"str !\")"
   ]
  },
  {
   "cell_type": "code",
   "execution_count": 16,
   "metadata": {},
   "outputs": [],
   "source": [
    "# 5. Аннотации с Optional Если аргумент может быть None, используют Optional:\n",
    "# 📌 Optional[str] — это то же самое, что Union[str, None].\n",
    "\n",
    "from typing import Optional\n",
    "\n",
    "def get_user(id: int) -> Optional[str]:\n",
    "    users = {1: \"Alice\", 2: \"Bob\"}\n",
    "    return users.get(id)  # Может вернуть None"
   ]
  },
  {
   "cell_type": "code",
   "execution_count": 17,
   "metadata": {},
   "outputs": [
    {
     "name": "stdout",
     "output_type": "stream",
     "text": [
      "6\n"
     ]
    }
   ],
   "source": [
    "# 6. Аннотации для функций, принимающих другие функции Можно аннотировать функции, которые принимают другие функции:\n",
    "from typing import Callable\n",
    "\n",
    "def process(func: Callable[[int, int], int], x: int, y: int) -> int:\n",
    "    return func(x, y)\n",
    "\n",
    "def multiply(a: int, b: int) -> int:\n",
    "    return a * b\n",
    "\n",
    "print(process(multiply, 2, 3))  # 6\n",
    "# 🔹 Callable[[int, int], int] означает функцию, которая принимает два int и возвращает int."
   ]
  },
  {
   "cell_type": "code",
   "execution_count": 18,
   "metadata": {},
   "outputs": [],
   "source": [
    "# 7. TypedDict — аннотация для словарей Python 3.8 добавил TypedDict — удобный способ аннотировать словари с фиксированной структурой.\n",
    "from typing import TypedDict\n",
    "\n",
    "class User(TypedDict):\n",
    "    name: str\n",
    "    age: int\n",
    "\n",
    "user: User = {\"name\": \"Alice\", \"age\": 25}"
   ]
  }
 ],
 "metadata": {
  "kernelspec": {
   "display_name": "Python 3",
   "language": "python",
   "name": "python3"
  },
  "language_info": {
   "codemirror_mode": {
    "name": "ipython",
    "version": 3
   },
   "file_extension": ".py",
   "mimetype": "text/x-python",
   "name": "python",
   "nbconvert_exporter": "python",
   "pygments_lexer": "ipython3",
   "version": "3.10.11"
  }
 },
 "nbformat": 4,
 "nbformat_minor": 2
}
