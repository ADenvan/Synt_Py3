{
 "cells": [
  {
   "cell_type": "code",
   "execution_count": null,
   "metadata": {},
   "outputs": [],
   "source": [
    "# /--class/"
   ]
  },
  {
   "cell_type": "code",
   "execution_count": null,
   "metadata": {},
   "outputs": [
    {
     "name": "stdout",
     "output_type": "stream",
     "text": [
      "7\n"
     ]
    }
   ],
   "source": [
    "# @property -Изменение значения через property\n",
    "class MyInt:\n",
    "  def __init__(self, value):\n",
    "    self._value = value\n",
    "  \n",
    "  @property\n",
    "  def value(self):\n",
    "    return self._value\n",
    "  \n",
    "  @value.setter\n",
    "  def value(self, new_value):\n",
    "    # isinstance -Она возвращает True, если объект является экземпляром указанного класса или любого из указанных классов в кортеже, и False в противном случае\n",
    "    if isinstance(new_value, int):\n",
    "      self._value = new_value\n",
    "    else:\n",
    "      raise ValueError(\"Must be Integer\")\n",
    "a = MyInt(4)\n",
    "a.value = 7\n",
    "print(a.value)\n"
   ]
  },
  {
   "cell_type": "code",
   "execution_count": null,
   "metadata": {},
   "outputs": [],
   "source": [
    "# 8. Реализовать класс BankAccount с методами: deposit(amount) (внести средства), withdraw(amount) (снять средства), get_balance() (вернуть текущий баланс).\n",
    "class BankAccount:\n",
    "    def __init__(self, initial_balance):\n",
    "        self.balance = initial_balance\n",
    "    \n",
    "    def deposit(self, amount):\n",
    "        self.balance += amount\n",
    "    \n",
    "    def withdraw(self, amount):\n",
    "        if amount > self.balance:\n",
    "            raise ValueError(\"Недостаточно средств\")\n",
    "        self.balance -= amount\n",
    "    \n",
    "    def get_balance(self):\n",
    "        return self.balance\n",
    "\n",
    "account = BankAccount(100)\n",
    "account.deposit(50)\n",
    "account.withdraw(30)\n",
    "print(account.get_balance())  # Вывод: 120"
   ]
  },
  {
   "cell_type": "code",
   "execution_count": null,
   "metadata": {},
   "outputs": [],
   "source": [
    "# 11. Создать класс Stack, реализующий основные операции стека: push, pop, peek и is_empty.\n",
    "# Создаем класс Stack для реализации структуры данных \"стек\"\n",
    "class Stack:\n",
    "    # Конструктор класса, инициализирует пустой список для хранения элементов стека\n",
    "    def __init__(self):\n",
    "        self.items = []  # items будет хранить элементы стека в виде списка\n",
    "\n",
    "    # Метод push добавляет элемент на вершину стека\n",
    "    def push(self, item):  # Здесь параметр должен быть item (в единственном числе)\n",
    "        self.items.append(item)  # append() добавляет элемент в конец списка (верхушку стека)\n",
    "\n",
    "    # Метод pop удаляет и возвращает элемент с вершины стека\n",
    "    def pop(self):\n",
    "        if not self.is_empty():  # Проверяем, не пуст ли стек\n",
    "            return self.items.pop()  # pop() удаляет последний элемент списка (LIFO)\n",
    "        # Если стек пуст, вызываем ошибку \n",
    "        raise IndexError(\"stack empty\")\n",
    "\n",
    "    # Метод peek возвращает элемент с вершины стека без удаления\n",
    "    def peek(self):\n",
    "        if not self.is_empty():  # Проверяем, не пуст ли стек\n",
    "            return self.items[-1]  # Возвращаем последний элемент списка\n",
    "        raise IndexError(\"stack empty\")\n",
    "\n",
    "    # Метод is_empty проверяет, пуст ли стек\n",
    "    def is_empty(self):\n",
    "        return len(self.items) == 0  # True, если длина списка равна 0\n",
    "\n",
    "\n",
    "# Пример использования класса Stack\n",
    "stack = Stack()  # Создаем экземпляр стека\n",
    "stack.push(10)   # Добавляем 10 в стек -> [10]\n",
    "stack.push(30)   # Добавляем 30 в стек -> [10, 30]\n",
    "stack.pop()      # Удаляем 30 из стека -> [10]\n",
    "print(stack.peek())  # Смотрим верхний элемент стека (10) и выводим его \n",
    "    "
   ]
  },
  {
   "cell_type": "code",
   "execution_count": null,
   "metadata": {},
   "outputs": [
    {
     "name": "stdout",
     "output_type": "stream",
     "text": [
      "[4, 2, 5, 1, 3]\n"
     ]
    }
   ],
   "source": [
    "# 13. Реализовать обход бинарного дерева в порядке \"in-order\" (левый узел → корень → правый узел).\n",
    "# Ожидаемый результат: [4, 2, 5, 1, 3].\n",
    "# Пример создания бинарного дерева:\n",
    "#       1\n",
    "#     /   \\\n",
    "#    2     3\n",
    "#   / \\\n",
    "#  4   5\n",
    "\n",
    "# Класс TreeNode представляет узел бинарного дерева\n",
    "class TreeNode:\n",
    "    # Конструктор класса. Инициализирует узел с заданным значением и ссылками на левого/правого потомков\n",
    "    def __init__(self, val=0, left=None, right=None):\n",
    "        self.val = val       # Значение узла (по умолчанию 0)\n",
    "        self.left = left     # Левый потомок (по умолчанию None)\n",
    "        self.right = right   # Правый потомок (по умолчанию None)\n",
    "\n",
    "# Функция для обхода дерева в глубину (Depth-First Search) в in-order порядке\n",
    "def dfs_in_order(root):\n",
    "    result = []  # Список для сохранения результатов обхода\n",
    "    \n",
    "    # Вложенная рекурсивная функция для обхода дерева\n",
    "    def traverse(node):\n",
    "        if node:  # Проверяем существование узла (базовый случай рекурсии)\n",
    "            traverse(node.left)        # Рекурсивно обходим левое поддерево\n",
    "            result.append(node.val)    # Добавляем значение текущего узла в результат\n",
    "            traverse(node.right)      # Рекурсивно обходим правое поддерево\n",
    "    \n",
    "    traverse(root)  # Запускаем обход с корневого узла\n",
    "    return result   # Возвращаем итоговый список значений\n",
    "\n",
    "\n",
    "\n",
    "\n",
    "root = TreeNode(1)  # Корневой узел со значением 1\n",
    "root.left = TreeNode(2, TreeNode(4), TreeNode(5))  # Левый потомок 2 с потомками 4 и 5\n",
    "root.right = TreeNode(3)  # Правый потомок 3\n",
    "\n",
    "# Вызов функции in-order обхода. Порядок будет: ЛЕВОЕ поддерево -> УЗЕЛ -> ПРАВОЕ поддерево\n",
    "print(dfs_in_order(root))  # Вывод: [4, 2, 5, 1, 3] \n",
    "    \n"
   ]
  },
  {
   "cell_type": "code",
   "execution_count": null,
   "metadata": {},
   "outputs": [],
   "source": [
    "# 14. Сохранить словарь в JSON-файл и загрузить его обратно.\n",
    "# Словарь data = {\"name\": \"Alice\", \"age\": 30, \"city\": \"Moscow\"}\n",
    "import json\n",
    "data = {\"name\": \"Alice\", \"age\": 30, \"city\": \"Moscow\"}\n"
   ]
  },
  {
   "cell_type": "code",
   "execution_count": null,
   "metadata": {},
   "outputs": [],
   "source": []
  }
 ],
 "metadata": {
  "kernelspec": {
   "display_name": "Python 3",
   "language": "python",
   "name": "python3"
  },
  "language_info": {
   "codemirror_mode": {
    "name": "ipython",
    "version": 3
   },
   "file_extension": ".py",
   "mimetype": "text/x-python",
   "name": "python",
   "nbconvert_exporter": "python",
   "pygments_lexer": "ipython3",
   "version": "3.10.11"
  }
 },
 "nbformat": 4,
 "nbformat_minor": 2
}
