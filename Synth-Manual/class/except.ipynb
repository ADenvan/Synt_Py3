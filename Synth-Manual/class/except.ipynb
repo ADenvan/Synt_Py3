{
 "cells": [
  {
   "cell_type": "code",
   "execution_count": null,
   "metadata": {},
   "outputs": [],
   "source": [
    "# /--except "
   ]
  },
  {
   "cell_type": "code",
   "execution_count": null,
   "metadata": {},
   "outputs": [],
   "source": [
    "# Из строки в число.\n",
    "input_str = \"50 123 7 str to int -13 end floot\"\n",
    "\n",
    "def str_to_int(inp_str):\n",
    "  split_list = inp_str.split()\n",
    "  res = []\n",
    "  for item in split_list:\n",
    "    try:\n",
    "      num = float(item)\n",
    "      res.append(int(num) if num.is_integer() else num)\n",
    "    except ValueError:\n",
    "      res.append(item)\n",
    "  return res"
   ]
  },
  {
   "cell_type": "code",
   "execution_count": null,
   "metadata": {},
   "outputs": [],
   "source": [
    "# 15. Написать функцию, которая обрабатывает деление на ноль и неверный тип данных.\n",
    "def safe_divide(a, b):  \n",
    "    try:  \n",
    "        return float(a) / float(b)  \n",
    "    except ZeroDivisionError:  \n",
    "        return \"Деление на ноль невозможно\"  \n",
    "    except (ValueError, TypeError):  \n",
    "        return \"Некорректный тип данных\"  \n",
    "\n",
    "print(safe_divide(10, 2))    # 5.0  \n",
    "print(safe_divide(5, 0))     # Деление на ноль невозможно  \n",
    "print(safe_divide(\"10\", 2))  # 5.0  \n",
    "print(safe_divide(\"abc\", 2)) # Некорректный тип данных  "
   ]
  },
  {
   "cell_type": "code",
   "execution_count": 4,
   "metadata": {},
   "outputs": [
    {
     "name": "stdout",
     "output_type": "stream",
     "text": [
      "x is 5\n"
     ]
    }
   ],
   "source": [
    "def main():\n",
    "    x = get_int()\n",
    "    print(f\"x is {x}\")\n",
    "\n",
    "def get_int():\n",
    "    while True:\n",
    "        try:\n",
    "            x = int(input(\"What s x? \"))\n",
    "        except ValueError:\n",
    "            print(\"x is not an integer\")\n",
    "        return x\n",
    "\n",
    "main()"
   ]
  }
 ],
 "metadata": {
  "kernelspec": {
   "display_name": "Python 3",
   "language": "python",
   "name": "python3"
  },
  "language_info": {
   "codemirror_mode": {
    "name": "ipython",
    "version": 3
   },
   "file_extension": ".py",
   "mimetype": "text/x-python",
   "name": "python",
   "nbconvert_exporter": "python",
   "pygments_lexer": "ipython3",
   "version": "3.10.11"
  }
 },
 "nbformat": 4,
 "nbformat_minor": 2
}
