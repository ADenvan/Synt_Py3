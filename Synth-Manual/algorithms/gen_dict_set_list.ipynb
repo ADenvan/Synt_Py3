{
 "cells": [
  {
   "cell_type": "code",
   "execution_count": null,
   "metadata": {},
   "outputs": [
    {
     "name": "stdout",
     "output_type": "stream",
     "text": [
      "['0*0 = 0', '0*1 = 0', '0*2 = 0', '0*3 = 0', '1*0 = 0', '1*1 = 1', '1*2 = 2', '1*3 = 3', '2*0 = 0', '2*1 = 2', '2*2 = 4', '2*3 = 6']\n"
     ]
    }
   ],
   "source": [
    "# /--generator/--Генераторы-Вложиные-(List comprehension)\n",
    "\n",
    "# <Сповоб формирования значения>\n",
    "#   for <Счетчик> in <Итеррируемый объект>\n",
    "#   if <Условия>\n",
    "a28 = [f\"{i}*{j} = {i*j}\"\n",
    "       for i in range(3)\n",
    "       for j in range(4)]\n",
    "print(a28)\n"
   ]
  },
  {
   "cell_type": "code",
   "execution_count": 1,
   "metadata": {},
   "outputs": [
    {
     "name": "stdout",
     "output_type": "stream",
     "text": [
      "1\n",
      "2\n",
      "3\n",
      "<generator object count_up_to at 0x000002769C922110>\n"
     ]
    }
   ],
   "source": [
    "# генерация последовательности чисел\n",
    "def count_up_to(n):\n",
    "    count = 1\n",
    "    while count <= n:\n",
    "        yield count  # Возвращает значение, но сохраняет текущее состояние\n",
    "        count += 1\n",
    "\n",
    "gen = count_up_to(5)\n",
    "\n",
    "print(next(gen))  # 1\n",
    "print(next(gen))  # 2\n",
    "print(next(gen))  # 3\n",
    "print(gen)  # 3"
   ]
  },
  {
   "cell_type": "code",
   "execution_count": 21,
   "metadata": {},
   "outputs": [
    {
     "name": "stdout",
     "output_type": "stream",
     "text": [
      "[0, 1, 2, 3, 10, 11, 12, 13, 20, 21, 22, 23]\n"
     ]
    }
   ],
   "source": [
    "matrix28 = [[0, 1, 2, 3], [10, 11, 12, 13], [20, 21, 22, 23]]\n",
    "\n",
    "# Перебор. Используем ПЕРЕМЕННЫЙЕ что быле объявлены ранее.\n",
    "b28 = [i for row in matrix28 for i in row]\n",
    "print(b28)"
   ]
  },
  {
   "cell_type": "code",
   "execution_count": 20,
   "metadata": {},
   "outputs": [
    {
     "name": "stdout",
     "output_type": "stream",
     "text": [
      "[[0, 1], [0, 1], [0, 1]]\n"
     ]
    }
   ],
   "source": [
    "M28, N28 = 2, 3\n",
    "\n",
    "# Вложеный генератор списка.\n",
    "mat28 = [[i for i in range(M28)] for j in range(N28)]\n",
    "print(mat28)"
   ]
  },
  {
   "cell_type": "code",
   "execution_count": 1,
   "metadata": {},
   "outputs": [
    {
     "name": "stdout",
     "output_type": "stream",
     "text": [
      "[[1, 4, 9], [16, 25, 36], [49, 64, 81]]\n",
      "[1, 4, 9, 16, 25, 36, 49, 64, 81]\n"
     ]
    }
   ],
   "source": [
    "A28 = [[1, 2, 3], [4, 5, 6], [7, 8, 9]]\n",
    "\n",
    "# Вложиные генерат-спсков. Многомерный список на выходе.\n",
    "AA28 = [[x ** 2 for x in row] for row in A28]\n",
    "print(AA28)\n",
    "\n",
    "# Однострочный.\n",
    "AAA28 = [x ** 2 for row in A28 for x in row]\n",
    "print(AAA28)"
   ]
  },
  {
   "cell_type": "code",
   "execution_count": 12,
   "metadata": {},
   "outputs": [
    {
     "name": "stdout",
     "output_type": "stream",
     "text": [
      "[[1, 5, 9], [2, 6, 10], [3, 7, 11], [4, 8, 12]]\n"
     ]
    }
   ],
   "source": [
    "A28 = [[1, 2, 3, 4], [5, 6, 7, 8], [9, 10, 11, 12]]\n",
    "\n",
    "# Траснспонированые матрицы.\n",
    "T28 = [[row[i] for row in A28] for i in range(len(A28[0]))]\n",
    "print(T28)"
   ]
  },
  {
   "cell_type": "code",
   "execution_count": 5,
   "metadata": {},
   "outputs": [
    {
     "name": "stdout",
     "output_type": "stream",
     "text": [
      "[1, 4, 9, 16, 25]\n",
      "<class 'list'>\n"
     ]
    }
   ],
   "source": [
    "# Генерат. В качестве итератора\n",
    "# Один вложен в другой. g(u(x+1)) = (x+1) ^ 2\n",
    "G28 = [u ** 2 for u in [x + 1 for x in range(5)]]\n",
    "print(G28)"
   ]
  },
  {
   "cell_type": "code",
   "execution_count": null,
   "metadata": {},
   "outputs": [],
   "source": [
    "# ТЕГ---Генераторы-Списков\n",
    "# (List comprehension)\n",
    "\n",
    "# ПРИМЕР Генератора.\n",
    "# a27 = [0] * N27\n",
    "# for i in range(N27):\n",
    "#     a27[i] = i ** 2\n",
    "\n",
    "# Генератор.\n",
    "# [<Список формирования> for <переменная> in <итерируемый объект>]\n",
    "N27 = 6\n",
    "a27 = [i ** 2 for i in range(N27)]  # [0, 1, 4, 9, 16, 25]\n",
    "# Остаток от деления.\n",
    "b27 = [x % 4 for x in range(N27)]  # [0, 1, 2, 3, 0, 1]\n",
    "b27\n",
    "# Четные не четные.\n",
    "b27 = [x % 4 == 0 for x in range(N27)]  # [True, False, False, False, True, False]\n",
    "b27 = [0.5 * x + 1 for x in range(N27)]  # [1.0, 1.5, 2.0, 2.5, 3.0, 3.5]\n",
    "\n",
    "# Список состаящий из чисел.\n",
    "d_inp = \"1 2 3 4\"  # d_inp =  input(\"Целые числа через пробел: \")\n",
    "aNum27 = [int(i) for i in d_inp.split()]  # [1, 2, 3, 4]\n",
    "\n",
    "\n",
    "aStr27 = [i for i in \"Python\"]\n",
    "t27 = [\"Я\", \"б\", \"Python\", \"выуил\", \"если\", \"хватит\", \"сил\", \"терпения\", \"все\", \"запоимнить\"]\n",
    "# Длинна каждой строки.\n",
    "bStr27 = [len(i) for i in t27]  # [1, 1, 6, 5, 4, 6, 3, 8, 3, 10]\n",
    "\n",
    "# С условием. Составное\n",
    "bStr27 = [i for i in range(-10, 5) if i < 0]  # [-10, -9,.... -1]\n",
    "# С четное значение и те что кратно трем.\n",
    "bStr27 = [i for i in range(-6, 7) if i % 2 == 0 and i % 3 == 0]  # [-6, 0, 6]\n",
    "# Не больше 5. Длинна символов.\n",
    "bStr27 = [i for i in t27 if len(i) < 5]  # 'Я', 'б', 'если', 'сил', 'все']\n",
    "bStr27\n",
    "\n",
    "# ternary в генераторах\n",
    "n27 = [4, 3, -5, 0, 2, 11, 122, -8, 9]\n",
    "nTern27 = [\"четное\" if i % 2 == 0 else \"НЕчетное\"\n",
    "           for i in n27\n",
    "           if i > 0 # Тольько для положительных значений.\n",
    "           ]  # ['четное', 'НЕчетное', 'четное', 'НЕчетное', 'четное', 'НЕчетное']\n",
    "print(nTern27)"
   ]
  },
  {
   "cell_type": "code",
   "execution_count": null,
   "metadata": {},
   "outputs": [],
   "source": [
    "# ТЕГ---Генераторы-Множество.\n",
    "# set -Это неупорядоченная коллекция уникальных элементов.\n",
    "\n",
    "a34 = {x ** 2 for x in range(1, 5)}  # {16, 1, 4,9}\n",
    "\n",
    "# dict -Словарь.\n",
    "a34 = {x: x ** 2 for x in range(1, 5)}  # {1: 1, 2: 4, 3: 9, 4: 16}\n",
    "\n",
    "# ---------------------------------------\n",
    "d34 = [1, -2, '1', '3', -4, 3, 4]\n",
    "\n",
    "# Тоже самое что и ЦИКЛ ГЕНЕРАТОР. НО работает быстрее.\n",
    "# set -Сортируем от строк. Через гинератор множеств.\n",
    "dd34 = {int(x) for x in d34}  # {1, -2, 3, 4, -4}\n",
    "# equls_dd34 = set()  # Тоже самое что и ГЕНЕРАТОР.\n",
    "# for x in d34:\n",
    "#     equls_dd34.add(int(x))\n",
    "\n",
    "# set -С условием. Только положительные числа.\n",
    "ad34 = {int(x) for x in d34 if int(x) > 0}  # {1, 3, 4}\n",
    "\n",
    "\n",
    "# ---------------------------------------\n",
    "# dict -Ключи заглавным : значения цифры.\n",
    "M34 = {\"все\": 2, \"ключи\": 3, \"будут\": 3, \"заглавными\": '4', \"тут\": '5'}\n",
    "A34 = {key.upper(): int(value) for key, value in M34.items}  # {'все': 2, 'ключи': 3, 'будут': 3, 'заглавными': '4', 'тут': '5'}\n",
    "print(type(M34), f\"{M34}\")\n",
    "\n",
    "# dict -Меняем местами КЛЮЧИ и ЗНАЧЕНИЕ + УСЛОВИЕ.\n",
    "AM34 = {int(value): key for key, value in M34.items() if 2 <= int(value) <= 5}  # 2: 'все', 3: 'будут', 4: 'заглавными', 5: 'тут'}\n",
    "AM34"
   ]
  }
 ],
 "metadata": {
  "kernelspec": {
   "display_name": "Python 3",
   "language": "python",
   "name": "python3"
  },
  "language_info": {
   "codemirror_mode": {
    "name": "ipython",
    "version": 3
   },
   "file_extension": ".py",
   "mimetype": "text/x-python",
   "name": "python",
   "nbconvert_exporter": "python",
   "pygments_lexer": "ipython3",
   "version": "3.10.11"
  }
 },
 "nbformat": 4,
 "nbformat_minor": 2
}
