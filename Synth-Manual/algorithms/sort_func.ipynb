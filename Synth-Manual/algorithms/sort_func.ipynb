{
 "cells": [
  {
   "cell_type": "code",
   "execution_count": null,
   "metadata": {},
   "outputs": [
    {
     "name": "stdout",
     "output_type": "stream",
     "text": [
      "[(1, 'c'), (2, 'b'), (3, 'a')]\n"
     ]
    },
    {
     "data": {
      "text/plain": [
       "[(3, 'a'), (2, 'b'), (1, 'c')]"
      ]
     },
     "execution_count": 32,
     "metadata": {},
     "output_type": "execute_result"
    }
   ],
   "source": [
    "# /--sort/itemgetter\n",
    "# (0) -Сортировка по индексу\n",
    "# (1) -Сортировка по ЗНАЧЕНИЮ\n",
    "\n",
    "from operator import itemgetter\n",
    "data = [(1, \"c\"), (3, \"a\"), (2, \"b\")]\n",
    "\n",
    "def sort_item_get(data):\n",
    "  result = sorted(data, key = itemgetter(0))\n",
    "  return result\n",
    "print(sort_item_get(data))\n",
    "\n",
    "sort_data = sorted(data, key = itemgetter(1))\n",
    "sort_data"
   ]
  },
  {
   "cell_type": "code",
   "execution_count": null,
   "metadata": {},
   "outputs": [
    {
     "data": {
      "text/plain": [
       "[[3, 1], [5, 2], [4, 6]]"
      ]
     },
     "execution_count": 45,
     "metadata": {},
     "output_type": "execute_result"
    }
   ],
   "source": [
    "# lambda -Сортировка-кортеж-словарь-список\n",
    "# 0-По-индексу 1-По-значению\n",
    "# data = [(1, \"c\"), (3, \"a\"), (2, \"b\"), {\"key\": \"value\"}]\n",
    "data = [[5,2],[3,1],[4,6]]\n",
    "sort_lambda = sorted(data, key = lambda x: x[1])\n",
    "sort_lambda"
   ]
  },
  {
   "cell_type": "code",
   "execution_count": null,
   "metadata": {},
   "outputs": [],
   "source": [
    "# anagrams -Найти все группы анаграмм (слов, составленных из одних и тех же букв) в списке.\n",
    "def find_anagrams(words):  \n",
    "    anagrams = {}  \n",
    "    for word in words:  \n",
    "        sorted_word = ''.join(sorted(word.lower()))  \n",
    "        if sorted_word not in anagrams:  \n",
    "            anagrams[sorted_word] = []  \n",
    "        anagrams[sorted_word].append(word)  \n",
    "    return list(anagrams.values())  \n",
    "\n",
    "print(find_anagrams([\"listen\", \"silent\", \"enlist\", \"hello\", \"world\", \"dlrow\"]))  "
   ]
  },
  {
   "cell_type": "code",
   "execution_count": null,
   "metadata": {},
   "outputs": [
    {
     "name": "stdout",
     "output_type": "stream",
     "text": [
      "['a', 'b', 'c']\n"
     ]
    },
    {
     "data": {
      "text/plain": [
       "['a', 'b', 'c']"
      ]
     },
     "execution_count": 1,
     "metadata": {},
     "output_type": "execute_result"
    }
   ],
   "source": [
    "# not in -Убираем дубликаты. Сохраняя порядок.\n",
    "my_list = [\"a\", \"b\", \"c\", \"a\", \"b\"]\n",
    "new_list = []\n",
    "for el in my_list:\n",
    "    if el not in new_list:\n",
    "        new_list.append(el)\n",
    "print(new_list)\n",
    "\n",
    "# list + dict -Тоже самое что и выше. \n",
    "lst = list(dict.fromkeys(my_list).keys())"
   ]
  },
  {
   "cell_type": "code",
   "execution_count": null,
   "metadata": {},
   "outputs": [],
   "source": [
    "# Убрать ненужные символы из строки.\n",
    "str_num = [\"string,int-list,subol`\"]\n",
    "\n",
    "for i,j in enumerate(str_num):\n",
    "    rep = [\",\", \" \", \"-\", \"`\"]\n",
    "    for item in rep:\n",
    "        if item in j:\n",
    "            j = j.replace(item, \"_\")\n",
    "        print(j)"
   ]
  },
  {
   "cell_type": "code",
   "execution_count": 4,
   "metadata": {},
   "outputs": [
    {
     "data": {
      "text/plain": [
       "[4, 5, 6, 7, 8]"
      ]
     },
     "execution_count": 4,
     "metadata": {},
     "output_type": "execute_result"
    }
   ],
   "source": [
    "# quick_sotr -Быстрая сортировка.\n",
    "s = (4, 5, 6, 7, 8)\n",
    "\n",
    "def quick_sotr(s):\n",
    "    if len(s) <= 1:\n",
    "        return s\n",
    "    elem = s[0]\n",
    "    left = list(filter(lambda x: x < elem, s))\n",
    "    center = [i for i in s if i == elem]\n",
    "    right = list(filter(lambda x: x > elem, s))\n",
    "\n",
    "    return quick_sotr(left) + center + quick_sotr(right)\n",
    "quick_sotr(s)"
   ]
  },
  {
   "cell_type": "code",
   "execution_count": 3,
   "metadata": {},
   "outputs": [
    {
     "name": "stdout",
     "output_type": "stream",
     "text": [
      "[1, 1, 2, 2, 3, 3, 4, 5, 6, 7, 8, 9, 10]\n"
     ]
    }
   ],
   "source": [
    "matematycs_Sort_3 = [2, 10, 8, 5, 1, 6, 9, 7, 3, 4, 2, 1, 3,]\n",
    "def insert_sort(A):\n",
    "    N = len(A)\n",
    "    for top in range(1, N):  # От 1 индекса.\n",
    "        k = top  # Временая.\n",
    "        while k > 0 and A[k-1] > A[k]:\n",
    "            A[k], A[k-1] = A[k-1], A[k]  # Меняем местами.\n",
    "            k -= 1\n",
    "    return A\n",
    "print_insert = insert_sort(matematycs_Sort_3)\n",
    "print(print_insert)"
   ]
  },
  {
   "cell_type": "code",
   "execution_count": 2,
   "metadata": {},
   "outputs": [
    {
     "name": "stdout",
     "output_type": "stream",
     "text": [
      "[1, 1, 2, 2, 3, 3, 4, 5, 6, 7, 8, 9, 10]\n"
     ]
    }
   ],
   "source": [
    "matematycs_Sort_3 = [2, 10, 8, 5, 1, 6, 9, 7, 3, 4, 2, 1, 3,]\n",
    "# ---------------------------------------\n",
    "def choise_sort(A):\n",
    "    N = len(A)\n",
    "    for pos in range(0, N-1):\n",
    "        for k in range(pos + 1, N):\n",
    "            if A[k] < A[pos]:\n",
    "                A[k], A[pos] = A[pos], A[k]\n",
    "    return A\n",
    "print_choise  = choise_sort(matematycs_Sort_3)\n",
    "print(print_choise)"
   ]
  },
  {
   "cell_type": "code",
   "execution_count": 24,
   "metadata": {},
   "outputs": [
    {
     "name": "stdout",
     "output_type": "stream",
     "text": [
      "[1, 1, 2, 2, 3, 3, 4, 5, 6, 7, 8, 9, 10]\n"
     ]
    }
   ],
   "source": [
    "# ---------------------------------------\n",
    "def bubble_sort(A):\n",
    "    N = len(A)\n",
    "    for bypass in range(1, N):\n",
    "        for k in range(0, N-bypass):\n",
    "            if A[k] > A[k + 1]:\n",
    "                A[k], A[k + 1] = A[k + 1], A[k]\n",
    "            return A\n",
    "                \n",
    "print_bubble = bubble_sort(matematycs_Sort_3)\n",
    "print(print_bubble)"
   ]
  },
  {
   "cell_type": "code",
   "execution_count": null,
   "metadata": {},
   "outputs": [],
   "source": [
    "# 21. (Merge Sort) Реализовать алгоритм сортировки слиянием для списка чисел.\n",
    "def merge_sort(nums):  \n",
    "    if len(nums) <= 1:  \n",
    "        return nums  \n",
    "    mid = len(nums) // 2  \n",
    "    left = merge_sort(nums[:mid])  \n",
    "    right = merge_sort(nums[mid:])  \n",
    "    return merge(left, right)  \n",
    "\n",
    "def merge(left, right):  \n",
    "    result = []  \n",
    "    i = j = 0  \n",
    "    while i < len(left) and j < len(right):  \n",
    "        if left[i] < right[j]:  \n",
    "            result.append(left[i])  \n",
    "            i += 1  \n",
    "        else:  \n",
    "            result.append(right[j])  \n",
    "            j += 1  \n",
    "    result.extend(left[i:])\n",
    "    result.extend(right[j:])\n",
    "    return result  \n",
    "\n",
    "nums = [5, 2, 9, 1, 5, 6]  \n",
    "print(merge_sort(nums))  # Вывод: [1, 2, 5, 5, 6, 9]  "
   ]
  },
  {
   "cell_type": "code",
   "execution_count": null,
   "metadata": {},
   "outputs": [
    {
     "name": "stdout",
     "output_type": "stream",
     "text": [
      "[2, 4, 16, 42, 43, 47, 51, 54, 66, 70]\n",
      "********************\n",
      "None\n"
     ]
    }
   ],
   "source": [
    "from random import randint\n",
    "\n",
    "# Сортировка пузырьком.\n",
    "N = 10\n",
    "\n",
    "a = [] # Набор случайных чисел.\n",
    "for i in range(N):\n",
    "    a.append(randint(1, 99))\n",
    "    \n",
    "# ---------------------------------------\n",
    "# for bubble sort\n",
    "for i in range(N-1):\n",
    "    for j in range(N -i -1):\n",
    "        if a[j] > a[j+1]:\n",
    "            a[j], a[j+1] = a[j+1], a[j]\n",
    "            # print(a)\n",
    "\n",
    "# ---------------------------------------\n",
    "# While bubble sort\n",
    "i = 0\n",
    "while i < N - 1:\n",
    "    j = 0\n",
    "    while j < N - 1 - i:\n",
    "        if a[j] > a[j+1]:\n",
    "            a[j], a[j+1] = a[j+1], a[j]\n",
    "        j += 1\n",
    "    i += 1\n",
    "print(a)\n",
    "\n",
    "# ---------------------------------------\n",
    "# Array bubble sort.\n",
    "def bubble(array):\n",
    "    for i in range(N,-1):\n",
    "        for j in range(N, -i, -1):\n",
    "            if array[j] > array[j+1]:\n",
    "                buff = array[j]\n",
    "                array[j] = array[j+1]\n",
    "                array[j+1] = buff\n",
    "\n",
    "\n",
    "print(20 * \"*\")\n",
    "\n",
    "# print(a)\n",
    "print(bubble(a))\n",
    "# print(a)"
   ]
  },
  {
   "cell_type": "code",
   "execution_count": 4,
   "metadata": {},
   "outputs": [
    {
     "name": "stdout",
     "output_type": "stream",
     "text": [
      "Yarry,Grif\n",
      "Ron,slytherin\n",
      "Hermiona,Grif\n"
     ]
    }
   ],
   "source": [
    "# list + dict / Масс + словарь\n",
    "students =[\n",
    "    {\"name\": \"Yarry\", \"house\": \"Grif\"},\n",
    "    {\"name\": \"Ron\", \"house\": \"slytherin\"},\n",
    "    {\"name\": \"Hermiona\", \"house\": \"Grif\"},\n",
    "]\n",
    "for student in students:\n",
    "    print(student[\"name\"], student[\"house\"], sep=\",\")"
   ]
  },
  {
   "cell_type": "code",
   "execution_count": null,
   "metadata": {},
   "outputs": [
    {
     "name": "stdout",
     "output_type": "stream",
     "text": [
      "string_int-list_subol`\n",
      "string_int-list_subol`\n",
      "string_int_list_subol`\n",
      "string_int_list_subol_\n"
     ]
    }
   ],
   "source": []
  }
 ],
 "metadata": {
  "kernelspec": {
   "display_name": "Python 3",
   "language": "python",
   "name": "python3"
  },
  "language_info": {
   "codemirror_mode": {
    "name": "ipython",
    "version": 3
   },
   "file_extension": ".py",
   "mimetype": "text/x-python",
   "name": "python",
   "nbconvert_exporter": "python",
   "pygments_lexer": "ipython3",
   "version": "3.10.11"
  }
 },
 "nbformat": 4,
 "nbformat_minor": 2
}
