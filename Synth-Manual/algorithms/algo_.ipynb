{
 "cells": [
  {
   "cell_type": "code",
   "execution_count": null,
   "metadata": {},
   "outputs": [],
   "source": [
    "# /--algo/--\n",
    "# Алгоритм — это последовательность шагов, выполняемых для решения конкретной задачи. В программировании алгоритм может быть реализован в виде функции, цикла или рекурсивного вызова."
   ]
  },
  {
   "cell_type": "code",
   "execution_count": null,
   "metadata": {},
   "outputs": [],
   "source": [
    "# Поиск простых чисел. Найти все простые числа до заданного числа n.\n",
    "n = 100\n",
    "def simp_num(n):\n",
    "  arr = []\n",
    "  k = 0\n",
    "  for i in range(2, n+1):\n",
    "    for j in range(2, i):\n",
    "      if i %  j== 0:\n",
    "        k = k + 1\n",
    "    if k == 0:\n",
    "      arr.append(i)\n",
    "    else:\n",
    "      k = 0\n",
    "  return arr\n",
    "simp_num(n)"
   ]
  },
  {
   "cell_type": "code",
   "execution_count": null,
   "metadata": {},
   "outputs": [],
   "source": [
    "# поиск максимального элемента в списке\n",
    "def find_max(lst):\n",
    "    max_value = lst[0]\n",
    "    for num in lst:\n",
    "        if num > max_value:\n",
    "            max_value = num\n",
    "    return max_value\n",
    "\n",
    "numbers = [1, 5, 3, 9, 2]\n",
    "print(find_max(numbers))  # Вывод: 9\n"
   ]
  },
  {
   "cell_type": "code",
   "execution_count": null,
   "metadata": {},
   "outputs": [],
   "source": [
    "# Алгоритм Евклида для нахождения НОД. Для нахождения наибольшего делителя.\n",
    "import time\n",
    "\n",
    "# ---------------------------------------\n",
    "def get_fast_nod(a, b):\n",
    "    if a < b:\n",
    "        a, b = b, a\n",
    "    while b:\n",
    "        a, b = b, a % b\n",
    "    return a\n",
    "# ---------------------------------------\n",
    "def get_nod(a, b):\n",
    "    while a != b:\n",
    "        if a > b:\n",
    "            a -= b\n",
    "        else:\n",
    "            b -= a\n",
    "    return a\n",
    "\n",
    "\n",
    "def test_nod(func):\n",
    "    a = 2\n",
    "    b = 100000000\n",
    "\n",
    "    sT = time.time()\n",
    "    res = func(a, b)\n",
    "    eT = time.time()\n",
    "    #\n",
    "    dT = eT - sT\n",
    "    if res == 2 and dT < 1:\n",
    "        print(\"# test - ok\")\n",
    "    else:\n",
    "        print(\"# test - ng\")\n",
    "\n",
    "\n",
    "test_nod(get_nod)\n",
    "A37 = get_nod(18, 24)\n",
    "print(A37)\n",
    "\n",
    "test_nod(get_fast_nod)\n",
    "A37 = get_fast_nod(18, 24)\n",
    "print(A37)"
   ]
  },
  {
   "cell_type": "code",
   "execution_count": null,
   "metadata": {},
   "outputs": [],
   "source": [
    "# Треугольник паскаля.\n",
    "N26 = 7\n",
    "P26 = []\n",
    "\n",
    "for i in range(N26):\n",
    "    row = [1] * (i + 1)\n",
    "    for j in range(i + 1):\n",
    "        if j != 0 and j != i:\n",
    "            row[j] = P26[i-1][j-1] + P26[i-1][j]\n",
    "    P26.append(row)\n",
    "print(P26)\n",
    "\n",
    "for i in P26:\n",
    "    print(i)\n",
    "\n",
    "# -------------------------------------------------------------"
   ]
  },
  {
   "cell_type": "code",
   "execution_count": null,
   "metadata": {},
   "outputs": [],
   "source": [
    "# Строки заменить на столбцы. Траспонирование матрицы.\n",
    "A25 = [[1, 2, 3, 4], [5, 6, 7, 8], [9, 10, 11, 12], [13, 14, 15, 16]]\n",
    "for i in range(len(A25)):\n",
    "    for j in range(i + 1, len(A25)):\n",
    "        A25[i][j], A25[j][i] = A25[j][i], A25[i][j]\n",
    "print(A25, \"\\n\")\n",
    "for i in A25:\n",
    "    for j in i:\n",
    "        print(j, end='\\t')\n",
    "    print()\n",
    "\n",
    "# -------------------------------------------------------------"
   ]
  },
  {
   "cell_type": "code",
   "execution_count": null,
   "metadata": {},
   "outputs": [],
   "source": [
    "# Латиница\n",
    "t23 = ['a', 'b', 'v', 'g', 'd', 'e', 'zh', 'z', 'i', 'y', 'k', 'l', 'm', 'n', 'o', 'p', 'r', 's', 't', 'u', 'f', 'h', 'c', 'ch', 'sh', 'shch', '', 'y', '', 'e', 'yu', 'ya']\n",
    "start_index = ord('а')\n",
    "title = \"Програмирование на Python - лучшей курс\"\n",
    "slug23 = ''\n",
    "\n",
    "for i in title.lower():\n",
    "    if 'а' <= i <= 'я':\n",
    "        slug23 += t23[ord(i) - start_index]\n",
    "    elif i == 'ё':\n",
    "        slug23 += 'yo'\n",
    "    elif i in \" !?;:.,\":\n",
    "        slug23 += '-'\n",
    "    else:\n",
    "        slug23 += i\n",
    "\n",
    "while slug23.count('--'):\n",
    "    slug23 = slug23.replace('--', '-')\n",
    "\n",
    "# -------------------------------------------------------------"
   ]
  },
  {
   "cell_type": "code",
   "execution_count": null,
   "metadata": {},
   "outputs": [],
   "source": [
    "# -------------------------------------------------------------\n",
    "# Вычесление факториала с клавиатуры.\n",
    "n23 = int(input(\"Введите натуральное число не больше 100\"))\n",
    "n23 = int(5)\n",
    "if n23 < 1 or n23 > 100:\n",
    "    print(\"Неверно введено натуральное число\")\n",
    "else:\n",
    "    p23 = 1\n",
    "    for i in range(1, n23 + 1):\n",
    "        p23 *= i\n",
    "    print(f\"Факториал {n23}! = {p23}\")\n",
    "\n",
    "\n",
    "# -------------------------------------------------------------"
   ]
  }
 ],
 "metadata": {
  "kernelspec": {
   "display_name": "Python 3",
   "language": "python",
   "name": "python3"
  },
  "language_info": {
   "codemirror_mode": {
    "name": "ipython",
    "version": 3
   },
   "file_extension": ".py",
   "mimetype": "text/x-python",
   "name": "python",
   "nbconvert_exporter": "python",
   "pygments_lexer": "ipython3",
   "version": "3.10.11"
  }
 },
 "nbformat": 4,
 "nbformat_minor": 2
}
