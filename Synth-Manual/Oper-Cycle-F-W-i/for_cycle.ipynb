{
 "cells": [
  {
   "cell_type": "code",
   "execution_count": null,
   "metadata": {},
   "outputs": [
    {
     "name": "stdout",
     "output_type": "stream",
     "text": [
      "range(0, 5) [0, 1, 2, 3, 4]\n",
      "[-10, -12, -14, -16, -18] => atart, stop, step\n",
      "[5, 4, 3, 2, 1, 0] 5 to 0\n"
     ]
    }
   ],
   "source": [
    "# -------------------------------------------------------------\n",
    "# /--for-range\n",
    "\n",
    "d22 = [1, 2, 3, 4, 5]\n",
    "# <оператор> for <счетчик> in <итерируемый объект>.\n",
    "# for x in d22:\n",
    "#     print(x)\n",
    "    \n",
    "# range -Генерирует арихметическую последовательность.\n",
    "# renge(start, stop, step)\n",
    "print(range(5), list(range(5)), )  # renge(stop)\n",
    "\n",
    "# Последовательность в обратном порядке. Шак через 2 итак до 20.\n",
    "print(list(range(-10, -20, -2)), \"=> atart, stop, step\")\n",
    "print(list(range(5, -1, -1)), \"5 to 0\")  # От 5 до 0."
   ]
  },
  {
   "cell_type": "code",
   "execution_count": null,
   "metadata": {},
   "outputs": [],
   "source": [
    "# Перебор индексов. Списков любой длинны.\n",
    "for i in range(len(d22)):\n",
    "    d22[i] += 0"
   ]
  },
  {
   "cell_type": "code",
   "execution_count": null,
   "metadata": {},
   "outputs": [],
   "source": [
    "# Перебор += присвоить\n",
    "s22 = 0\n",
    "for i in range(2, 10):\n",
    "    s22 += 1/i  # 6.485470860550342\n",
    "    print(s22)"
   ]
  },
  {
   "cell_type": "code",
   "execution_count": null,
   "metadata": {},
   "outputs": [],
   "source": [
    "# Перебор. *, **, ***\n",
    "for i in range(1, 4):\n",
    "    print('*' * i)  # На каждую итерацию.\n"
   ]
  },
  {
   "cell_type": "code",
   "execution_count": null,
   "metadata": {},
   "outputs": [],
   "source": [
    "# распаковка кортежа. tuple in for\n",
    "my_corteg = [(1,2), (3, 4), (5, 6)]\n",
    "for (a,b) in my_corteg:\n",
    "  print(a, b, a + b, a * b, (a * a / b * b))"
   ]
  },
  {
   "cell_type": "code",
   "execution_count": null,
   "metadata": {},
   "outputs": [],
   "source": [
    "# /--for-items -распаковка словарь. dict in for\n",
    "my_dict = {'k1': 1, 'k2': 2, 'k3': 3}\n",
    "for key, value in my_dict.items():\n",
    "  print(key, value)\n",
    "# values -Только значение\n",
    "for value in my_dict.values():\n",
    "  print(value)"
   ]
  },
  {
   "cell_type": "code",
   "execution_count": null,
   "metadata": {},
   "outputs": [],
   "source": [
    "# Соединим строки и проставим пробел.\n",
    "words23 = [\"    Python\", \"     дай\", \"мне\", \"сил\", \"пройти\", \"этот\", \"курс\"]\n",
    "s23 = ''\n",
    "for w in words23:\n",
    "    s23 += ' ' + w.lstrip()\n",
    "print(s23.lstrip())  # lstrip -Убераем пробел в начале."
   ]
  },
  {
   "cell_type": "code",
   "execution_count": null,
   "metadata": {},
   "outputs": [],
   "source": [
    "# Заменить Двухзначнные числа 0.\n",
    "digs23 = [4, 3, 100, -53, -30, 1, 34, -8]\n",
    "\n",
    "for i in range(len(digs23)):\n",
    "    if 10 <= abs(digs23[i]) <= 99:\n",
    "        digs23[i] = 0  # Оброщение к элементу по индексу для изменения.\n",
    "print(digs23)"
   ]
  },
  {
   "cell_type": "code",
   "execution_count": null,
   "metadata": {},
   "outputs": [
    {
     "name": "stdout",
     "output_type": "stream",
     "text": [
      "[4, 3, 100, 0, 0, 1, 0, -8]\n"
     ]
    }
   ],
   "source": [
    "# /--for/enumerate\n",
    "# enumerate(Объект) = Индекс и значение\n",
    "# idx -индекс,\n",
    "# value -значение = enumerate(объект)\n",
    "digs23 = [4, 3, 100, -53, -30, 1, 34, -8]\n",
    "# Заменить Двухзначнные числа 0.\n",
    "for idx, value in enumerate(digs23):\n",
    "    if 10 <= abs(value) <= 99:\n",
    "        digs23[idx] = 0\n",
    "print(digs23)\n"
   ]
  },
  {
   "cell_type": "code",
   "execution_count": null,
   "metadata": {},
   "outputs": [],
   "source": [
    "# Убрать ненужные символы. Перебор Строки. \n",
    "str_num = [\"string,int-list,subol`\"]\n",
    "\n",
    "for i,j in enumerate(str_num):\n",
    "    rep = [\",\", \" \", \"-\", \"`\"]\n",
    "    for item in rep:\n",
    "        if item in j:\n",
    "            j = j.replace(item, \"_\")\n",
    "        print(j)"
   ]
  },
  {
   "cell_type": "code",
   "execution_count": null,
   "metadata": {},
   "outputs": [
    {
     "name": "stdout",
     "output_type": "stream",
     "text": [
      "['Задача вложенных циклов Убираем', 'линии пробелы с помощю for end while .']\n"
     ]
    }
   ],
   "source": [
    "# Здача. Вложенных while циклов.\n",
    "t25 = [\"Задача вложенных циклов   Убираем\", \"линии пробелы    с помощю for end while   .\"]\n",
    "# line  -Ссылка на строку.\n",
    "# i     -Индексом строки.\n",
    "for i, line in enumerate(t25):\n",
    "    while line.count('  '):   # Будит иска 2 пробела.\n",
    "        line = line.replace('  ', ' ')\n",
    "    t25[i] = line\n",
    "print(t25)"
   ]
  },
  {
   "cell_type": "code",
   "execution_count": 12,
   "metadata": {},
   "outputs": [
    {
     "name": "stdout",
     "output_type": "stream",
     "text": [
      "[[2, 3, 4, 5], [4, 5, 6, 7], [6, 7, 8, 9]]\n"
     ]
    }
   ],
   "source": [
    "# Сумирование.\n",
    "a25 = [[1, 2, 3, 4], [2, 3, 4, 5], [3, 4, 5, 6]]\n",
    "b25 = [[1, 1, 1, 1], [2, 2, 2, 2], [3, 3, 3, 3]]\n",
    "c25 = []\n",
    "\n",
    "for i, row in enumerate(a25):\n",
    "    r = []  # Для Суммы вложеных списков.\n",
    "    for j, x in enumerate(row):\n",
    "        r.append(x + b25[i][j])  # Сумма соответствующих элементов.\n",
    "    c25.append(r)\n",
    "print(c25)"
   ]
  },
  {
   "cell_type": "code",
   "execution_count": null,
   "metadata": {},
   "outputs": [],
   "source": [
    "# /--for/Вложиные.\n",
    "\n",
    "# i -Вертикаль.\n",
    "for i in range(1, 2):\n",
    "\n",
    "    # j Горизонталь.\n",
    "    for j in range(1, 6):\n",
    "        print(f\"i = {i}, j = {j}\", sep=' ')"
   ]
  },
  {
   "cell_type": "code",
   "execution_count": null,
   "metadata": {},
   "outputs": [
    {
     "name": "stdout",
     "output_type": "stream",
     "text": [
      "1/2/3/4/. row end\n",
      "2/3/4/5/. row end\n",
      "3/4/5/6/. row end\n"
     ]
    }
   ],
   "source": [
    "# Матрица.\n",
    "a25 = [[1, 2, 3, 4], [2, 3, 4, 5], [3, 4, 5, 6]]\n",
    "for row in a25:\n",
    "    for i in row:\n",
    "        print(i, end='/')\n",
    "    print(\". row end\")"
   ]
  },
  {
   "cell_type": "code",
   "execution_count": null,
   "metadata": {},
   "outputs": [],
   "source": [
    "# ---------------------------------------\n",
    "def main():\n",
    "    print_squaire(3)\n",
    "\n",
    "def print_squaire(size):\n",
    "    # i Вертикаль печать.\n",
    "    for i in range(size):\n",
    "        print_row(size)\n",
    "\n",
    "def print_row(width):\n",
    "    print(\"# \" * width)\n",
    "\n",
    "main()"
   ]
  },
  {
   "cell_type": "code",
   "execution_count": null,
   "metadata": {},
   "outputs": [
    {
     "name": "stdout",
     "output_type": "stream",
     "text": [
      "[[0, 0, 0], [0, 0, 0]]\n",
      "[[1, 1, 1], [1, 1, 1]]\n"
     ]
    }
   ],
   "source": [
    "# Размерности двумерного списка.\n",
    "# M, N = list(map(int, input(\"Введите М и Н: \").split()))\n",
    "M, N = 2, 3\n",
    "zeros25 = []\n",
    "for i in range(M):\n",
    "    zeros25.append([0] * N)\n",
    "print(zeros25)\n",
    "\n",
    "for i in range(M):\n",
    "    for j in range(N):\n",
    "        zeros25[i][j] = 1\n",
    "print(zeros25)\n"
   ]
  },
  {
   "cell_type": "code",
   "execution_count": 13,
   "metadata": {},
   "outputs": [
    {
     "name": "stdout",
     "output_type": "stream",
     "text": [
      "2: Выход из цикла равен num == min_len\n",
      "5: print если нету breack\n"
     ]
    }
   ],
   "source": [
    "# for-else: если нету-break else-сработает.\n",
    "num_list = [1, 2, 3, 4, 5]\n",
    "min_len = 2\n",
    "for num in num_list:\n",
    "  if num == min_len:\n",
    "    print(f\"{num}: Выход из цикла равен num == min_len\")\n",
    "    # break\n",
    "else:\n",
    "  print(f\"{num}: print если нету breack\")"
   ]
  },
  {
   "cell_type": "code",
   "execution_count": 1,
   "metadata": {},
   "outputs": [
    {
     "name": "stdout",
     "output_type": "stream",
     "text": [
      "alex: 33\n",
      "Ted: 12\n",
      "dogi: 7\n",
      "Kara: 101\n"
     ]
    }
   ],
   "source": [
    "# zip -Соединяем два списка.\n",
    "name = [\"alex\", \"Ted\", \"dogi\", \"Kara\"]\n",
    "age = [33, 12, 7, 101]\n",
    "for i, j in zip(name, age):\n",
    "  print(f\"{i}: {j}\")"
   ]
  }
 ],
 "metadata": {
  "kernelspec": {
   "display_name": "Python 3",
   "language": "python",
   "name": "python3"
  },
  "language_info": {
   "codemirror_mode": {
    "name": "ipython",
    "version": 3
   },
   "file_extension": ".py",
   "mimetype": "text/x-python",
   "name": "python",
   "nbconvert_exporter": "python",
   "pygments_lexer": "ipython3",
   "version": "3.10.11"
  }
 },
 "nbformat": 4,
 "nbformat_minor": 2
}
