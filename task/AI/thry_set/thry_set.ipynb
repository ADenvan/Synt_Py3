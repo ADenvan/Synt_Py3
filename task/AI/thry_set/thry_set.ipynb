{
 "cells": [
  {
   "cell_type": "code",
   "execution_count": null,
   "id": "12d90991",
   "metadata": {},
   "outputs": [
    {
     "name": "stdout",
     "output_type": "stream",
     "text": [
      "dict_values([[{'id': 1.1, 'question': 'Задача 1.1 Напишите программу, которая принимает от пользователя строку с целыми числами, разделенными пробелами, и возвращает список этих чисел. Пример ввода: 5 3 7 2 5 3 Пример вывода: [5, 3, 7, 2, 5, 3]', 'teg': ['int', 'list']}, {'id': 1.2, 'question': 'Задача 2 Напишите программу, которая принимает список целых чисел (результат задачи 1) и возвращает словарь, где ключи — числа из списка, а значения — количество их вхождений. Пример ввода: [5, 3, 7, 2, 5, 3] Пример вывода: {5: 2, 3: 2, 7: 1, 2: 1', 'tag': ['list', 'dict']}, {'id': 1.3, 'question': 'Задача 3 Напишите программу, которая принимает словарь (результат задачи 2) и возвращает ключ с максимальным значением. Если таких ключей несколько, верните первый. Пример ввода: {5: 2, 3: 2, 7: 1, 2: 1 Пример вывода: 5', 'teg': ['dict', 'int']}]])\n"
     ]
    }
   ],
   "source": [
    "# /--thry_set\n",
    "from task.AI.thry_set.tack_thry_set import task_thry_set\n",
    "\n",
    "thre_set = task_thry_set\n",
    "\n",
    "print(thre_set[1].values())"
   ]
  },
  {
   "cell_type": "code",
   "execution_count": null,
   "id": "92ce6107",
   "metadata": {},
   "outputs": [],
   "source": [
    "# 1.1 Напишите программу, которая принимает от пользователя строку с целыми числами, разделенными пробелами, и возвращает список этих чисел.\n",
    "# Пример ввода: 5 3 7 2 5 3\n",
    "# Пример вывода: [5, 3, 7, 2, 5, 3]\n",
    "\n",
    "# 1.2 Напишите программу, которая принимает список целых чисел (результат задачи 1) и возвращает словарь, где ключи — числа из списка, а значения — количество их вхождений.\n",
    "# Пример ввода: [5, 3, 7, 2, 5, 3]\n",
    "# Пример вывода: {5: 2, 3: 2, 7: 1, 2: 1}\n",
    "\n",
    "# 1.3 Напишите программу, которая принимает словарь (результат задачи 1.2) и возвращает ключ с максимальным значением. Если таких ключей несколько, верните первый. \n",
    "# Пример ввода: {5: 2, 3: 2, 7: 1, 2: 1}\n",
    "# Пример вывода: 5 Найти первое мах значение и вывести ключь\n",
    "# Ввод данных\n",
    "def inp_numbers():\n",
    "  input_str = input(\"Введите числа через пробел: \")\n",
    "  numbers = list(map(int, input_str.split()))\n",
    "  print(numbers)\n",
    "  \n",
    "def count_elements(lst):\n",
    "    counts = {}\n",
    "    for num in lst:\n",
    "        counts[num] = counts.get(num, 0) + 1\n",
    "    return counts\n",
    "\n",
    "# Пример использования\n",
    "input_list = [5, 3, 7, 2, 5, 3]\n",
    "result_dict = count_elements(input_list)\n",
    "print(result_dict)\n",
    "\n",
    "# Первое мах вхождение.\n",
    "def find_max_key(dct):\n",
    "    max_value = max(dct.values())\n",
    "    for key, value in dct.items():\n",
    "        if value == max_value:\n",
    "            return key\n",
    "\n",
    "# Пример использования\n",
    "input_dict = {5: 2, 3: 2, 7: 1, 2: 1}\n",
    "result = find_max_key(input_dict)\n",
    "print(result)"
   ]
  }
 ],
 "metadata": {
  "kernelspec": {
   "display_name": "venv",
   "language": "python",
   "name": "python3"
  },
  "language_info": {
   "codemirror_mode": {
    "name": "ipython",
    "version": 3
   },
   "file_extension": ".py",
   "mimetype": "text/x-python",
   "name": "python",
   "nbconvert_exporter": "python",
   "pygments_lexer": "ipython3",
   "version": "3.12.6"
  }
 },
 "nbformat": 4,
 "nbformat_minor": 5
}
