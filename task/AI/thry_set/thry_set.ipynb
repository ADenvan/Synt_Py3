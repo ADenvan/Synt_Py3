{
 "cells": [
  {
   "cell_type": "code",
   "execution_count": null,
   "id": "12d90991",
   "metadata": {},
   "outputs": [
    {
     "name": "stdout",
     "output_type": "stream",
     "text": [
      "dict_values([[{'id': 1.1, 'question': 'Задача 1.1 Напишите программу, которая принимает от пользователя строку с целыми числами, разделенными пробелами, и возвращает список этих чисел. Пример ввода: 5 3 7 2 5 3 Пример вывода: [5, 3, 7, 2, 5, 3]', 'teg': ['int', 'list']}, {'id': 1.2, 'question': 'Задача 2 Напишите программу, которая принимает список целых чисел (результат задачи 1) и возвращает словарь, где ключи — числа из списка, а значения — количество их вхождений. Пример ввода: [5, 3, 7, 2, 5, 3] Пример вывода: {5: 2, 3: 2, 7: 1, 2: 1', 'tag': ['list', 'dict']}, {'id': 1.3, 'question': 'Задача 3 Напишите программу, которая принимает словарь (результат задачи 2) и возвращает ключ с максимальным значением. Если таких ключей несколько, верните первый. Пример ввода: {5: 2, 3: 2, 7: 1, 2: 1 Пример вывода: 5', 'teg': ['dict', 'int']}]])\n"
     ]
    }
   ],
   "source": [
    "# /--thry_set\n",
    "from task.AI.thry_set.tack_thry_set import task_thry_set\n",
    "\n",
    "thre_set = task_thry_set\n",
    "\n",
    "print(thre_set[1].values())"
   ]
  },
  {
   "cell_type": "code",
   "execution_count": 4,
   "id": "92ce6107",
   "metadata": {},
   "outputs": [
    {
     "name": "stdout",
     "output_type": "stream",
     "text": [
      "{5: 2, 3: 2, 7: 1, 2: 1}\n",
      "5\n"
     ]
    }
   ],
   "source": [
    "# 1.1 Напишите программу, которая принимает от пользователя строку с целыми числами, разделенными пробелами, и возвращает список этих чисел.\n",
    "# Пример ввода: 5 3 7 2 5 3\n",
    "# Пример вывода: [5, 3, 7, 2, 5, 3]\n",
    "\n",
    "# 1.2 Напишите программу, которая принимает список целых чисел (результат задачи 1) и возвращает словарь, где ключи — числа из списка, а значения — количество их вхождений.\n",
    "# Пример ввода: [5, 3, 7, 2, 5, 3]\n",
    "# Пример вывода: {5: 2, 3: 2, 7: 1, 2: 1}\n",
    "\n",
    "# 1.3 Напишите программу, которая принимает словарь (результат задачи 1.2) и возвращает ключ с максимальным значением. Если таких ключей несколько, верните первый. \n",
    "# Пример ввода: {5: 2, 3: 2, 7: 1, 2: 1}\n",
    "# Пример вывода: 5 Найти первое мах значение и вывести ключь\n",
    "# Ввод данных\n",
    "def inp_numbers():\n",
    "  input_str = input(\"Введите числа через пробел: \")\n",
    "  numbers = list(map(int, input_str.split()))\n",
    "  print(numbers)\n",
    "  \n",
    "def count_elements(lst):\n",
    "    counts = {}\n",
    "    for num in lst:\n",
    "        counts[num] = counts.get(num, 0) + 1\n",
    "    return counts\n",
    "\n",
    "# Пример использования\n",
    "input_list = [5, 3, 7, 2, 5, 3]\n",
    "result_dict = count_elements(input_list)\n",
    "print(result_dict)\n",
    "\n",
    "# Первое мах вхождение.\n",
    "def find_max_key(dct):\n",
    "    max_value = max(dct.values())\n",
    "    for key, value in dct.items():\n",
    "        if value == max_value:\n",
    "            return key\n",
    "\n",
    "# Пример использования\n",
    "input_dict = {5: 2, 3: 2, 7: 1, 2: 1}\n",
    "result = find_max_key(input_dict)\n",
    "print(result)"
   ]
  },
  {
   "cell_type": "code",
   "execution_count": 3,
   "id": "62d0d576",
   "metadata": {},
   "outputs": [
    {
     "name": "stdout",
     "output_type": "stream",
     "text": [
      "[50, 123, 7, 'str', 'to', 'int', 'end', 'floot']\n",
      "{50: 2, 123: 3, 7: 1, 'str': 3, 'to': 2, 'int': 3, 'end': 3, 'floot': 5} count_Lenghts\n",
      "floot\n"
     ]
    }
   ],
   "source": [
    "\n",
    "# 2.1 Напишите программу, которая принимает строку целых чисел, разделенных пробелами, и возвращает список длин этих чисел (в символьном представлении). В строке не только числа но и символы.\n",
    "# Пример ввода: \"50 123 7 str\"\n",
    "# Пример вывода: [2, 3, 1]\n",
    "\n",
    "# 2.2 Напишите программу, которая принимает список длин чисел (результат задачи 1) и возвращает словарь, где ключи — длины, а значения — количество их вхождений.\n",
    "# Пример ввода: [2, 3, 1]\n",
    "# Пример вывода: {2: 1, 3: 1, 1: 1}\n",
    "\n",
    "# 2.3 Напишите программу, которая принимает словарь (результат задачи 2) и возвращает наименьшую длину с максимальным количеством вхождений.\n",
    "# Пример ввода: {2: 1, 3: 1, 1: 1}\n",
    "# Пример вывода: 1\n",
    "\n",
    "input_str = \"50 123 7 str to int end floot\"\n",
    "\n",
    "def str_to_int(inp_str):\n",
    "  split_list = inp_str.split()\n",
    "  res = []\n",
    "  for item in split_list:\n",
    "    try:\n",
    "      num = float(item)\n",
    "      res.append(int(num) if num.is_integer() else num)\n",
    "    except ValueError:\n",
    "      res.append(item)\n",
    "  print(res)\n",
    "  return res\n",
    "\n",
    "# ------------\n",
    "def count_lengths(lst):\n",
    "  result = {}\n",
    "  for i in range(len(lst)):\n",
    "    if type(lst[i]) == str:\n",
    "      result[lst[i]] = len(lst[i])\n",
    "    else:\n",
    "      list_map_num = list(map(int, str(lst[i])))\n",
    "      result[lst[i]] = len(list_map_num)\n",
    "  print(result, \"count_Lenghts\")\n",
    "  return result\n",
    "\n",
    "\n",
    "# -------------\n",
    "def find_min_max_key(dct):\n",
    "    max_count = max(dct.values())\n",
    "    candidates = [key for key, val in dct.items() if val == max_count]\n",
    "    return min(candidates)\n",
    "\n",
    "input_dict = count_lengths(str_to_int(input_str))\n",
    "result = find_min_max_key(input_dict)\n",
    "print(result)"
   ]
  },
  {
   "cell_type": "code",
   "execution_count": 1,
   "id": "e56dffe5",
   "metadata": {},
   "outputs": [
    {
     "name": "stdout",
     "output_type": "stream",
     "text": [
      "['123', '45', 6]\n",
      "{'123': 6, '45': 9, 6: 6}\n",
      "['45']\n"
     ]
    }
   ],
   "source": [
    "# 3.1 Напишите программу, которая принимает строку целых чисел, разделенных пробелами, и возвращает список этих чисел. без метода split\n",
    "# Пример ввода: \"123 45 6\"\n",
    "# Пример вывода: [123, 45, 6]\n",
    "\n",
    "# 3.2 Напишите программу, которая принимает список целых чисел (результат задачи 1) и возвращает словарь, где ключи — числа из списка, а значения — сумма их цифр.\n",
    "# Пример ввода: [123, 45, 6]\n",
    "# Пример вывода: {123: 6, 45: 9, 6: 6}\n",
    "\n",
    "# 3.3 Напишите программу, которая принимает словарь (результат задачи 2) и возвращает ключ с максимальным значением. Если таких ключей несколько, верните первый.\n",
    "# Пример ввода: {123: 6, 45: 9, 6: 6}\n",
    "# Пример вывода: 45\n",
    "\n",
    "input_str_123 = \"123 45 6\"\n",
    "def str_to_list(str_num):\n",
    "  candidates = [i for i in str_num]\n",
    "  result = []\n",
    "  accumulator = \"\"\n",
    "  for idx, val in enumerate(candidates):\n",
    "    if val != ' ':\n",
    "      accumulator += val\n",
    "    else:\n",
    "      if accumulator:\n",
    "        result.append(accumulator)\n",
    "        accumulator = \"\"\n",
    "  if candidates:\n",
    "    result.append(int(accumulator))\n",
    "\n",
    "  return result\n",
    "print(str_to_list(input_str_123))\n",
    "\n",
    "res_fn_1 = str_to_list(input_str_123)\n",
    "\n",
    "# sum \n",
    "def sum_digits(num):\n",
    "    return sum(map(int, str(num)))\n",
    "def create_sum_dict(lst):\n",
    "    return {num: sum_digits(num) for num in lst}\n",
    "  \n",
    "result = create_sum_dict(res_fn_1)\n",
    "print(result)  \n",
    "\n",
    "# max значение.\n",
    "def find_max_key(dct):\n",
    "  max_count = max(dct.values()) \n",
    "  return [idx for idx, val in dct.items() if max_count == val]\n",
    "\n",
    "print(find_max_key(result)) "
   ]
  },
  {
   "cell_type": "code",
   "execution_count": 6,
   "id": "b474f76e",
   "metadata": {},
   "outputs": [
    {
     "name": "stdout",
     "output_type": "stream",
     "text": [
      "[2, 4, 6, 12]\n",
      "3\n",
      "HiHiHi\n",
      "2  val\n",
      "3  val\n"
     ]
    },
    {
     "data": {
      "text/plain": [
       "{'a': 3.0, 'b': 4.5}"
      ]
     },
     "execution_count": 6,
     "metadata": {},
     "output_type": "execute_result"
    }
   ],
   "source": [
    "# 4.1 Напишите функцию multiply_list, которая принимает целое число n и список целых чисел lst. Функция должна вернуть новый список, где каждый элемент исходного списка умножен на n.\n",
    "# multiply_list(2, [1, 2, 3]))  \n",
    "# Output: [2, 4, 6]\n",
    "\n",
    "# 4.2 Напишите функцию repeat_string, которая принимает строку s и кортеж tpl. Функция должна вернуть строку, повторенную столько раз, сколько элементов в кортеже.\n",
    "# repeat_string(\"Hi\", (1, 2, 3))\n",
    "# Output: \"HiHiHi\"\n",
    "\n",
    "# 4.3 Типы данных: dict, float -Напишите функцию multiply_dict_values, которая принимает словарь d (где значения — числа) и число factor типа float. Функция должна вернуть новый словарь, где каждое значение умножено на factor.\n",
    "def multiply_list(n: int, lst: list) -> list: \n",
    "  result = []\n",
    "  mult = 0\n",
    "  flag = True\n",
    "  for i in lst:\n",
    "    \n",
    "    result.append(i * n)\n",
    "    if flag != False:\n",
    "      for j in range(len(lst)):\n",
    "        mult += n * lst[j]\n",
    "      flag = False\n",
    "  if sum(lst) * n == mult:\n",
    "    result.append(mult)\n",
    "  return result\n",
    "print(multiply_list(2, [1,2,3]))\n",
    "\n",
    "\n",
    "\n",
    "def repeat_string(s: str, tpl: tuple) -> str:\n",
    "  print(len(tpl))\n",
    "  n = s * len(tpl)\n",
    "  word = \"\"\n",
    "  ret = []\n",
    "  dct = {\"Hi\", \"HiHi\"}\n",
    "  for i in n:\n",
    "    word += i\n",
    "    if word in dct:\n",
    "      ret.append(word)\n",
    "      # word = \"\"\n",
    "  return \"\".join(ret)\n",
    "\n",
    "print(repeat_string(\"Hi\", (1, 2, 3)))  # Output: \"HiHiHi\"\n",
    "\n",
    "dct = {'a': 2, 'b': 3}\n",
    "flo = 1.5\n",
    "def multiply_dict_values(dct, factor):\n",
    "  result = {}\n",
    "  for key, val in dct.items():\n",
    "    result[key] = val * factor\n",
    "    print(val, \" val\")\n",
    "  return result\n",
    "\n",
    "multiply_dict_values(dct, flo)  # Output: {'a': 3.0, 'b': 4.5}"
   ]
  },
  {
   "cell_type": "code",
   "execution_count": 7,
   "id": "657f26f5",
   "metadata": {},
   "outputs": [
    {
     "name": "stdout",
     "output_type": "stream",
     "text": [
      "Hello world !\n",
      "25.0\n",
      "{'name': 'Alice', 'age': 30}\n"
     ]
    }
   ],
   "source": [
    "# 5.1 Объединение списка строк с разделителем (list, str) Напишите функцию join_strings, которая принимает список строк strings и строку-разделитель separator. Функция должна объединить элементы списка в одну строку, разделяя их separator.\n",
    "\n",
    "# 5.2 Среднее значение кортежа чисел (tuple, float)Напишите функцию average_tuple, которая принимает кортеж чисел numbers и возвращает их среднее значение, округлённое до двух знаков после запятой.\n",
    "\n",
    "# 5.3  Создание словаря из двух списков (list, dict) Напишите функцию create_dict, которая принимает два списка: keys (ключи) и values (значения). Функция должна вернуть словарь, где каждый ключ из keys соответствует значению из values. Если списки разной длины, используйте длину более короткого списка.\n",
    "\n",
    "def join_strings(strings: list, separator: str) -> str:\n",
    "    return separator.join(strings)\n",
    "print(join_strings([\"Hello\", \"world\", \"!\"], \" \"))  # Output: \"Hello world !\"\n",
    "\n",
    "\n",
    "def average_tuple(numbers: tuple) -> float:\n",
    "    return round(sum(numbers) / len(numbers), 2)\n",
    "print(average_tuple((10, 20, 30, 40)))  # Output: 25.0\n",
    "\n",
    "\n",
    "def create_dict(keys: list, values: list) -> dict:\n",
    "    return dict(zip(keys, values))\n",
    "print(create_dict([\"name\", \"age\"], [\"Alice\", 30]))  # Output: {'name': 'Alice', 'age': 30}\n",
    "\n"
   ]
  }
 ],
 "metadata": {
  "kernelspec": {
   "display_name": "venv",
   "language": "python",
   "name": "python3"
  },
  "language_info": {
   "codemirror_mode": {
    "name": "ipython",
    "version": 3
   },
   "file_extension": ".py",
   "mimetype": "text/x-python",
   "name": "python",
   "nbconvert_exporter": "python",
   "pygments_lexer": "ipython3",
   "version": "3.12.6"
  }
 },
 "nbformat": 4,
 "nbformat_minor": 5
}
