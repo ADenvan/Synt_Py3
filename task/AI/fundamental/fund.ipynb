{
 "cells": [
  {
   "cell_type": "code",
   "execution_count": null,
   "id": "bdf4c2a6",
   "metadata": {},
   "outputs": [],
   "source": [
    "# /--task/fund\n",
    "from task_fund import task_ai_fund\n",
    "task_ai = task_ai_fund\n"
   ]
  },
  {
   "cell_type": "code",
   "execution_count": null,
   "id": "b3122d94",
   "metadata": {},
   "outputs": [
    {
     "name": "stdout",
     "output_type": "stream",
     "text": [
      "True\n"
     ]
    }
   ],
   "source": [
    "# 1 Определить, является ли строка палиндромом (читается одинаково слева направо и справа налево\n",
    "word_str = \"radar\"\n",
    "\n",
    "def paly(s):\n",
    "  st = s.lower().replace(\" \", \"\")\n",
    "  return st == st[::-1]\n",
    "print(paly(word_str))\n"
   ]
  },
  {
   "cell_type": "code",
   "execution_count": 130,
   "id": "df7ec136",
   "metadata": {},
   "outputs": [
    {
     "name": "stdout",
     "output_type": "stream",
     "text": [
      "[0, 1, 3, 4, 5, 6, 7, 9, 10]\n"
     ]
    }
   ],
   "source": [
    "# 2. Отсортировать список чисел в порядке возрастания без использования встроенной функции sorted().\n",
    "from operator import itemgetter\n",
    "nums = [3, 1, 4, 0, 5, 7, 9, 6, 10]\n",
    "\n",
    "def quick_sotr(nums):\n",
    "  if len(nums) <= 0:\n",
    "    return nums\n",
    "  elem = nums[0]\n",
    "  left = list(filter(lambda x: x < elem, nums))\n",
    "  center = [i for i in nums if i == elem]\n",
    "  rigth = list(filter(lambda x: x > elem, nums))\n",
    "  \n",
    "  return quick_sotr(left) + center + quick_sotr(rigth)\n",
    "log = quick_sotr(nums)\n",
    "print(log)"
   ]
  },
  {
   "cell_type": "code",
   "execution_count": 3,
   "id": "e8671a6d",
   "metadata": {},
   "outputs": [
    {
     "data": {
      "text/plain": [
       "{'h': 1, 'e': 1, 'l': 2, 'o': 1}"
      ]
     },
     "execution_count": 3,
     "metadata": {},
     "output_type": "execute_result"
    }
   ],
   "source": [
    "# 3. Найти частоту каждого символа в строке и вернуть результат в виде словаря.\n",
    "# Ожидаемый результат: {'h': 1, 'e': 1, 'l': 2, 'o': 1}.\n",
    "txt = \"hello\"\n",
    "def char_frequency(txt):\n",
    "  requ = {}\n",
    "  for char in txt:\n",
    "    requ[char] = requ.get(char, 0) + 1\n",
    "  return requ\n",
    "char_frequency(txt)\n"
   ]
  },
  {
   "cell_type": "code",
   "execution_count": null,
   "id": "cd43bee9",
   "metadata": {},
   "outputs": [],
   "source": [
    "# 4. Найти все простые числа до заданного числа n. (Решето Эратосфена)\n",
    "# Ожидаемый результат: [2, 3, 5, 7].\n",
    "n = 10\n",
    "def sieve_of_eratosthenes(n):\n",
    "  sieve = [True] * (n+1)\n",
    "  sieve[0] = sieve[1] = False\n",
    "  for i in range(2, int(n**0.5)):\n",
    "    if sieve[i]:\n",
    "      for j in range(i*i, n+1, i):\n",
    "        sieve[j] = False\n",
    "  return [i for i, is_prime in enumerate(sieve) if is_prime]\n",
    "# print(sieve_of_eratosthenes(n))\n",
    "\n",
    "def simp_num(n):\n",
    "  arr = []\n",
    "  k = 0\n",
    "  for i in range(2, n+1):\n",
    "    for j in range(2, i):\n",
    "      if i %  j== 0:\n",
    "        k = k + 1\n",
    "    if k == 0:\n",
    "      arr.append(i)\n",
    "    else:\n",
    "      k = 0\n",
    "  return arr\n"
   ]
  },
  {
   "cell_type": "code",
   "execution_count": 3,
   "id": "d0b8ffe2",
   "metadata": {},
   "outputs": [],
   "source": [
    "#-5. Сгенерировать первые n чисел Фибоначчи.\n",
    "# Ожидаемый результат: [0, 1, 1, 2, 3].\n",
    "n = 10\n",
    "def fibonacci(n):\n",
    "    fib = [0, 1]\n",
    "    if n <= 2:\n",
    "        return fib[:n]\n",
    "    for _ in range(n-2):\n",
    "        fib.append(fib[-1] + fib[-2])\n",
    "    return fib"
   ]
  },
  {
   "cell_type": "code",
   "execution_count": null,
   "id": "2d567cad",
   "metadata": {},
   "outputs": [],
   "source": [
    "# 6. Написать функцию для вычисления факториала числа с использованием рекурсии. Обработать случай отрицательных чисел.\n",
    "# Ожидаемый результат: 120.\n",
    "n = 5\n",
    "def factorial(n):\n",
    "    if n < 0:\n",
    "        raise ValueError(\"Факториал отрицательного числа не определен\")\n",
    "    if n == 0:\n",
    "        return 1\n",
    "    return n * factorial(n-1)\n",
    "\n",
    "print(factorial(5))  # Вывод: 120"
   ]
  },
  {
   "cell_type": "code",
   "execution_count": 20,
   "id": "a4fe729e",
   "metadata": {},
   "outputs": [
    {
     "name": "stdout",
     "output_type": "stream",
     "text": [
      "(2, 5)\n"
     ]
    }
   ],
   "source": [
    "# 7. Написать функцию, которая принимает имя файла и возвращает кортеж (количество строк, количество слов).\n",
    "# Входные данные: Файл text.txt с содержимым: Hello world Python is great\n",
    "# Ожидаемый результат: (2, 5).\n",
    "file_fund = './file_fund/text.txt'\n",
    "\n",
    "def file_stats(filename):\n",
    "    with open(filename, 'r') as file:\n",
    "        lines = file.readlines()\n",
    "        line_count = len(lines)\n",
    "        word_count = sum(len(line.split()) for line in lines)\n",
    "    return (line_count, word_count)\n",
    "\n",
    "log = file_stats(file_fund)\n",
    "print(log)  # Вывод: (2, 5)\n"
   ]
  },
  {
   "cell_type": "code",
   "execution_count": null,
   "id": "b2603723",
   "metadata": {},
   "outputs": [
    {
     "name": "stdout",
     "output_type": "stream",
     "text": [
      "280\n"
     ]
    }
   ],
   "source": [
    "# 8. Реализовать класс BankAccount с методами: deposit(amount) (внести средства), withdraw(amount) (снять средства), get_balance() (вернуть текущий баланс).\n",
    "class BankAccount:\n",
    "    def __init__(self, initial_balance):\n",
    "        self.balance = initial_balance\n",
    "    \n",
    "    def deposit(self, amount):\n",
    "        self.balance += amount\n",
    "    \n",
    "    def withdraw(self, amount):\n",
    "        if amount > self.balance:\n",
    "            raise ValueError(\"Недостаточно средств\")\n",
    "        self.balance -= amount\n",
    "    \n",
    "    def get_balance(self):\n",
    "        return self.balance\n",
    "\n",
    "account = BankAccount(100)\n",
    "account.deposit(50)\n",
    "account.withdraw(30)\n",
    "print(account.get_balance())  # Вывод: 120\n"
   ]
  },
  {
   "cell_type": "code",
   "execution_count": 47,
   "id": "eed2bf76",
   "metadata": {},
   "outputs": [
    {
     "data": {
      "text/plain": [
       "{3, 4}"
      ]
     },
     "execution_count": 47,
     "metadata": {},
     "output_type": "execute_result"
    }
   ],
   "source": [
    "# 9. Найти общие элементы двух списков, используя множества.\n",
    "list1 = [1, 2, 3, 4]\n",
    "list2 = [3, 4, 5, 6]\n",
    "def find_intersection(list1, list2):\n",
    "  return set(list1) & set(list2)\n",
    "find_intersection(list1, list2)\n"
   ]
  },
  {
   "cell_type": "code",
   "execution_count": 6,
   "id": "596688b6",
   "metadata": {},
   "outputs": [
    {
     "name": "stdout",
     "output_type": "stream",
     "text": [
      "Функция выполнилась за 1.3276 секунд(ы) \n",
      " + result:4999999850000001: args:(100000000,): kwargs:{}\n",
      "Результат: 4999999850000001\n"
     ]
    }
   ],
   "source": [
    "# 10. Создать декоратор, который измеряет время выполнения функции в секундах.\n",
    "import time\n",
    "\n",
    "def time_decorator(func):\n",
    "    def wrapper(*args, **kwargs):\n",
    "        start = time.time()\n",
    "        result = func(*args, **kwargs)\n",
    "        end = time.time()\n",
    "        print(f\"Функция выполнилась за {end - start:.4f} секунд(ы) \\n + result:{result}: args:{args}: kwargs:{kwargs}\")\n",
    "        return result\n",
    "    return wrapper\n",
    "\n",
    "@time_decorator\n",
    "def sum_range(n):\n",
    "    return sum(range(1, n-1))\n",
    "\n",
    "print(\"Результат:\", sum_range(100000000))  # Пример вывода\n",
    "n = 100\n"
   ]
  },
  {
   "cell_type": "code",
   "execution_count": null,
   "id": "9d2a2f3b",
   "metadata": {},
   "outputs": [
    {
     "name": "stdout",
     "output_type": "stream",
     "text": [
      "10\n"
     ]
    }
   ],
   "source": [
    "# 11. Создать класс Stack, реализующий основные операции стека: push, pop, peek и is_empty.\n",
    "# Создаем класс Stack для реализации структуры данных \"стек\"\n",
    "class Stack:\n",
    "    # Конструктор класса, инициализирует пустой список для хранения элементов стека\n",
    "    def __init__(self):\n",
    "        self.items = []  # items будет хранить элементы стека в виде списка\n",
    "\n",
    "    # Метод push добавляет элемент на вершину стека\n",
    "    def push(self, item):  # Здесь параметр должен быть item (в единственном числе)\n",
    "        self.items.append(item)  # append() добавляет элемент в конец списка (верхушку стека)\n",
    "\n",
    "    # Метод pop удаляет и возвращает элемент с вершины стека\n",
    "    def pop(self):\n",
    "        if not self.is_empty():  # Проверяем, не пуст ли стек\n",
    "            return self.items.pop()  # pop() удаляет последний элемент списка (LIFO)\n",
    "        # Если стек пуст, вызываем ошибку \n",
    "        raise IndexError(\"stack empty\")\n",
    "\n",
    "    # Метод peek возвращает элемент с вершины стека без удаления\n",
    "    def peek(self):\n",
    "        if not self.is_empty():  # Проверяем, не пуст ли стек\n",
    "            return self.items[-1]  # Возвращаем последний элемент списка\n",
    "        raise IndexError(\"stack empty\")\n",
    "\n",
    "    # Метод is_empty проверяет, пуст ли стек\n",
    "    def is_empty(self):\n",
    "        return len(self.items) == 0  # True, если длина списка равна 0\n",
    "\n",
    "\n",
    "# Пример использования класса Stack\n",
    "stack = Stack()  # Создаем экземпляр стека\n",
    "stack.push(10)   # Добавляем 10 в стек -> [10]\n",
    "stack.push(30)   # Добавляем 30 в стек -> [10, 30]\n",
    "stack.pop()      # Удаляем 30 из стека -> [10]\n",
    "print(stack.peek())  # Смотрим верхний элемент стека (10) и выводим его \n",
    "\n"
   ]
  },
  {
   "cell_type": "code",
   "execution_count": null,
   "id": "0bac8889",
   "metadata": {},
   "outputs": [
    {
     "name": "stdout",
     "output_type": "stream",
     "text": [
      "2\n"
     ]
    }
   ],
   "source": [
    "# 12. Написать функцию бинарного поиска элемента в отсортированном списке.\n",
    "def binary_search(nums, target):  \n",
    "    left, right = 0, len(nums) - 1  \n",
    "    while left <= right:  \n",
    "        mid = (left + right) // 2 \n",
    "        if nums[mid] == target:  \n",
    "            return mid  \n",
    "        elif nums[mid] < target:  \n",
    "            left = mid + 1  \n",
    "        else:  \n",
    "            right = mid - 1  \n",
    "    return -1  \n",
    "            \n",
    "print(binary_search([1, 3, 5, 7, 9], 5))  # Вывод: 2 "
   ]
  },
  {
   "cell_type": "code",
   "execution_count": 4,
   "id": "acce54c9",
   "metadata": {},
   "outputs": [
    {
     "name": "stdout",
     "output_type": "stream",
     "text": [
      "[4, 2, 5, 1, 3]\n"
     ]
    }
   ],
   "source": [
    "# 13. Реализовать обход бинарного дерева в порядке \"in-order\" (левый узел → корень → правый узел).\n",
    "# Ожидаемый результат: [4, 2, 5, 1, 3].\n",
    "# Пример создания бинарного дерева:\n",
    "#       1\n",
    "#     /   \\\n",
    "#    2     3\n",
    "#   / \\\n",
    "#  4   5\n",
    "\n",
    "# Класс TreeNode представляет узел бинарного дерева\n",
    "class TreeNode:\n",
    "    # Конструктор класса. Инициализирует узел с заданным значением и ссылками на левого/правого потомков\n",
    "    def __init__(self, val=0, left=None, right=None):\n",
    "        self.val = val       # Значение узла (по умолчанию 0)\n",
    "        self.left = left     # Левый потомок (по умолчанию None)\n",
    "        self.right = right   # Правый потомок (по умолчанию None)\n",
    "\n",
    "# Функция для обхода дерева в глубину (Depth-First Search) в in-order порядке\n",
    "def dfs_in_order(root):\n",
    "    result = []  # Список для сохранения результатов обхода\n",
    "    \n",
    "    # Вложенная рекурсивная функция для обхода дерева\n",
    "    def traverse(node):\n",
    "        if node:  # Проверяем существование узла (базовый случай рекурсии)\n",
    "            traverse(node.left)        # Рекурсивно обходим левое поддерево\n",
    "            result.append(node.val)    # Добавляем значение текущего узла в результат\n",
    "            traverse(node.right)      # Рекурсивно обходим правое поддерево\n",
    "    \n",
    "    traverse(root)  # Запускаем обход с корневого узла\n",
    "    return result   # Возвращаем итоговый список значений\n",
    "\n",
    "root = TreeNode(1)  # Корневой узел со значением 1\n",
    "root.left = TreeNode(2, TreeNode(4), TreeNode(5))  # Левый потомок 2 с потомками 4 и 5\n",
    "root.right = TreeNode(3)  # Правый потомок 3\n",
    "\n",
    "# Вызов функции in-order обхода. Порядок будет: ЛЕВОЕ поддерево -> УЗЕЛ -> ПРАВОЕ поддерево\n",
    "print(dfs_in_order(root))  # Вывод: [4, 2, 5, 1, 3] "
   ]
  },
  {
   "cell_type": "code",
   "execution_count": 12,
   "id": "db9b23d8",
   "metadata": {},
   "outputs": [
    {
     "name": "stdout",
     "output_type": "stream",
     "text": [
      "{'name': 'Alice', 'age': 30, 'city': 'Moscow'}\n"
     ]
    }
   ],
   "source": [
    "# 14. Сохранить словарь в JSON-файл и загрузить его обратно.\n",
    "# Вывод: {'name': 'Alice', 'age': 30, 'city': 'Moscow'}\n",
    "import json  \n",
    "\n",
    "def save_to_json(data, filename):  \n",
    "    with open(filename, 'w') as file:  \n",
    "        json.dump(data, file)  \n",
    "\n",
    "def load_from_json(filename):  \n",
    "    with open(filename, 'r') as file:  \n",
    "        return json.load(file)  \n",
    "\n",
    "data = {\"name\": \"Alice\", \"age\": 30, \"city\": \"Moscow\"}  \n",
    "save_to_json(data, \"./file_fund/data.json\")\n",
    "loaded_data = load_from_json(\"./file_fund/data.json\")\n",
    "print(loaded_data)"
   ]
  },
  {
   "cell_type": "code",
   "execution_count": 15,
   "id": "63472820",
   "metadata": {},
   "outputs": [
    {
     "name": "stdout",
     "output_type": "stream",
     "text": [
      "5.0\n",
      "Деление на ноль невозможно\n",
      "5.0\n",
      "Некорректный тип данных\n"
     ]
    }
   ],
   "source": [
    "# 15. Написать функцию, которая обрабатывает деление на ноль и неверный тип данных.\n",
    "def safe_divide(a, b):  \n",
    "    try:  \n",
    "        return float(a) / float(b)  \n",
    "    except ZeroDivisionError:  \n",
    "        return \"Деление на ноль невозможно\"  \n",
    "    except (ValueError, TypeError):  \n",
    "        return \"Некорректный тип данных\"  \n",
    "\n",
    "print(safe_divide(10, 2))    # 5.0  \n",
    "print(safe_divide(5, 0))     # Деление на ноль невозможно  \n",
    "print(safe_divide(\"10\", 2))  # 5.0  \n",
    "print(safe_divide(\"abc\", 2)) # Некорректный тип данных  "
   ]
  },
  {
   "cell_type": "code",
   "execution_count": 18,
   "id": "d92240b4",
   "metadata": {},
   "outputs": [
    {
     "name": "stdout",
     "output_type": "stream",
     "text": [
      "10 -> 30\n"
     ]
    },
    {
     "data": {
      "text/plain": [
       "'# class node\\n  # Значение, которое хранит узел\\n  # Ссылка на следующий узел (по умолчанию None)\\n# class LinkedList\\n    # def __init__ \\n        # Начало списка. Если список пуст — `head` = None\\n    # def append(\\n        # Создаётся новый узел с переданным значением\\n        # if  Если список пуст (head == None)\\n            # Новый узел становится первым элементом  \\n            # Завершение метода\\n        # Иначе начинаем с первого элемента\\n        # while Пока есть следующий узел...\\n            # ...переходим к нему\\n        # Вставляем новый узел в конец списка\\n\\n    # def delete(  \\n        # if  Если список пуст, ничего не делаем\\n            # Завершение метода\\n        # if Если удаляемый элемент — первый\\n            # Сдвигаем `head` на следующий элемент\\n            # Завершение метода\\n        # Иначе начинаем обход списка\\n        # while  Пока есть следующий узел...\\n            # if  Если нашли нужный элемент...\\n                # Пропускаем его (удаляем из цепочки)\\n            # Переход к следующему узлу\\n    # def display(self):  \\n            # Список для хранения значений\\n            # Начинаем с головы списка\\n            # while # Пока текущий узел не None\\n                # Добавляем значение в список (строкой)\\n                # Переходим к следующему узлу\\n            # Выводим все значения через \" -> '"
      ]
     },
     "execution_count": 18,
     "metadata": {},
     "output_type": "execute_result"
    }
   ],
   "source": [
    "# 16. Создать класс Node и класс LinkedList для реализации односвязного списка с методами добавления, удаления и поиска элементов.\n",
    "class Node:  \n",
    "    \"\"\"Создаётся класс Node — узел списка. Каждый узел содержит данные и ссылку на следующий узел.\"\"\"\n",
    "    def __init__(self, data):  \n",
    "        self.data = data          # Значение, которое хранит узел\n",
    "        self.next = None          # Ссылка на следующий узел (по умолчанию None)\n",
    " \n",
    "\n",
    "class LinkedList:  \n",
    "    \"\"\"класс LinkedList — собственно односвязный список, работающий на базе узлов (Node).\"\"\"\n",
    "    def __init__(self):  \n",
    "        self.head = None  # Начало списка. Если список пуст — `head` = None\n",
    "\n",
    "    def append(self, data):  \n",
    "        new_node = Node(data)  # Создаётся новый узел с переданным значением\n",
    "        if not self.head:  # Если список пуст (head == None)\n",
    "            self.head = new_node  # Новый узел становится первым элементом  \n",
    "            return  # Завершение метода\n",
    "        current = self.head  # Иначе начинаем с первого элемента\n",
    "        while current.next:  # Пока есть следующий узел...\n",
    "            current = current.next  # ...переходим к нему\n",
    "        current.next = new_node  # Вставляем новый узел в конец списка\n",
    "\n",
    "    def delete(self, data):  \n",
    "        if not self.head:  # Если список пуст, ничего не делаем\n",
    "            return  \n",
    "        if self.head.data == data:  # Если удаляемый элемент — первый\n",
    "            self.head = self.head.next  # Сдвигаем `head` на следующий элемент\n",
    "            return  \n",
    "        current = self.head            # Иначе начинаем обход списка\n",
    "        while current.next:            # Пока есть следующий узел...\n",
    "            if current.next.data == data:  # Если нашли нужный элемент...\n",
    "                current.next = current.next.next  # Пропускаем его (удаляем из цепочки)\n",
    "                return  \n",
    "            current = current.next     # Переход к следующему узлу\n",
    "  \n",
    "\n",
    "    def display(self):  \n",
    "        elements = []             # Список для хранения значений\n",
    "        current = self.head       # Начинаем с головы списка\n",
    "        while current:            # Пока текущий узел не None\n",
    "            elements.append(str(current.data))  # Добавляем значение в список (строкой)\n",
    "            current = current.next              # Переходим к следующему узлу\n",
    "        print(\" -> \".join(elements))  # Выводим все значения через \" -> \"\n",
    "\n",
    "ll = LinkedList()  \n",
    "ll.append(10)  \n",
    "ll.append(20)  \n",
    "ll.append(30)  \n",
    "ll.delete(20)  \n",
    "ll.display()  # Вывод: 10 -> 30  \n",
    "\n",
    "\n",
    "\n",
    "\"\"\"# class node\n",
    "  # Значение, которое хранит узел\n",
    "  # Ссылка на следующий узел (по умолчанию None)\n",
    "# class LinkedList\n",
    "    # def __init__ \n",
    "        # Начало списка. Если список пуст — `head` = None\n",
    "    # def append(\n",
    "        # Создаётся новый узел с переданным значением\n",
    "        # if  Если список пуст (head == None)\n",
    "            # Новый узел становится первым элементом  \n",
    "            # Завершение метода\n",
    "        # Иначе начинаем с первого элемента\n",
    "        # while Пока есть следующий узел...\n",
    "            # ...переходим к нему\n",
    "        # Вставляем новый узел в конец списка\n",
    "        \n",
    "    # def delete(  \n",
    "        # if  Если список пуст, ничего не делаем\n",
    "            # Завершение метода\n",
    "        # if Если удаляемый элемент — первый\n",
    "            # Сдвигаем `head` на следующий элемент\n",
    "            # Завершение метода\n",
    "        # Иначе начинаем обход списка\n",
    "        # while  Пока есть следующий узел...\n",
    "            # if  Если нашли нужный элемент...\n",
    "                # Пропускаем его (удаляем из цепочки)\n",
    "            # Переход к следующему узлу\n",
    "    # def display(self):  \n",
    "            # Список для хранения значений\n",
    "            # Начинаем с головы списка\n",
    "            # while # Пока текущий узел не None\n",
    "                # Добавляем значение в список (строкой)\n",
    "                # Переходим к следующему узлу\n",
    "            # Выводим все значения через \" -> \"\"\"\n",
    "\n"
   ]
  },
  {
   "cell_type": "code",
   "execution_count": null,
   "id": "9597edb9",
   "metadata": {},
   "outputs": [
    {
     "name": "stdout",
     "output_type": "stream",
     "text": [
      "True\n",
      "False\n"
     ]
    }
   ],
   "source": [
    "# 17. Написать функцию для проверки корректности email-адреса с помощью регулярного выражения.\n",
    "# email = \"user@example.com\" (валидный). \n",
    "# email = \"invalid_email\" (невалидный).Ожидаемый результат: True и False соответственно.\n",
    "import re  \n",
    "\n",
    "def is_valid_email(email):  \n",
    "    pattern = r'^[a-zA-Z0-9_.+-]+@[a-zA-Z0-9-]+\\.[a-zA-Z0-9-.]+$'  \n",
    "    return bool(re.match(pattern, email))  \n",
    "\n",
    "print(is_valid_email(\"user@example.com\"))  # True  \n",
    "print(is_valid_email(\"invalid_email\"))     # False  "
   ]
  },
  {
   "cell_type": "code",
   "execution_count": 21,
   "id": "5222841b",
   "metadata": {},
   "outputs": [
    {
     "name": "stdout",
     "output_type": "stream",
     "text": [
      "26\n"
     ]
    }
   ],
   "source": [
    "# 18. Используя map, filter и reduce, преобразовать список чисел:\n",
    "\"\"\" Увеличить каждый элемент на 10.\n",
    "Оставить только четные числа.\n",
    "Найти их сумму.\n",
    "Входные данные: Список numbers = [1, 2, 3, 4, 5].\n",
    "Ожидаемый результат: 36 (после преобразований: [12, 14] → 12 + 14 = 26). \"\"\"\n",
    "\n",
    "from functools import reduce\n",
    "numbers = [1,2,3,4,5]\n",
    "mapped = map(lambda x: x + 10, numbers)\n",
    "filtered = filter(lambda x: x % 2 == 0, mapped)\n",
    "summed = reduce(lambda a, b: a + b, filtered, 0)\n",
    "print(summed)"
   ]
  },
  {
   "cell_type": "code",
   "execution_count": 27,
   "id": "4101fb61",
   "metadata": {},
   "outputs": [
    {
     "name": "stdout",
     "output_type": "stream",
     "text": [
      "31\n"
     ]
    }
   ],
   "source": [
    "# 19. Написать функцию, которая принимает две даты и возвращает разницу между ними в днях.\n",
    "from datetime import datetime\n",
    "def days_between(date_1, date_2):\n",
    "  d1 = datetime.strptime(date_1, \"%Y-%m-%d\")\n",
    "  d2 = datetime.strptime(date_2, \"%Y-%m-%d\")\n",
    "  delta = abs(d2 -d1)\n",
    "  return delta.days\n",
    "print(days_between(\"2023-01-01\", \"2023-02-01\"))"
   ]
  }
 ],
 "metadata": {
  "kernelspec": {
   "display_name": "venv",
   "language": "python",
   "name": "python3"
  },
  "language_info": {
   "codemirror_mode": {
    "name": "ipython",
    "version": 3
   },
   "file_extension": ".py",
   "mimetype": "text/x-python",
   "name": "python",
   "nbconvert_exporter": "python",
   "pygments_lexer": "ipython3",
   "version": "3.12.6"
  }
 },
 "nbformat": 4,
 "nbformat_minor": 5
}
