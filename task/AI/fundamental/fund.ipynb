{
 "cells": [
  {
   "cell_type": "code",
   "execution_count": null,
   "id": "bdf4c2a6",
   "metadata": {},
   "outputs": [],
   "source": [
    "# /--task/fund\n",
    "from task_fund import task_ai_fund\n",
    "task_ai = task_ai_fund\n"
   ]
  },
  {
   "cell_type": "code",
   "execution_count": null,
   "id": "b3122d94",
   "metadata": {},
   "outputs": [
    {
     "name": "stdout",
     "output_type": "stream",
     "text": [
      "True\n"
     ]
    }
   ],
   "source": [
    "# 1 Определить, является ли строка палиндромом (читается одинаково слева направо и справа налево\n",
    "word_str = \"radar\"\n",
    "\n",
    "def paly(s):\n",
    "  st = s.lower().replace(\" \", \"\")\n",
    "  return st == st[::-1]\n",
    "print(paly(word_str))\n"
   ]
  },
  {
   "cell_type": "code",
   "execution_count": 130,
   "id": "df7ec136",
   "metadata": {},
   "outputs": [
    {
     "name": "stdout",
     "output_type": "stream",
     "text": [
      "[0, 1, 3, 4, 5, 6, 7, 9, 10]\n"
     ]
    }
   ],
   "source": [
    "# 2. Отсортировать список чисел в порядке возрастания без использования встроенной функции sorted().\n",
    "from operator import itemgetter\n",
    "nums = [3, 1, 4, 0, 5, 7, 9, 6, 10]\n",
    "\n",
    "def quick_sotr(nums):\n",
    "  if len(nums) <= 0:\n",
    "    return nums\n",
    "  elem = nums[0]\n",
    "  left = list(filter(lambda x: x < elem, nums))\n",
    "  center = [i for i in nums if i == elem]\n",
    "  rigth = list(filter(lambda x: x > elem, nums))\n",
    "  \n",
    "  return quick_sotr(left) + center + quick_sotr(rigth)\n",
    "log = quick_sotr(nums)\n",
    "print(log)"
   ]
  },
  {
   "cell_type": "code",
   "execution_count": 3,
   "id": "e8671a6d",
   "metadata": {},
   "outputs": [
    {
     "data": {
      "text/plain": [
       "{'h': 1, 'e': 1, 'l': 2, 'o': 1}"
      ]
     },
     "execution_count": 3,
     "metadata": {},
     "output_type": "execute_result"
    }
   ],
   "source": [
    "# 3. Найти частоту каждого символа в строке и вернуть результат в виде словаря.\n",
    "# Ожидаемый результат: {'h': 1, 'e': 1, 'l': 2, 'o': 1}.\n",
    "txt = \"hello\"\n",
    "def char_frequency(txt):\n",
    "  requ = {}\n",
    "  for char in txt:\n",
    "    requ[char] = requ.get(char, 0) + 1\n",
    "  return requ\n",
    "char_frequency(txt)\n"
   ]
  },
  {
   "cell_type": "code",
   "execution_count": null,
   "id": "cd43bee9",
   "metadata": {},
   "outputs": [],
   "source": [
    "# 4. Найти все простые числа до заданного числа n. (Решето Эратосфена)\n",
    "# Ожидаемый результат: [2, 3, 5, 7].\n",
    "n = 10\n",
    "def sieve_of_eratosthenes(n):\n",
    "  sieve = [True] * (n+1)\n",
    "  sieve[0] = sieve[1] = False\n",
    "  for i in range(2, int(n**0.5)):\n",
    "    if sieve[i]:\n",
    "      for j in range(i*i, n+1, i):\n",
    "        sieve[j] = False\n",
    "  return [i for i, is_prime in enumerate(sieve) if is_prime]\n",
    "# print(sieve_of_eratosthenes(n))\n",
    "\n",
    "def simp_num(n):\n",
    "  arr = []\n",
    "  k = 0\n",
    "  for i in range(2, n+1):\n",
    "    for j in range(2, i):\n",
    "      if i %  j== 0:\n",
    "        k = k + 1\n",
    "    if k == 0:\n",
    "      arr.append(i)\n",
    "    else:\n",
    "      k = 0\n",
    "  return arr\n"
   ]
  },
  {
   "cell_type": "code",
   "execution_count": 3,
   "id": "d0b8ffe2",
   "metadata": {},
   "outputs": [],
   "source": [
    "#-5. Сгенерировать первые n чисел Фибоначчи.\n",
    "# Ожидаемый результат: [0, 1, 1, 2, 3].\n",
    "n = 10\n",
    "def fibonacci(n):\n",
    "    fib = [0, 1]\n",
    "    if n <= 2:\n",
    "        return fib[:n]\n",
    "    for _ in range(n-2):\n",
    "        fib.append(fib[-1] + fib[-2])\n",
    "    return fib"
   ]
  },
  {
   "cell_type": "code",
   "execution_count": null,
   "id": "2d567cad",
   "metadata": {},
   "outputs": [],
   "source": [
    "# 6. Написать функцию для вычисления факториала числа с использованием рекурсии. Обработать случай отрицательных чисел.\n",
    "# Ожидаемый результат: 120.\n",
    "n = 5\n",
    "def factorial(n):\n",
    "    if n < 0:\n",
    "        raise ValueError(\"Факториал отрицательного числа не определен\")\n",
    "    if n == 0:\n",
    "        return 1\n",
    "    return n * factorial(n-1)\n",
    "\n",
    "print(factorial(5))  # Вывод: 120"
   ]
  },
  {
   "cell_type": "code",
   "execution_count": 20,
   "id": "a4fe729e",
   "metadata": {},
   "outputs": [
    {
     "name": "stdout",
     "output_type": "stream",
     "text": [
      "(2, 5)\n"
     ]
    }
   ],
   "source": [
    "# 7. Написать функцию, которая принимает имя файла и возвращает кортеж (количество строк, количество слов).\n",
    "# Входные данные: Файл text.txt с содержимым: Hello world Python is great\n",
    "# Ожидаемый результат: (2, 5).\n",
    "file_fund = './file_fund/text.txt'\n",
    "\n",
    "def file_stats(filename):\n",
    "    with open(filename, 'r') as file:\n",
    "        lines = file.readlines()\n",
    "        line_count = len(lines)\n",
    "        word_count = sum(len(line.split()) for line in lines)\n",
    "    return (line_count, word_count)\n",
    "\n",
    "log = file_stats(file_fund)\n",
    "print(log)  # Вывод: (2, 5)\n"
   ]
  },
  {
   "cell_type": "code",
   "execution_count": null,
   "id": "b2603723",
   "metadata": {},
   "outputs": [
    {
     "name": "stdout",
     "output_type": "stream",
     "text": [
      "280\n"
     ]
    }
   ],
   "source": [
    "# 8. Реализовать класс BankAccount с методами: deposit(amount) (внести средства), withdraw(amount) (снять средства), get_balance() (вернуть текущий баланс).\n",
    "class BankAccount:\n",
    "    def __init__(self, initial_balance):\n",
    "        self.balance = initial_balance\n",
    "    \n",
    "    def deposit(self, amount):\n",
    "        self.balance += amount\n",
    "    \n",
    "    def withdraw(self, amount):\n",
    "        if amount > self.balance:\n",
    "            raise ValueError(\"Недостаточно средств\")\n",
    "        self.balance -= amount\n",
    "    \n",
    "    def get_balance(self):\n",
    "        return self.balance\n",
    "\n",
    "account = BankAccount(100)\n",
    "account.deposit(50)\n",
    "account.withdraw(30)\n",
    "print(account.get_balance())  # Вывод: 120\n"
   ]
  },
  {
   "cell_type": "code",
   "execution_count": 47,
   "id": "eed2bf76",
   "metadata": {},
   "outputs": [
    {
     "data": {
      "text/plain": [
       "{3, 4}"
      ]
     },
     "execution_count": 47,
     "metadata": {},
     "output_type": "execute_result"
    }
   ],
   "source": [
    "# 9. Найти общие элементы двух списков, используя множества.\n",
    "list1 = [1, 2, 3, 4]\n",
    "list2 = [3, 4, 5, 6]\n",
    "def find_intersection(list1, list2):\n",
    "  return set(list1) & set(list2)\n",
    "find_intersection(list1, list2)\n"
   ]
  }
 ],
 "metadata": {
  "kernelspec": {
   "display_name": "venv",
   "language": "python",
   "name": "python3"
  },
  "language_info": {
   "codemirror_mode": {
    "name": "ipython",
    "version": 3
   },
   "file_extension": ".py",
   "mimetype": "text/x-python",
   "name": "python",
   "nbconvert_exporter": "python",
   "pygments_lexer": "ipython3",
   "version": "3.12.6"
  }
 },
 "nbformat": 4,
 "nbformat_minor": 5
}
