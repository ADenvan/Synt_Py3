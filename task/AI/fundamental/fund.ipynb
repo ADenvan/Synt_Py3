{
 "cells": [
  {
   "cell_type": "code",
   "execution_count": null,
   "id": "bdf4c2a6",
   "metadata": {},
   "outputs": [],
   "source": [
    "from task_fund import task_ai_fund\n",
    "task_ai = task_ai_fund\n"
   ]
  },
  {
   "cell_type": "code",
   "execution_count": null,
   "id": "b3122d94",
   "metadata": {},
   "outputs": [
    {
     "name": "stdout",
     "output_type": "stream",
     "text": [
      "True\n"
     ]
    }
   ],
   "source": [
    "# --1 Определить, является ли строка палиндромом (читается одинаково слева направо и справа налево\n",
    "word_str = \"radar\"\n",
    "\n",
    "def paly(s):\n",
    "  st = s.lower().replace(\" \", \"\")\n",
    "  return st == st[::-1]\n",
    "print(paly(word_str))\n"
   ]
  },
  {
   "cell_type": "code",
   "execution_count": 130,
   "id": "df7ec136",
   "metadata": {},
   "outputs": [
    {
     "name": "stdout",
     "output_type": "stream",
     "text": [
      "[0, 1, 3, 4, 5, 6, 7, 9, 10]\n"
     ]
    }
   ],
   "source": [
    "# 2. Отсортировать список чисел в порядке возрастания без использования встроенной функции sorted().\n",
    "from operator import itemgetter\n",
    "nums = [3, 1, 4, 0, 5, 7, 9, 6, 10]\n",
    "\n",
    "def quick_sotr(nums):\n",
    "  if len(nums) <= 0:\n",
    "    return nums\n",
    "  elem = nums[0]\n",
    "  left = list(filter(lambda x: x < elem, nums))\n",
    "  center = [i for i in nums if i == elem]\n",
    "  rigth = list(filter(lambda x: x > elem, nums))\n",
    "  \n",
    "  return quick_sotr(left) + center + quick_sotr(rigth)\n",
    "log = quick_sotr(nums)\n",
    "print(log)"
   ]
  }
 ],
 "metadata": {
  "kernelspec": {
   "display_name": "venv",
   "language": "python",
   "name": "python3"
  },
  "language_info": {
   "codemirror_mode": {
    "name": "ipython",
    "version": 3
   },
   "file_extension": ".py",
   "mimetype": "text/x-python",
   "name": "python",
   "nbconvert_exporter": "python",
   "pygments_lexer": "ipython3",
   "version": "3.12.6"
  }
 },
 "nbformat": 4,
 "nbformat_minor": 5
}
